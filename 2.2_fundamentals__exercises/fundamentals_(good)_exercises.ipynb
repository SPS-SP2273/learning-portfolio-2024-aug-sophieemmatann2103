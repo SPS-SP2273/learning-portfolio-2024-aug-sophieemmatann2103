{
 "cells": [
  {
   "attachments": {},
   "cell_type": "markdown",
   "id": "123456",
   "metadata": {},
   "source": [
    "<div style=\"text-align:left;font-size:2em\"><span style=\"font-weight:bolder;font-size:1.25em\">SP2273 | Learning Portfolio</span><br><br><span style=\"font-weight:bold;color:darkred\">Fundamentals (Good) Exercises</span></div>"
   ]
  },
  {
   "cell_type": "markdown",
   "id": "7858d954-d4ca-45f2-a293-f4cd55ef2fb5",
   "metadata": {},
   "source": [
    "## Example 1 (Task 1)"
   ]
  },
  {
   "cell_type": "code",
   "execution_count": 6,
   "id": "b834c1fd-1e59-48b5-9d0b-380f58e3064c",
   "metadata": {},
   "outputs": [
    {
     "name": "stdin",
     "output_type": "stream",
     "text": [
      "What is your name? Sophie\n"
     ]
    },
    {
     "name": "stdout",
     "output_type": "stream",
     "text": [
      "How you doin Sophie!\n"
     ]
    }
   ],
   "source": [
    "NAME = input('What is your name?')\n",
    "print(f\"How you doin {NAME}!\")"
   ]
  },
  {
   "cell_type": "markdown",
   "id": "f54b4c74-5763-4fdc-b82f-e92f7125f21d",
   "metadata": {},
   "source": [
    "## Example 1 (Task 2)"
   ]
  },
  {
   "cell_type": "code",
   "execution_count": 9,
   "id": "9f119270-4224-4491-be3c-eee6c6dccbd6",
   "metadata": {},
   "outputs": [
    {
     "name": "stdin",
     "output_type": "stream",
     "text": [
      "What is your name? Sophie\n",
      "What is your age? 20\n"
     ]
    },
    {
     "name": "stdout",
     "output_type": "stream",
     "text": [
      "My name is Sophie and I am 20 years old.\n"
     ]
    }
   ],
   "source": [
    "NAME = input('What is your name?')\n",
    "AGE = input('What is your age?')\n",
    "print(f\"My name is {NAME} and I am {AGE} years old.\")"
   ]
  },
  {
   "cell_type": "markdown",
   "id": "a2e0ed34-f002-4787-954f-d81b7d1ffc5b",
   "metadata": {},
   "source": [
    "## Example 1 (Task 3)"
   ]
  },
  {
   "cell_type": "code",
   "execution_count": 37,
   "id": "13390a55-08de-45a7-95a0-0106f8104600",
   "metadata": {},
   "outputs": [
    {
     "name": "stdout",
     "output_type": "stream",
     "text": [
      "The value of pi to 2 decimal places is: 3.14\n",
      "The value of pi to 3 decimal places is: 3.142\n",
      "The value of pi to 4 decimal places is: 3.1416\n"
     ]
    }
   ],
   "source": [
    "def pi():\n",
    "    pi = 3.141592653589793\n",
    "    \n",
    "print(f'The value of pi to 2 decimal places is: {np.pi:.2f}')\n",
    "\n",
    "print(f'The value of pi to 3 decimal places is: {np.pi:.3f}')\n",
    "\n",
    "print(f'The value of pi to 4 decimal places is: {np.pi:.4f}')"
   ]
  },
  {
   "cell_type": "markdown",
   "id": "771b5f42-bcc1-4779-9ca1-b410cb4f09ba",
   "metadata": {},
   "source": [
    "## Example 1 (Task 4)"
   ]
  },
  {
   "cell_type": "code",
   "execution_count": 30,
   "id": "e0501331-0eef-4db4-8996-ee04cf622923",
   "metadata": {},
   "outputs": [
    {
     "name": "stdout",
     "output_type": "stream",
     "text": [
      "Apple      $ 0.99\n",
      "Banana     $ 0.59\n",
      "Orange     $ 1.29\n"
     ]
    }
   ],
   "source": [
    "# Define the items and their prices\n",
    "items = [\n",
    "    (\"Apple\", 0.99),\n",
    "    (\"Banana\", 0.59),\n",
    "    (\"Orange\", 1.29)\n",
    "]\n",
    "\n",
    "# Print each item and its price with the specified formatting\n",
    "for item, price in items:\n",
    "    print(f\"{item:<10} $ {price:>4.2f}\")"
   ]
  },
  {
   "cell_type": "markdown",
   "id": "ce1afc00-8378-490c-898b-08c4c78fb2ce",
   "metadata": {},
   "source": [
    "## Exercise 2(What is your grade?)"
   ]
  },
  {
   "cell_type": "code",
   "execution_count": 34,
   "id": "602c8a94-b0a8-43ef-adfe-655bdb68a7c1",
   "metadata": {},
   "outputs": [
    {
     "name": "stdin",
     "output_type": "stream",
     "text": [
      "Enter the student's score:  85\n"
     ]
    },
    {
     "name": "stdout",
     "output_type": "stream",
     "text": [
      "The student's letter grade is: A\n"
     ]
    }
   ],
   "source": [
    "try:\n",
    "    score = int(input(\"Enter the student's score: \"))\n",
    "    \n",
    "    if score < 0 or score > 100:\n",
    "        print(\"Error: Please enter a valid score between 0 and 100.\")\n",
    "    else:\n",
    "        print(\"The student's letter grade is: \", end='')\n",
    "        \n",
    "        if score >= 70 and score <= 100:\n",
    "            print('A')\n",
    "        elif score >= 50 and score < 70:\n",
    "            print('B')\n",
    "        elif score >= 35 and score <= 50:\n",
    "            print('C')\n",
    "        elif score >= 0 and score <= 34:\n",
    "            print('Fail')\n",
    "except ValueError:\n",
    "    print(\"Error: Please enter a valid integer for the score.\")"
   ]
  },
  {
   "cell_type": "code",
   "execution_count": 35,
   "id": "3882c7a4-c469-4609-b1b7-25670ca09526",
   "metadata": {},
   "outputs": [
    {
     "name": "stdin",
     "output_type": "stream",
     "text": [
      "Enter the student's score:  85\n"
     ]
    },
    {
     "name": "stdout",
     "output_type": "stream",
     "text": [
      "The student's letter grade is: A\n"
     ]
    }
   ],
   "source": [
    "def get_grade(score):\n",
    "    if not isinstance(score, int) or score < 0 or score > 100:\n",
    "        return \"Invalid input. Please enter a score between 0 and 100.\"\n",
    "    elif 70 <= score <= 100:\n",
    "        return \"A\"\n",
    "    elif 50 <= score <= 69:\n",
    "        return \"B\"\n",
    "    elif 35 <= score <= 49:\n",
    "        return \"C\"\n",
    "    elif 0 <= score <= 34:\n",
    "        return \"Fail\"\n",
    "\n",
    "# Get user input\n",
    "try:\n",
    "    score = int(input(\"Enter the student's score: \"))\n",
    "    grade = get_grade(score)\n",
    "    print(f\"The student's letter grade is: {grade}\")\n",
    "except ValueError:\n",
    "    print(\"Invalid input. Please enter a valid integer score.\")\n"
   ]
  },
  {
   "cell_type": "markdown",
   "id": "9f7a0990-3652-435c-a253-8ff2fa9b0f57",
   "metadata": {},
   "source": [
    "## Exercise 3 (Debugging Code)"
   ]
  },
  {
   "cell_type": "code",
   "execution_count": 32,
   "id": "018587a2-8a50-4251-9529-3c6566d6f3f1",
   "metadata": {},
   "outputs": [
    {
     "name": "stdout",
     "output_type": "stream",
     "text": [
      "120\n",
      "Invalid input\n"
     ]
    }
   ],
   "source": [
    "def factorial(n):\n",
    "    if n < 0:  # Error 1: Check for negative input\n",
    "        return \"Invalid input\"\n",
    "    elif n == 0:  # Error 2: Factorial of 0 is 1\n",
    "        return 1\n",
    "    else:\n",
    "        result = 1\n",
    "        for number in range(1, n + 1):\n",
    "            result *= number  # Error 3: Multiply to calculate factorial\n",
    "        return result\n",
    "\n",
    "# Testing the function\n",
    "print(factorial(5))   # Expected output: 120\n",
    "print(factorial(-1))  # Expected output: Invalid input"
   ]
  }
 ],
 "metadata": {
  "kernelspec": {
   "display_name": "Python 3 (ipykernel)",
   "language": "python",
   "name": "python3"
  },
  "language_info": {
   "codemirror_mode": {
    "name": "ipython",
    "version": 3
   },
   "file_extension": ".py",
   "mimetype": "text/x-python",
   "name": "python",
   "nbconvert_exporter": "python",
   "pygments_lexer": "ipython3",
   "version": "3.12.3"
  },
  "toc": {
   "base_numbering": 1,
   "nav_menu": {},
   "number_sections": true,
   "sideBar": true,
   "skip_h1_title": false,
   "title_cell": "Table of Contents",
   "title_sidebar": "Contents",
   "toc_cell": false,
   "toc_position": {},
   "toc_section_display": true,
   "toc_window_display": false
  },
  "vscode": {
   "interpreter": {
    "hash": "31f2aee4e71d21fbe5cf8b01ff0e069b9275f58929596ceb00d14d90e3e16cd6"
   }
  }
 },
 "nbformat": 4,
 "nbformat_minor": 5
}
