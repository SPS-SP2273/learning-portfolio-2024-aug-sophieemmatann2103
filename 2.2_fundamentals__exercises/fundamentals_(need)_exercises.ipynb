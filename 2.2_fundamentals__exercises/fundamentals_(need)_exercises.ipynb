{
 "cells": [
  {
   "attachments": {},
   "cell_type": "markdown",
   "id": "123456",
   "metadata": {},
   "source": [
    "<div style=\"text-align:left;font-size:2em\"><span style=\"font-weight:bolder;font-size:1.25em\">SP2273 | Learning Portfolio</span><br><br><span style=\"font-weight:bold;color:darkred\">Fundamentals (Need) Exercises</span></div>"
   ]
  },
  {
   "cell_type": "markdown",
   "id": "ac7048b7-9fd5-4039-aca9-4a92fa304f94",
   "metadata": {},
   "source": [
    "## Exercise 1 (Total recall?): "
   ]
  },
  {
   "cell_type": "markdown",
   "id": "8bc20ee0-9ceb-464d-b8b0-316a9f68c06d",
   "metadata": {},
   "source": [
    "__Basic Python features__:\n",
    "\n",
    "Python is interpreted\n",
    "\n",
    "Python is case sensitive\n",
    "\n",
    "Python is able to give superpowers like importing functions\n",
    "\n",
    "Python is able to have a comments function to remind us what we are coding for \n",
    "\n",
    "\n",
    "_= is not the same as ==_\n",
    "\n",
    "_Use if to make decisions_\n",
    "\n",
    "_Indentations (spaces) are sooo IMPORTANT!_"
   ]
  },
  {
   "cell_type": "markdown",
   "id": "3a1461f0-feab-4e2e-8498-72666c25034f",
   "metadata": {},
   "source": [
    "## Exercise 2 (Debug me):"
   ]
  },
  {
   "cell_type": "code",
   "execution_count": 2,
   "id": "f051bae9-f630-4889-a845-3f2a380d8fba",
   "metadata": {},
   "outputs": [
    {
     "ename": "IndentationError",
     "evalue": "unindent does not match any outer indentation level (<string>, line 3)",
     "output_type": "error",
     "traceback": [
      "\u001b[1;36m  File \u001b[1;32m<string>:3\u001b[1;36m\u001b[0m\n\u001b[1;33m    Print(x, y, z)\u001b[0m\n\u001b[1;37m                  ^\u001b[0m\n\u001b[1;31mIndentationError\u001b[0m\u001b[1;31m:\u001b[0m unindent does not match any outer indentation level\n"
     ]
    }
   ],
   "source": [
    "x, y = 3, 4\n",
    "        z = sqrt(x*2 + y**2)\n",
    "    Print(x, y, z)"
   ]
  },
  {
   "cell_type": "markdown",
   "id": "36b67fab-a378-4979-8617-84b45c5cf98e",
   "metadata": {},
   "source": [
    "Debugging:"
   ]
  },
  {
   "cell_type": "code",
   "execution_count": 3,
   "id": "176d0942-56f5-4e0a-ba1a-3a3872b9ac10",
   "metadata": {},
   "outputs": [
    {
     "name": "stdout",
     "output_type": "stream",
     "text": [
      "3 4 5\n"
     ]
    }
   ],
   "source": [
    "import math\n",
    "\n",
    "x, y = 3, 4\n",
    "z = int(math.sqrt(x**2 + y**2))\n",
    "print(x, y, z)"
   ]
  },
  {
   "cell_type": "markdown",
   "id": "bfddb1d0-3892-45c8-8f8d-a7173e4d9923",
   "metadata": {},
   "source": [
    "## Exercise 3(In your own words):"
   ]
  },
  {
   "cell_type": "markdown",
   "id": "38ce5190-bad1-463d-b387-2a06bee6458a",
   "metadata": {},
   "source": [
    "|**#** |**Term**      |**Description** |\n",
    "|:---  |:---          | :---           |\n",
    "|1     |Function      | Let's us do a specific task in the program.|       \n",
    "|2     |Arguments     | An input/actual value passed to a function that influences its behaviour.|\n",
    "|3     |Comments      | Gives us reminders on what the code does or what some unusual numbers/letters mean.|\n",
    "|4     |Indentations  | Used to define the structure and scope of code blocks, such as functions, loops, conditionals, and classes.|\n",
    "|5     |Packages      | Functions not pre-installed/recognised in the system's most basic form and is part of add-ons to create more complex codes.|\n",
    "|6     |.             | Represents ownership, whereby the latter function belongs to the former.|\n",
    "|7     |:             | Is a colon and is used to designate the start of a block of code.|\n",
    "|8     |[]            | A type of bracket in Python and is used to turn a 1D list into a 2D list.|\n",
    "|9     |[[],[]]       | A list which contains two empty lists.|\n",
    "|10    |{}            | Another type of bracket in Python used to store data in a 'thing' called a dictionary.|"
   ]
  },
  {
   "cell_type": "markdown",
   "id": "de133393-b4f6-442f-8693-dcc02d5b98be",
   "metadata": {},
   "source": [
    "## Exercise 4(More than one way to decide):"
   ]
  },
  {
   "cell_type": "code",
   "execution_count": 7,
   "id": "140a3dd5-ed60-4862-a529-b9f188be8d88",
   "metadata": {},
   "outputs": [
    {
     "data": {
      "text/plain": [
       "2.5"
      ]
     },
     "execution_count": 7,
     "metadata": {},
     "output_type": "execute_result"
    }
   ],
   "source": [
    "5/2"
   ]
  },
  {
   "cell_type": "markdown",
   "id": "df6503db-ed94-41b9-8603-694d1b2cd8d2",
   "metadata": {},
   "source": [
    "This is the **basic division function** and most common way to divide things in Python."
   ]
  },
  {
   "cell_type": "code",
   "execution_count": 10,
   "id": "8a692d07-9fee-403f-9258-3b8178d711b9",
   "metadata": {},
   "outputs": [
    {
     "data": {
      "text/plain": [
       "2"
      ]
     },
     "execution_count": 10,
     "metadata": {},
     "output_type": "execute_result"
    }
   ],
   "source": [
    "5//2"
   ]
  },
  {
   "cell_type": "markdown",
   "id": "86d6bd7b-2e15-4ea4-ac2d-1161049dda07",
   "metadata": {},
   "source": [
    "// In Python means a **floor division operator**. // Can be used for integer division, negative numbers and float division. \n",
    "\n",
    "For this example, what // does it that it divides the 2 numbers in the equation given but returns the largest integer that is less than or equal to the quotient (i.e., it rounds down to the nearest whole number).\n",
    "\n",
    "Hence, we get the number 2 and not 2.5 like how we expected in the first example above."
   ]
  },
  {
   "cell_type": "code",
   "execution_count": 9,
   "id": "005aa3b4-2558-4f95-812d-e34271397bdc",
   "metadata": {},
   "outputs": [
    {
     "data": {
      "text/plain": [
       "1"
      ]
     },
     "execution_count": 9,
     "metadata": {},
     "output_type": "execute_result"
    }
   ],
   "source": [
    "5%2"
   ]
  },
  {
   "cell_type": "markdown",
   "id": "bae00c06-6b89-442d-b6bb-19c0a52b91e4",
   "metadata": {},
   "source": [
    "% is the **modulus operator** in Python, which returns the remainder of the division of one number by another.\n",
    "\n",
    "5÷2=2 with a remainder of 1. Thus, 5 % 2 results in 1."
   ]
  }
 ],
 "metadata": {
  "kernelspec": {
   "display_name": "Python 3 (ipykernel)",
   "language": "python",
   "name": "python3"
  },
  "language_info": {
   "codemirror_mode": {
    "name": "ipython",
    "version": 3
   },
   "file_extension": ".py",
   "mimetype": "text/x-python",
   "name": "python",
   "nbconvert_exporter": "python",
   "pygments_lexer": "ipython3",
   "version": "3.12.3"
  },
  "toc": {
   "base_numbering": 1,
   "nav_menu": {},
   "number_sections": true,
   "sideBar": true,
   "skip_h1_title": false,
   "title_cell": "Table of Contents",
   "title_sidebar": "Contents",
   "toc_cell": false,
   "toc_position": {},
   "toc_section_display": true,
   "toc_window_display": false
  },
  "vscode": {
   "interpreter": {
    "hash": "31f2aee4e71d21fbe5cf8b01ff0e069b9275f58929596ceb00d14d90e3e16cd6"
   }
  }
 },
 "nbformat": 4,
 "nbformat_minor": 5
}
