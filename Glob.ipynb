{
 "cells": [
  {
   "cell_type": "code",
   "execution_count": 1,
   "id": "1d5d2711-d27d-45f2-8bd8-38d6823d968a",
   "metadata": {},
   "outputs": [],
   "source": [
    "import glob"
   ]
  },
  {
   "cell_type": "code",
   "execution_count": 2,
   "id": "77d7034b-4fa5-40d4-87e3-a93c66c58788",
   "metadata": {},
   "outputs": [
    {
     "data": {
      "text/plain": [
       "['0.1_hello,_github!',\n",
       " '0.2_hello,_jupyter!',\n",
       " '0.3_Virtual_Environments_(Nice!)',\n",
       " '1.1_using_jupyter',\n",
       " '1.2_using_jupyter_,_exercises',\n",
       " '2.1_fundamentals',\n",
       " '2.2_fundamentals__exercises',\n",
       " '3.1_storing_data',\n",
       " '3.2_storing_data__exercises',\n",
       " '4.1_loops',\n",
       " '4.2_loops__exercises',\n",
       " '5.1_functions',\n",
       " '5.2_functions__exercises',\n",
       " '6.1_files,_folders_&_os',\n",
       " '6.2_files,_folders_&_os__exercises',\n",
       " '7.1_plotting',\n",
       " '7.2_plotting__exercises',\n",
       " 'Glob.ipynb',\n",
       " 'LICENSE',\n",
       " 'README.md',\n",
       " 'testing 2.txt']"
      ]
     },
     "execution_count": 2,
     "metadata": {},
     "output_type": "execute_result"
    }
   ],
   "source": [
    "glob.glob('*')"
   ]
  },
  {
   "cell_type": "code",
   "execution_count": 4,
   "id": "7f9bf10f-c2bd-4af0-91b0-edda3ece77f6",
   "metadata": {},
   "outputs": [
    {
     "data": {
      "text/plain": [
       "['0.1_hello,_github!', '0.2_hello,_jupyter!']"
      ]
     },
     "execution_count": 4,
     "metadata": {},
     "output_type": "execute_result"
    }
   ],
   "source": [
    "glob.glob('*hello*')"
   ]
  },
  {
   "cell_type": "code",
   "execution_count": null,
   "id": "e3c52acd-7c9c-4dec-bfa3-b02de49dd1fc",
   "metadata": {},
   "outputs": [],
   "source": []
  }
 ],
 "metadata": {
  "kernelspec": {
   "display_name": "Python 3 (ipykernel)",
   "language": "python",
   "name": "python3"
  },
  "language_info": {
   "codemirror_mode": {
    "name": "ipython",
    "version": 3
   },
   "file_extension": ".py",
   "mimetype": "text/x-python",
   "name": "python",
   "nbconvert_exporter": "python",
   "pygments_lexer": "ipython3",
   "version": "3.12.3"
  }
 },
 "nbformat": 4,
 "nbformat_minor": 5
}
