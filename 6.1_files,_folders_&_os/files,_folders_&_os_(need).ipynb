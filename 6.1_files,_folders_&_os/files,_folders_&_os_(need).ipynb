{
 "cells": [
  {
   "attachments": {},
   "cell_type": "markdown",
   "id": "123456",
   "metadata": {},
   "source": [
    "<div style=\"text-align:left;font-size:2em\"><span style=\"font-weight:bolder;font-size:1.25em\">SP2273 | Learning Portfolio</span><br><br><span style=\"font-weight:bold;color:darkred\">Files, Folders & OS (Need)</span></div>"
   ]
  },
  {
   "attachments": {},
   "cell_type": "markdown",
   "id": "c45d3b85",
   "metadata": {},
   "source": [
    "# 1 Important concepts"
   ]
  },
  {
   "attachments": {},
   "cell_type": "markdown",
   "id": "ee6595e5",
   "metadata": {},
   "source": [
    "## 1.1 Path"
   ]
  },
  {
   "cell_type": "code",
   "execution_count": 2,
   "id": "6984dea2-1018-4a62-a856-f426e263d731",
   "metadata": {},
   "outputs": [],
   "source": [
    "import os, glob, shutil "
   ]
  },
  {
   "cell_type": "code",
   "execution_count": 3,
   "id": "9e493074-6208-4731-addc-f18a35cf115a",
   "metadata": {},
   "outputs": [
    {
     "data": {
      "text/plain": [
       "'C:\\\\Users\\\\sophi\\\\OneDrive\\\\Documents\\\\GitHub\\\\learning-portfolio-2024-aug-sophieemmatann2103\\\\6.1_files,_folders_&_os'"
      ]
     },
     "execution_count": 3,
     "metadata": {},
     "output_type": "execute_result"
    }
   ],
   "source": [
    "os.getcwd()"
   ]
  },
  {
   "cell_type": "markdown",
   "id": "4982a925-8fe0-43e1-b615-194bfbba9a83",
   "metadata": {},
   "source": [
    "getcwd is get current working directory \n",
    "\n",
    "this long string gives you the full direct PATH."
   ]
  },
  {
   "cell_type": "code",
   "execution_count": 4,
   "id": "f25773a8-97ef-4203-bc43-d8de7b406c81",
   "metadata": {},
   "outputs": [
    {
     "data": {
      "text/plain": [
       "True"
      ]
     },
     "execution_count": 4,
     "metadata": {},
     "output_type": "execute_result"
    }
   ],
   "source": [
    "os.path.exists('hihihi.txt')"
   ]
  },
  {
   "cell_type": "markdown",
   "id": "d643217e-71b0-42ee-83b0-055fcffc5c17",
   "metadata": {},
   "source": [
    "just go to file explorer and take a random file name and key it into the right hand side"
   ]
  },
  {
   "cell_type": "markdown",
   "id": "bcc371aa-f161-46c0-814d-3d2170d591a6",
   "metadata": {},
   "source": [
    ". is 'this folder' and .. is 'one folder above'"
   ]
  },
  {
   "cell_type": "code",
   "execution_count": 5,
   "id": "9078b4d7-2ac1-449d-ad41-f1a18c3605bd",
   "metadata": {},
   "outputs": [
    {
     "data": {
      "text/plain": [
       "False"
      ]
     },
     "execution_count": 5,
     "metadata": {},
     "output_type": "execute_result"
    }
   ],
   "source": [
    "os.path.exists('C:\\\\Users\\\\sophi\\\\OneDrive\\\\Documents\\\\hihihi.txt')"
   ]
  },
  {
   "attachments": {},
   "cell_type": "markdown",
   "id": "176e07e9",
   "metadata": {},
   "source": [
    "## 1.3 Path separator"
   ]
  },
  {
   "cell_type": "markdown",
   "id": "1dabef6a-6d92-436a-ba40-722d7f248ecd",
   "metadata": {},
   "source": [
    "rmb to use 2 \\ and not \\ to separate the hihihi.txt   \n",
    "\n",
    "it will think it is an escape sequence if we put only \\"
   ]
  },
  {
   "cell_type": "code",
   "execution_count": 6,
   "id": "6d8b258e-5d09-4587-92e5-fc5de7f6d849",
   "metadata": {},
   "outputs": [
    {
     "data": {
      "text/plain": [
       "True"
      ]
     },
     "execution_count": 6,
     "metadata": {},
     "output_type": "execute_result"
    }
   ],
   "source": [
    "os.path.exists('C:\\\\Users\\\\sophi\\\\OneDrive\\\\Documents\\\\GitHub\\\\lol.txt')"
   ]
  },
  {
   "attachments": {},
   "cell_type": "markdown",
   "id": "078e5d6c",
   "metadata": {},
   "source": [
    "## 1.2 More about relative paths"
   ]
  },
  {
   "cell_type": "markdown",
   "id": "ef869717-1d59-47e2-a985-3a482936d106",
   "metadata": {},
   "source": [
    "we use two '..\\\\..\\\\' because we are finding the paths in the location two up from the one we are at now."
   ]
  },
  {
   "cell_type": "code",
   "execution_count": 7,
   "id": "e9c67be6-c908-46f3-b9b1-3343cc3e2b23",
   "metadata": {},
   "outputs": [
    {
     "data": {
      "text/plain": [
       "True"
      ]
     },
     "execution_count": 7,
     "metadata": {},
     "output_type": "execute_result"
    }
   ],
   "source": [
    "os.path.exists('..\\\\..\\\\lol.txt')"
   ]
  },
  {
   "attachments": {},
   "cell_type": "markdown",
   "id": "b68c0b96",
   "metadata": {},
   "source": [
    "## 1.4 Text files vs. Binary files"
   ]
  },
  {
   "cell_type": "markdown",
   "id": "546807ff-456e-4569-a021-7eab788f1e18",
   "metadata": {},
   "source": [
    "**Text files** are simple and can be opened, and their contents examined by almost any software (e.g., Notepad, TextEdit, Jupiter,…). Examples of text file formats are .txt, .md or .csv."
   ]
  },
  {
   "cell_type": "markdown",
   "id": "40adaae8-6494-41b1-8a98-0f2291223c8f",
   "metadata": {},
   "source": [
    "**Binary files**, in contrast, require some processing to make sense of what they contain. For example, if you look at the raw data in a .png file, you will see gibberish. In addition, some binary files will only run on specific OSs. \n",
    "\n",
    "For example, the Excel.app on a Mac will not run on Windows, nor will the Excel.exe file run on macOS (or Linux). Some reasons for having binary files are speed and size; text files, though simple, can get bulky."
   ]
  },
  {
   "attachments": {},
   "cell_type": "markdown",
   "id": "1e2b2386",
   "metadata": {},
   "source": [
    "## 1.5 Extensions"
   ]
  },
  {
   "cell_type": "markdown",
   "id": "2fe18f90-aecb-4bcb-97e3-839d57cade3b",
   "metadata": {},
   "source": [
    "rmb to open the correct paths under where the things you want to navigate are saved\n",
    "\n",
    "and also rmb to put the correct type of extension e.g txt or doc etc\n",
    "\n",
    "Files are usually named to end with an extension separated from the name by a . like name.extension"
   ]
  },
  {
   "cell_type": "code",
   "execution_count": 8,
   "id": "2464217a-f793-4c27-884c-3fbd7ca473c4",
   "metadata": {},
   "outputs": [
    {
     "data": {
      "text/plain": [
       "'\\\\'"
      ]
     },
     "execution_count": 8,
     "metadata": {},
     "output_type": "execute_result"
    }
   ],
   "source": [
    "os.path.sep"
   ]
  },
  {
   "cell_type": "code",
   "execution_count": 9,
   "id": "6de40ce3-44a7-46c5-896e-79319c6db8cd",
   "metadata": {},
   "outputs": [
    {
     "data": {
      "text/plain": [
       "('hahaha', '.txt')"
      ]
     },
     "execution_count": 9,
     "metadata": {},
     "output_type": "execute_result"
    }
   ],
   "source": [
    "os.path.splitext('hahaha.txt')"
   ]
  },
  {
   "cell_type": "code",
   "execution_count": 10,
   "id": "647b9a76-9661-47d3-9542-f760e4b59b21",
   "metadata": {},
   "outputs": [
    {
     "data": {
      "text/plain": [
       "'txt'"
      ]
     },
     "execution_count": 10,
     "metadata": {},
     "output_type": "execute_result"
    }
   ],
   "source": [
    "filename = 'hahaha.txt'\n",
    "\n",
    "filename.split('.')[-1]"
   ]
  },
  {
   "cell_type": "markdown",
   "id": "fe3bb2a7-d44f-4e90-8a46-cd8d545a9f40",
   "metadata": {},
   "source": [
    "ensure we do not hardcode anything, else if we open it up, it might work for windows but not on mac/linux"
   ]
  },
  {
   "attachments": {},
   "cell_type": "markdown",
   "id": "d50af85f",
   "metadata": {},
   "source": [
    "# 2 Opening and closing files"
   ]
  },
  {
   "attachments": {},
   "cell_type": "markdown",
   "id": "fc33c455",
   "metadata": {},
   "source": [
    "## 2.1 Reading data"
   ]
  },
  {
   "cell_type": "markdown",
   "id": "8d245725-5ad2-4254-854b-87cd96b2248b",
   "metadata": {},
   "source": [
    "to read, we need to open and close the file"
   ]
  },
  {
   "cell_type": "code",
   "execution_count": 11,
   "id": "3bb5e766-5572-4b8f-bec1-bba485d26d39",
   "metadata": {},
   "outputs": [
    {
     "name": "stdout",
     "output_type": "stream",
     "text": [
      "gonegone\n",
      "gone\n"
     ]
    }
   ],
   "source": [
    "with open('hihihi.txt', 'r') as file: \n",
    "    filetext = file.read()\n",
    "\n",
    "print(filetext)"
   ]
  },
  {
   "cell_type": "markdown",
   "id": "ac9985a2-f689-49e3-b661-a1ef0e9e048f",
   "metadata": {},
   "source": [
    "r is for reading and w is for writing"
   ]
  },
  {
   "cell_type": "code",
   "execution_count": 12,
   "id": "501ef013-43c1-4f04-8742-9dfc4e6b6a9d",
   "metadata": {},
   "outputs": [
    {
     "ename": "FileNotFoundError",
     "evalue": "[Errno 2] No such file or directory: 'lol.txt'",
     "output_type": "error",
     "traceback": [
      "\u001b[1;31m---------------------------------------------------------------------------\u001b[0m",
      "\u001b[1;31mFileNotFoundError\u001b[0m                         Traceback (most recent call last)",
      "Cell \u001b[1;32mIn[12], line 1\u001b[0m\n\u001b[1;32m----> 1\u001b[0m \u001b[38;5;28;01mwith\u001b[39;00m \u001b[38;5;28;43mopen\u001b[39;49m\u001b[43m(\u001b[49m\u001b[38;5;124;43m'\u001b[39;49m\u001b[38;5;124;43mlol.txt\u001b[39;49m\u001b[38;5;124;43m'\u001b[39;49m\u001b[43m)\u001b[49m \u001b[38;5;28;01mas\u001b[39;00m file: \n\u001b[0;32m      2\u001b[0m     filetext \u001b[38;5;241m=\u001b[39m file\u001b[38;5;241m.\u001b[39mread()\n\u001b[0;32m      4\u001b[0m \u001b[38;5;28mprint\u001b[39m(filetext)\n",
      "File \u001b[1;32m~\\miniconda3\\Lib\\site-packages\\IPython\\core\\interactiveshell.py:324\u001b[0m, in \u001b[0;36m_modified_open\u001b[1;34m(file, *args, **kwargs)\u001b[0m\n\u001b[0;32m    317\u001b[0m \u001b[38;5;28;01mif\u001b[39;00m file \u001b[38;5;129;01min\u001b[39;00m {\u001b[38;5;241m0\u001b[39m, \u001b[38;5;241m1\u001b[39m, \u001b[38;5;241m2\u001b[39m}:\n\u001b[0;32m    318\u001b[0m     \u001b[38;5;28;01mraise\u001b[39;00m \u001b[38;5;167;01mValueError\u001b[39;00m(\n\u001b[0;32m    319\u001b[0m         \u001b[38;5;124mf\u001b[39m\u001b[38;5;124m\"\u001b[39m\u001b[38;5;124mIPython won\u001b[39m\u001b[38;5;124m'\u001b[39m\u001b[38;5;124mt let you open fd=\u001b[39m\u001b[38;5;132;01m{\u001b[39;00mfile\u001b[38;5;132;01m}\u001b[39;00m\u001b[38;5;124m by default \u001b[39m\u001b[38;5;124m\"\u001b[39m\n\u001b[0;32m    320\u001b[0m         \u001b[38;5;124m\"\u001b[39m\u001b[38;5;124mas it is likely to crash IPython. If you know what you are doing, \u001b[39m\u001b[38;5;124m\"\u001b[39m\n\u001b[0;32m    321\u001b[0m         \u001b[38;5;124m\"\u001b[39m\u001b[38;5;124myou can use builtins\u001b[39m\u001b[38;5;124m'\u001b[39m\u001b[38;5;124m open.\u001b[39m\u001b[38;5;124m\"\u001b[39m\n\u001b[0;32m    322\u001b[0m     )\n\u001b[1;32m--> 324\u001b[0m \u001b[38;5;28;01mreturn\u001b[39;00m \u001b[43mio_open\u001b[49m\u001b[43m(\u001b[49m\u001b[43mfile\u001b[49m\u001b[43m,\u001b[49m\u001b[43m \u001b[49m\u001b[38;5;241;43m*\u001b[39;49m\u001b[43margs\u001b[49m\u001b[43m,\u001b[49m\u001b[43m \u001b[49m\u001b[38;5;241;43m*\u001b[39;49m\u001b[38;5;241;43m*\u001b[39;49m\u001b[43mkwargs\u001b[49m\u001b[43m)\u001b[49m\n",
      "\u001b[1;31mFileNotFoundError\u001b[0m: [Errno 2] No such file or directory: 'lol.txt'"
     ]
    }
   ],
   "source": [
    "with open('lol.txt') as file: \n",
    "    filetext = file.read()\n",
    "\n",
    "print(filetext)"
   ]
  },
  {
   "cell_type": "markdown",
   "id": "abb16615-c9ea-43bd-8ca3-06828a987ea5",
   "metadata": {},
   "source": [
    "This does not work because the lol.txt file is not saved in the learning portfolio file in my laptop \n",
    "\n",
    "only the hihihi.txt is saved inside, so thats why it can open "
   ]
  },
  {
   "attachments": {},
   "cell_type": "markdown",
   "id": "d0b97f33",
   "metadata": {},
   "source": [
    "## 2.2 Writing data"
   ]
  },
  {
   "attachments": {},
   "cell_type": "markdown",
   "id": "d2f2808a",
   "metadata": {},
   "source": [
    "### Writing to a file in one go"
   ]
  },
  {
   "cell_type": "code",
   "execution_count": 13,
   "id": "0b75ebdf",
   "metadata": {},
   "outputs": [],
   "source": [
    "with open('hihihi.txt', 'w') as file: \n",
    "    file.write('gone')"
   ]
  },
  {
   "cell_type": "markdown",
   "id": "6f6212b6-6d84-44cb-926f-26698807f836",
   "metadata": {},
   "source": [
    "when we reopen the hihihi.txt file from file explorer, it shld be updated with the word gone only, and not fff\n",
    "\n",
    "(it worked for me, i tried it)"
   ]
  },
  {
   "attachments": {},
   "cell_type": "markdown",
   "id": "f9b7ef79",
   "metadata": {},
   "source": [
    "### Writing to a file, line by line"
   ]
  },
  {
   "cell_type": "code",
   "execution_count": 14,
   "id": "4d1136c2",
   "metadata": {},
   "outputs": [],
   "source": [
    "with open('hihihi.txt', 'a') as file: \n",
    "    file.write('gone')"
   ]
  },
  {
   "cell_type": "code",
   "execution_count": 15,
   "id": "5eeceb5a-cf7e-478e-b5ba-90451beeca11",
   "metadata": {},
   "outputs": [
    {
     "name": "stdout",
     "output_type": "stream",
     "text": [
      "gonegone\n"
     ]
    }
   ],
   "source": [
    "!more hihihi.txt"
   ]
  },
  {
   "cell_type": "markdown",
   "id": "17dfa73a-162f-4d8f-9f39-cac66cbf4f26",
   "metadata": {},
   "source": [
    "so i only ran the **append** with gone one time, that's why now when i do the !more it reads 'gonegone'. \n",
    "\n",
    "this 'gonegone' will also appear in the hihihi.txt file when we open it from file explorer. \n",
    "\n",
    "!more shows us how many times we ran the append. \n",
    "\n",
    "we can also add \\n to the writing as well"
   ]
  },
  {
   "cell_type": "code",
   "execution_count": 16,
   "id": "3dcadbda-9b95-4443-95b9-0ae8fffdff0e",
   "metadata": {},
   "outputs": [],
   "source": [
    "with open('hihihi.txt', 'a') as file: \n",
    "    file.write('\\ngone')"
   ]
  },
  {
   "cell_type": "code",
   "execution_count": 17,
   "id": "1ae4a244-b4d2-4d93-962d-5544fede631e",
   "metadata": {},
   "outputs": [
    {
     "name": "stdout",
     "output_type": "stream",
     "text": [
      "gonegone\n",
      "gone\n"
     ]
    }
   ],
   "source": [
    "!more hihihi.txt"
   ]
  },
  {
   "attachments": {},
   "cell_type": "markdown",
   "id": "02080582",
   "metadata": {},
   "source": [
    "# 3 Some useful packages"
   ]
  },
  {
   "cell_type": "code",
   "execution_count": 18,
   "id": "a1b718ce-c769-43bb-81a2-d64419c1e96f",
   "metadata": {},
   "outputs": [],
   "source": [
    "import os, glob, shutil"
   ]
  },
  {
   "cell_type": "markdown",
   "id": "ca7e9d5f-b3c7-47c3-a760-0a09994e7c19",
   "metadata": {},
   "source": [
    "os --> To ‘talk’ to the OS to create, modify, delete folders and write OS-agnostic code.\n",
    "\n",
    "glob --> to search for files\n",
    "\n",
    "shutil --> to copy files"
   ]
  },
  {
   "attachments": {},
   "cell_type": "markdown",
   "id": "a759a8b6",
   "metadata": {},
   "source": [
    "# 4 OS safe paths"
   ]
  },
  {
   "attachments": {},
   "cell_type": "markdown",
   "id": "6168a137",
   "metadata": {},
   "source": [
    "# 5 Folders"
   ]
  },
  {
   "attachments": {},
   "cell_type": "markdown",
   "id": "0478cf24",
   "metadata": {},
   "source": [
    "## 5.1 Creating folders"
   ]
  },
  {
   "cell_type": "code",
   "execution_count": 27,
   "id": "a9be271b-ca3e-4488-8ed6-c79d3ebbd226",
   "metadata": {},
   "outputs": [],
   "source": [
    "os.mkdir('Woooooo')"
   ]
  },
  {
   "cell_type": "markdown",
   "id": "3d7ab23b-c3da-424d-9ea6-585b169a61f3",
   "metadata": {},
   "source": [
    "go to file explorer, a new file called 'Woooooo' shld be there"
   ]
  },
  {
   "cell_type": "code",
   "execution_count": 29,
   "id": "d320a19f-1768-4112-b3c9-3c3cec47a61c",
   "metadata": {},
   "outputs": [],
   "source": [
    "for i in range (3):\n",
    "    os.mkdir(f'friess_{i}')"
   ]
  },
  {
   "cell_type": "markdown",
   "id": "10270da2-6dee-4dbd-8400-f818f940e95e",
   "metadata": {},
   "source": [
    "there should be 3 folders labelled fries in the file explorer. \n",
    "\n",
    "basically this js allows us to create many copies of the same file name at once using loop. note that the index starts from 0 as this is python."
   ]
  },
  {
   "attachments": {},
   "cell_type": "markdown",
   "id": "c6f92630",
   "metadata": {},
   "source": [
    "## 5.2 Checking for existence"
   ]
  },
  {
   "attachments": {},
   "cell_type": "markdown",
   "id": "c3954930",
   "metadata": {},
   "source": [
    "### Using try-except"
   ]
  },
  {
   "cell_type": "code",
   "execution_count": 21,
   "id": "40fdfea9",
   "metadata": {},
   "outputs": [
    {
     "name": "stdout",
     "output_type": "stream",
     "text": [
      "No not-there.txt\n"
     ]
    }
   ],
   "source": [
    "filename = 'not-there.txt'\n",
    "\n",
    "try: \n",
    "    with open(filename, 'r') as file:\n",
    "        text = file.read()\n",
    "\n",
    "except:\n",
    "    print (f'No {filename}')\n"
   ]
  },
  {
   "attachments": {},
   "cell_type": "markdown",
   "id": "b4252f8f",
   "metadata": {},
   "source": [
    "### Using os.path.exists()"
   ]
  },
  {
   "cell_type": "code",
   "execution_count": 22,
   "id": "03b33317",
   "metadata": {},
   "outputs": [],
   "source": [
    "filename = 'not-there.txt'\n",
    "\n",
    "if os.path.exists(filename):\n",
    "    with open(filename, 'r') as file:\n",
    "        text = file.read()"
   ]
  },
  {
   "attachments": {},
   "cell_type": "markdown",
   "id": "7d3bdae8",
   "metadata": {},
   "source": [
    "## 5.3 Copying files"
   ]
  },
  {
   "cell_type": "code",
   "execution_count": null,
   "id": "02d1af52-b676-443e-8f34-31a469e5f81e",
   "metadata": {},
   "outputs": [],
   "source": []
  },
  {
   "cell_type": "code",
   "execution_count": null,
   "id": "1f8be25d-c79e-479a-879b-385fcfa1328d",
   "metadata": {},
   "outputs": [],
   "source": []
  },
  {
   "attachments": {},
   "cell_type": "markdown",
   "id": "f4ef1850",
   "metadata": {},
   "source": [
    "# 6 Listing and looking for files"
   ]
  },
  {
   "cell_type": "markdown",
   "id": "0c75f952-886e-4135-976b-5037db4dbdd9",
   "metadata": {},
   "source": [
    "this one use the glob tool\n",
    "\n",
    "i hv created a new python 3 (ipykernel) called 'glob' in the jupyter notebook area.\n",
    "\n",
    "refer to the glob notebook for details"
   ]
  },
  {
   "cell_type": "markdown",
   "id": "942c4863-7b8b-46d0-acb8-6a934af1d10f",
   "metadata": {},
   "source": [
    "I use this if I want all the files in the current directory.\n",
    "\n",
    "The * is called a wildcard and is read as ‘anything’. So, I am asking glob to give me anything in the folder."
   ]
  },
  {
   "cell_type": "code",
   "execution_count": 23,
   "id": "a5018686-e0cc-4bf7-96a6-2c6f5d521cc2",
   "metadata": {},
   "outputs": [
    {
     "data": {
      "text/plain": [
       "['files,_folders_&_os_(need).ipynb',\n",
       " 'fries_0',\n",
       " 'fries_1',\n",
       " 'fries_2',\n",
       " 'hihihi.txt',\n",
       " 'sup.docx',\n",
       " 'Wooooo']"
      ]
     },
     "execution_count": 23,
     "metadata": {},
     "output_type": "execute_result"
    }
   ],
   "source": [
    "glob.glob('*')    # this glob is searching the file explorer page like the above examples"
   ]
  },
  {
   "cell_type": "code",
   "execution_count": 24,
   "id": "1b89c7c9-5c01-4dd0-a59a-389ea10ee7ee",
   "metadata": {},
   "outputs": [
    {
     "data": {
      "text/plain": [
       "['fries_0', 'fries_1', 'fries_2']"
      ]
     },
     "execution_count": 24,
     "metadata": {},
     "output_type": "execute_result"
    }
   ],
   "source": [
    "glob.glob('*fries*')    # finding all the folder containing fries in the name"
   ]
  },
  {
   "cell_type": "code",
   "execution_count": 25,
   "id": "2b3f7ac3-26bb-4a59-861b-d028a10c61d1",
   "metadata": {},
   "outputs": [
    {
     "data": {
      "text/plain": [
       "['fries_0\\\\i', 'fries_1\\\\am', 'fries_2\\\\sophie']"
      ]
     },
     "execution_count": 25,
     "metadata": {},
     "output_type": "execute_result"
    }
   ],
   "source": [
    "glob.glob('*fries*/*')   # want to know what is inside the folers that start with fries"
   ]
  },
  {
   "cell_type": "markdown",
   "id": "24092192-6afc-4c9a-8a22-10cab6b4bfb2",
   "metadata": {},
   "source": [
    "to search for all the detailed structure of the folder fries, need to tell glob to search recursively by putting recursive=True\n",
    "\n",
    "also must use two wildcards ** to say all 'sub-dictionaries'"
   ]
  },
  {
   "cell_type": "code",
   "execution_count": 32,
   "id": "7a292bec-2c79-4e5a-b870-2261adec86e7",
   "metadata": {},
   "outputs": [
    {
     "data": {
      "text/plain": [
       "[]"
      ]
     },
     "execution_count": 32,
     "metadata": {},
     "output_type": "execute_result"
    }
   ],
   "source": [
    "glob.glob('fries/**', recursive=True)"
   ]
  },
  {
   "attachments": {},
   "cell_type": "markdown",
   "id": "e9f2886a",
   "metadata": {},
   "source": [
    "# 7 Extracting file info"
   ]
  },
  {
   "attachments": {},
   "cell_type": "markdown",
   "id": "d9bef88d",
   "metadata": {},
   "source": [
    "# 8 Deleting stuff"
   ]
  }
 ],
 "metadata": {
  "kernelspec": {
   "display_name": "Python 3 (ipykernel)",
   "language": "python",
   "name": "python3"
  },
  "language_info": {
   "codemirror_mode": {
    "name": "ipython",
    "version": 3
   },
   "file_extension": ".py",
   "mimetype": "text/x-python",
   "name": "python",
   "nbconvert_exporter": "python",
   "pygments_lexer": "ipython3",
   "version": "3.12.3"
  },
  "toc": {
   "base_numbering": 1,
   "nav_menu": {},
   "number_sections": true,
   "sideBar": true,
   "skip_h1_title": false,
   "title_cell": "Table of Contents",
   "title_sidebar": "Contents",
   "toc_cell": false,
   "toc_position": {},
   "toc_section_display": true,
   "toc_window_display": false
  },
  "vscode": {
   "interpreter": {
    "hash": "31f2aee4e71d21fbe5cf8b01ff0e069b9275f58929596ceb00d14d90e3e16cd6"
   }
  }
 },
 "nbformat": 4,
 "nbformat_minor": 5
}
