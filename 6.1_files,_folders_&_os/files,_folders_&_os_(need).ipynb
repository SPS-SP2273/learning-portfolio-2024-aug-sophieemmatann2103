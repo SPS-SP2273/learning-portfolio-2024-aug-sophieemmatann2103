{
 "cells": [
  {
   "attachments": {},
   "cell_type": "markdown",
   "id": "123456",
   "metadata": {},
   "source": [
    "<div style=\"text-align:left;font-size:2em\"><span style=\"font-weight:bolder;font-size:1.25em\">SP2273 | Learning Portfolio</span><br><br><span style=\"font-weight:bold;color:darkred\">Files, Folders & OS (Need)</span></div>"
   ]
  },
  {
   "attachments": {},
   "cell_type": "markdown",
   "id": "c45d3b85",
   "metadata": {},
   "source": [
    "# 1 Important concepts"
   ]
  },
  {
   "attachments": {},
   "cell_type": "markdown",
   "id": "ee6595e5",
   "metadata": {},
   "source": [
    "## 1.1 Path"
   ]
  },
  {
   "cell_type": "code",
   "execution_count": 1,
   "id": "6984dea2-1018-4a62-a856-f426e263d731",
   "metadata": {},
   "outputs": [],
   "source": [
    "import os, glob, shutil "
   ]
  },
  {
   "cell_type": "code",
   "execution_count": 2,
   "id": "9e493074-6208-4731-addc-f18a35cf115a",
   "metadata": {},
   "outputs": [
    {
     "data": {
      "text/plain": [
       "'C:\\\\Users\\\\sophi\\\\OneDrive\\\\Documents\\\\GitHub\\\\learning-portfolio-2024-aug-sophieemmatann2103\\\\6.1_files,_folders_&_os'"
      ]
     },
     "execution_count": 2,
     "metadata": {},
     "output_type": "execute_result"
    }
   ],
   "source": [
    "os.getcwd()"
   ]
  },
  {
   "cell_type": "markdown",
   "id": "4982a925-8fe0-43e1-b615-194bfbba9a83",
   "metadata": {},
   "source": [
    "getcwd is get current working directory \n",
    "\n",
    "this long string gives you the full direct PATH."
   ]
  },
  {
   "cell_type": "code",
   "execution_count": 5,
   "id": "f25773a8-97ef-4203-bc43-d8de7b406c81",
   "metadata": {},
   "outputs": [
    {
     "data": {
      "text/plain": [
       "True"
      ]
     },
     "execution_count": 5,
     "metadata": {},
     "output_type": "execute_result"
    }
   ],
   "source": [
    "os.path.exists('hihihi.txt')"
   ]
  },
  {
   "cell_type": "markdown",
   "id": "d643217e-71b0-42ee-83b0-055fcffc5c17",
   "metadata": {},
   "source": [
    "just go to file explorer and take a random file name and key it into the right hand side"
   ]
  },
  {
   "cell_type": "markdown",
   "id": "bcc371aa-f161-46c0-814d-3d2170d591a6",
   "metadata": {},
   "source": [
    ". is 'this folder' and .. is 'one folder above'"
   ]
  },
  {
   "cell_type": "code",
   "execution_count": 7,
   "id": "9078b4d7-2ac1-449d-ad41-f1a18c3605bd",
   "metadata": {},
   "outputs": [
    {
     "data": {
      "text/plain": [
       "False"
      ]
     },
     "execution_count": 7,
     "metadata": {},
     "output_type": "execute_result"
    }
   ],
   "source": [
    "os.path.exists('C:\\\\Users\\\\sophi\\\\OneDrive\\\\Documents\\\\hihihi.txt')"
   ]
  },
  {
   "attachments": {},
   "cell_type": "markdown",
   "id": "176e07e9",
   "metadata": {},
   "source": [
    "## 1.3 Path separator"
   ]
  },
  {
   "cell_type": "markdown",
   "id": "1dabef6a-6d92-436a-ba40-722d7f248ecd",
   "metadata": {},
   "source": [
    "rmb to use 2 \\ and not \\ to separate the hihihi.txt   \n",
    "\n",
    "it will think it is an escape sequence if we put only \\"
   ]
  },
  {
   "cell_type": "code",
   "execution_count": 13,
   "id": "6d8b258e-5d09-4587-92e5-fc5de7f6d849",
   "metadata": {},
   "outputs": [
    {
     "data": {
      "text/plain": [
       "True"
      ]
     },
     "execution_count": 13,
     "metadata": {},
     "output_type": "execute_result"
    }
   ],
   "source": [
    "os.path.exists('C:\\\\Users\\\\sophi\\\\OneDrive\\\\Documents\\\\GitHub\\\\lol.txt')"
   ]
  },
  {
   "attachments": {},
   "cell_type": "markdown",
   "id": "078e5d6c",
   "metadata": {},
   "source": [
    "## 1.2 More about relative paths"
   ]
  },
  {
   "cell_type": "markdown",
   "id": "ef869717-1d59-47e2-a985-3a482936d106",
   "metadata": {},
   "source": [
    "we use two '..\\\\..\\\\' because we are finding the paths in the location two up from the one we are at now."
   ]
  },
  {
   "cell_type": "code",
   "execution_count": 15,
   "id": "e9c67be6-c908-46f3-b9b1-3343cc3e2b23",
   "metadata": {},
   "outputs": [
    {
     "data": {
      "text/plain": [
       "True"
      ]
     },
     "execution_count": 15,
     "metadata": {},
     "output_type": "execute_result"
    }
   ],
   "source": [
    "os.path.exists('..\\\\..\\\\lol.txt')"
   ]
  },
  {
   "attachments": {},
   "cell_type": "markdown",
   "id": "b68c0b96",
   "metadata": {},
   "source": [
    "## 1.4 Text files vs. Binary files"
   ]
  },
  {
   "cell_type": "markdown",
   "id": "546807ff-456e-4569-a021-7eab788f1e18",
   "metadata": {},
   "source": [
    "**Text files** are simple and can be opened, and their contents examined by almost any software (e.g., Notepad, TextEdit, Jupiter,…). Examples of text file formats are .txt, .md or .csv."
   ]
  },
  {
   "cell_type": "markdown",
   "id": "40adaae8-6494-41b1-8a98-0f2291223c8f",
   "metadata": {},
   "source": [
    "**Binary files**, in contrast, require some processing to make sense of what they contain. For example, if you look at the raw data in a .png file, you will see gibberish. In addition, some binary files will only run on specific OSs. \n",
    "\n",
    "For example, the Excel.app on a Mac will not run on Windows, nor will the Excel.exe file run on macOS (or Linux). Some reasons for having binary files are speed and size; text files, though simple, can get bulky."
   ]
  },
  {
   "attachments": {},
   "cell_type": "markdown",
   "id": "1e2b2386",
   "metadata": {},
   "source": [
    "## 1.5 Extensions"
   ]
  },
  {
   "cell_type": "markdown",
   "id": "2fe18f90-aecb-4bcb-97e3-839d57cade3b",
   "metadata": {},
   "source": [
    "rmb to open the correct paths under where the things you want to navigate are saved\n",
    "\n",
    "and also rmb to put the correct type of extension e.g txt or doc etc\n",
    "\n",
    "Files are usually named to end with an extension separated from the name by a . like name.extension"
   ]
  },
  {
   "attachments": {},
   "cell_type": "markdown",
   "id": "d50af85f",
   "metadata": {},
   "source": [
    "# 2 Opening and closing files"
   ]
  },
  {
   "attachments": {},
   "cell_type": "markdown",
   "id": "fc33c455",
   "metadata": {},
   "source": [
    "## 2.1 Reading data"
   ]
  },
  {
   "attachments": {},
   "cell_type": "markdown",
   "id": "d0b97f33",
   "metadata": {},
   "source": [
    "## 2.2 Writing data"
   ]
  },
  {
   "attachments": {},
   "cell_type": "markdown",
   "id": "d2f2808a",
   "metadata": {},
   "source": [
    "### Writing to a file in one go"
   ]
  },
  {
   "cell_type": "code",
   "execution_count": null,
   "id": "0b75ebdf",
   "metadata": {},
   "outputs": [],
   "source": [
    "\n",
    "# Your code here\n"
   ]
  },
  {
   "attachments": {},
   "cell_type": "markdown",
   "id": "f9b7ef79",
   "metadata": {},
   "source": [
    "### Writing to a file, line by line"
   ]
  },
  {
   "cell_type": "code",
   "execution_count": null,
   "id": "4d1136c2",
   "metadata": {},
   "outputs": [],
   "source": [
    "\n",
    "# Your code here\n"
   ]
  },
  {
   "attachments": {},
   "cell_type": "markdown",
   "id": "02080582",
   "metadata": {},
   "source": [
    "# 3 Some useful packages"
   ]
  },
  {
   "attachments": {},
   "cell_type": "markdown",
   "id": "a759a8b6",
   "metadata": {},
   "source": [
    "# 4 OS safe paths"
   ]
  },
  {
   "attachments": {},
   "cell_type": "markdown",
   "id": "6168a137",
   "metadata": {},
   "source": [
    "# 5 Folders"
   ]
  },
  {
   "attachments": {},
   "cell_type": "markdown",
   "id": "0478cf24",
   "metadata": {},
   "source": [
    "## 5.1 Creating folders"
   ]
  },
  {
   "attachments": {},
   "cell_type": "markdown",
   "id": "c6f92630",
   "metadata": {},
   "source": [
    "## 5.2 Checking for existence"
   ]
  },
  {
   "attachments": {},
   "cell_type": "markdown",
   "id": "c3954930",
   "metadata": {},
   "source": [
    "### Using try-except"
   ]
  },
  {
   "cell_type": "code",
   "execution_count": null,
   "id": "40fdfea9",
   "metadata": {},
   "outputs": [],
   "source": [
    "\n",
    "# Your code here\n"
   ]
  },
  {
   "attachments": {},
   "cell_type": "markdown",
   "id": "b4252f8f",
   "metadata": {},
   "source": [
    "### Using os.path.exists()"
   ]
  },
  {
   "cell_type": "code",
   "execution_count": null,
   "id": "03b33317",
   "metadata": {},
   "outputs": [],
   "source": [
    "\n",
    "# Your code here\n"
   ]
  },
  {
   "attachments": {},
   "cell_type": "markdown",
   "id": "7d3bdae8",
   "metadata": {},
   "source": [
    "## 5.3 Copying files"
   ]
  },
  {
   "attachments": {},
   "cell_type": "markdown",
   "id": "f4ef1850",
   "metadata": {},
   "source": [
    "# 6 Listing and looking for files"
   ]
  },
  {
   "attachments": {},
   "cell_type": "markdown",
   "id": "e9f2886a",
   "metadata": {},
   "source": [
    "# 7 Extracting file info"
   ]
  },
  {
   "attachments": {},
   "cell_type": "markdown",
   "id": "d9bef88d",
   "metadata": {},
   "source": [
    "# 8 Deleting stuff"
   ]
  }
 ],
 "metadata": {
  "kernelspec": {
   "display_name": "Python 3 (ipykernel)",
   "language": "python",
   "name": "python3"
  },
  "language_info": {
   "codemirror_mode": {
    "name": "ipython",
    "version": 3
   },
   "file_extension": ".py",
   "mimetype": "text/x-python",
   "name": "python",
   "nbconvert_exporter": "python",
   "pygments_lexer": "ipython3",
   "version": "3.12.3"
  },
  "toc": {
   "base_numbering": 1,
   "nav_menu": {},
   "number_sections": true,
   "sideBar": true,
   "skip_h1_title": false,
   "title_cell": "Table of Contents",
   "title_sidebar": "Contents",
   "toc_cell": false,
   "toc_position": {},
   "toc_section_display": true,
   "toc_window_display": false
  },
  "vscode": {
   "interpreter": {
    "hash": "31f2aee4e71d21fbe5cf8b01ff0e069b9275f58929596ceb00d14d90e3e16cd6"
   }
  }
 },
 "nbformat": 4,
 "nbformat_minor": 5
}
