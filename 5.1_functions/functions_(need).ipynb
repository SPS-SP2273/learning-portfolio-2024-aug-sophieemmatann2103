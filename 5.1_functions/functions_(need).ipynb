{
 "cells": [
  {
   "attachments": {},
   "cell_type": "markdown",
   "id": "123456",
   "metadata": {},
   "source": [
    "<div style=\"text-align:left;font-size:2em\"><span style=\"font-weight:bolder;font-size:1.25em\">SP2273 | Learning Portfolio</span><br><br><span style=\"font-weight:bold;color:darkred\">Functions (Need)</span></div>"
   ]
  },
  {
   "cell_type": "code",
   "execution_count": 5,
   "id": "dd3747c9-d196-4608-92bb-69f53a596b0c",
   "metadata": {},
   "outputs": [
    {
     "name": "stdout",
     "output_type": "stream",
     "text": [
      "hi\n"
     ]
    }
   ],
   "source": [
    "x = print('hi')     # print usually does not return things"
   ]
  },
  {
   "cell_type": "code",
   "execution_count": 4,
   "id": "e5554a9d-bcf3-4269-9d55-cfab8bb8d305",
   "metadata": {},
   "outputs": [],
   "source": [
    "y = sum([1,2])      # return xxxx"
   ]
  },
  {
   "cell_type": "code",
   "execution_count": 3,
   "id": "cc441b53-7193-47fc-9c86-2286a845f521",
   "metadata": {},
   "outputs": [
    {
     "name": "stdout",
     "output_type": "stream",
     "text": [
      "x=None, y=3\n"
     ]
    }
   ],
   "source": [
    "print(f'{x=}, {y=}')"
   ]
  },
  {
   "cell_type": "markdown",
   "id": "4b8364fc-bfc5-4fad-92bf-74bf51afeb4e",
   "metadata": {},
   "source": [
    "This is an example where one function is returned (y) and the other is not (x). "
   ]
  },
  {
   "attachments": {},
   "cell_type": "markdown",
   "id": "56af0aae",
   "metadata": {},
   "source": [
    "# 1 User-defined functions"
   ]
  },
  {
   "attachments": {},
   "cell_type": "markdown",
   "id": "9fba25c7",
   "metadata": {},
   "source": [
    "## 1.1 Named Functions"
   ]
  },
  {
   "attachments": {},
   "cell_type": "markdown",
   "id": "8db95d9f",
   "metadata": {},
   "source": [
    "### Named functions that return"
   ]
  },
  {
   "cell_type": "code",
   "execution_count": 20,
   "id": "9ef8ef67-f94f-4f27-a57c-1d9f1849c3e0",
   "metadata": {},
   "outputs": [
    {
     "name": "stdin",
     "output_type": "stream",
     "text": [
      "What's your name?  Batman\n"
     ]
    },
    {
     "data": {
      "text/plain": [
       "'Hello Batman! So, nice to meet you!'"
      ]
     },
     "execution_count": 20,
     "metadata": {},
     "output_type": "execute_result"
    }
   ],
   "source": [
    "def greeting(name):\n",
    "    if name == 'Batman':   # after every ':' there is a block, which belongs to a \n",
    "                           # certain function\n",
    "        return 'Hello Batman! So, nice to meet you!'\n",
    "    else:\n",
    "        return f'Hello {name}!'\n",
    "\n",
    "greeting(input(\"What's your name? \"))"
   ]
  },
  {
   "cell_type": "code",
   "execution_count": 21,
   "id": "90b0e967-cee2-4e70-8ebd-bc33cfe6e6c7",
   "metadata": {},
   "outputs": [
    {
     "name": "stdin",
     "output_type": "stream",
     "text": [
      "What's your name?  Harley Quinn\n"
     ]
    },
    {
     "data": {
      "text/plain": [
       "'Hello Harley Quinn!'"
      ]
     },
     "execution_count": 21,
     "metadata": {},
     "output_type": "execute_result"
    }
   ],
   "source": [
    "def greeting(name):\n",
    "    if name == 'Batman':   # after every ':' there is a block, which belongs to a \n",
    "                           # certain function\n",
    "        return 'Hello Batman! So, nice to meet you!'\n",
    "    else:\n",
    "        return f'Hello {name}!'\n",
    "\n",
    "greeting(input(\"What's your name? \"))"
   ]
  },
  {
   "cell_type": "code",
   "execution_count": 9,
   "id": "624e4c17-4978-49b8-aa13-6ace7b2d7e28",
   "metadata": {},
   "outputs": [
    {
     "data": {
      "text/plain": [
       "'Hello Joker!'"
      ]
     },
     "execution_count": 9,
     "metadata": {},
     "output_type": "execute_result"
    }
   ],
   "source": [
    "name = 'Joker'\n",
    "\n",
    "greeting(name)"
   ]
  },
  {
   "cell_type": "code",
   "execution_count": 13,
   "id": "c7822f86-97d7-43b3-8428-117e6f42d553",
   "metadata": {},
   "outputs": [
    {
     "data": {
      "text/plain": [
       "'Hello Joker!'"
      ]
     },
     "execution_count": 13,
     "metadata": {},
     "output_type": "execute_result"
    }
   ],
   "source": [
    "greeting('Joker')         # why this works is because function expects only one argument \n",
    "greeting (name='Joker')   #also works because "
   ]
  },
  {
   "cell_type": "code",
   "execution_count": 14,
   "id": "72fbb2e4-caa2-4dec-8b00-a538dd6a91b0",
   "metadata": {},
   "outputs": [],
   "source": [
    "def greeting(name, sidekick):\n",
    "    if name == 'Batman':\n",
    "        return 'Hello Batman! So, nice to meet you!'\n",
    "    else:\n",
    "        return f'Hello {name}!'"
   ]
  },
  {
   "cell_type": "code",
   "execution_count": 15,
   "id": "354a649e-3c76-4c55-8f70-7e79605891f1",
   "metadata": {},
   "outputs": [
    {
     "ename": "TypeError",
     "evalue": "greeting() missing 1 required positional argument: 'sidekick'",
     "output_type": "error",
     "traceback": [
      "\u001b[1;31m---------------------------------------------------------------------------\u001b[0m",
      "\u001b[1;31mTypeError\u001b[0m                                 Traceback (most recent call last)",
      "Cell \u001b[1;32mIn[15], line 1\u001b[0m\n\u001b[1;32m----> 1\u001b[0m \u001b[43mgreeting\u001b[49m\u001b[43m(\u001b[49m\u001b[38;5;124;43m'\u001b[39;49m\u001b[38;5;124;43mJoker\u001b[39;49m\u001b[38;5;124;43m'\u001b[39;49m\u001b[43m)\u001b[49m\n\u001b[0;32m      2\u001b[0m greeting (name\u001b[38;5;241m=\u001b[39m\u001b[38;5;124m'\u001b[39m\u001b[38;5;124mJoker\u001b[39m\u001b[38;5;124m'\u001b[39m)\n",
      "\u001b[1;31mTypeError\u001b[0m: greeting() missing 1 required positional argument: 'sidekick'"
     ]
    }
   ],
   "source": [
    "greeting('Joker')\n",
    "greeting (name='Joker')"
   ]
  },
  {
   "cell_type": "code",
   "execution_count": 17,
   "id": "75a46a9b-2ca6-4132-9ced-db2ae44f16e6",
   "metadata": {},
   "outputs": [
    {
     "data": {
      "text/plain": [
       "'Hello Joker!'"
      ]
     },
     "execution_count": 17,
     "metadata": {},
     "output_type": "execute_result"
    }
   ],
   "source": [
    "greeting('Joker', 'Robin')"
   ]
  },
  {
   "cell_type": "markdown",
   "id": "1d7f7216-e771-44c4-90be-fca63c415b30",
   "metadata": {},
   "source": [
    "Here we are not using sidekick at all, only name was used. \n",
    "\n",
    "There are 2 arguments here. The arrangement of arguments is crucial here. "
   ]
  },
  {
   "cell_type": "code",
   "execution_count": 18,
   "id": "d3dc12db-05d2-4b8f-b9ac-ad736f07ca32",
   "metadata": {},
   "outputs": [
    {
     "data": {
      "text/plain": [
       "'Hello Joker!'"
      ]
     },
     "execution_count": 18,
     "metadata": {},
     "output_type": "execute_result"
    }
   ],
   "source": [
    "greeting(name='Joker', sidekick='Robin')  # Code becomes less cryptic and easier to read."
   ]
  },
  {
   "cell_type": "code",
   "execution_count": 23,
   "id": "e84a0504-4f8a-4440-937f-1f8dc9025756",
   "metadata": {},
   "outputs": [],
   "source": [
    "import numpy as np"
   ]
  },
  {
   "cell_type": "code",
   "execution_count": 36,
   "id": "4bba0cf7-7d1e-49af-a056-16f99d3da100",
   "metadata": {},
   "outputs": [],
   "source": [
    "def basic_stats(numbers):\n",
    "    np_numbers = np.array(numbers)\n",
    "    my_min = np_numbers.min()\n",
    "    my_max = np_numbers.max()\n",
    "    my_mean = np_numbers.mean()\n",
    "    return my_max, my_min, my_mean       # Spits out a tuple"
   ]
  },
  {
   "cell_type": "code",
   "execution_count": 37,
   "id": "5bbef209",
   "metadata": {},
   "outputs": [
    {
     "data": {
      "text/plain": [
       "(np.int64(5), np.int64(1), np.float64(3.0))"
      ]
     },
     "execution_count": 37,
     "metadata": {},
     "output_type": "execute_result"
    }
   ],
   "source": [
    "basic_stats([1, 2, 3, 4, 5])"
   ]
  },
  {
   "cell_type": "code",
   "execution_count": 38,
   "id": "2bf9adc1-2c50-44cf-963d-fabc358ccacc",
   "metadata": {},
   "outputs": [
    {
     "data": {
      "text/plain": [
       "[np.int64(5), np.int64(1), np.float64(3.0)]"
      ]
     },
     "execution_count": 38,
     "metadata": {},
     "output_type": "execute_result"
    }
   ],
   "source": [
    "def basic_stats(numbers):\n",
    "    np_numbers = np.array(numbers)\n",
    "    my_min = np_numbers.min()\n",
    "    my_max = np_numbers.max()\n",
    "    my_mean = np_numbers.mean()\n",
    "    return [my_max, my_min, my_mean]     # Here is how to spit out a list\n",
    "\n",
    "basic_stats([1, 2, 3, 4, 5])"
   ]
  },
  {
   "cell_type": "code",
   "execution_count": 35,
   "id": "2e1ec28e-3254-4c8f-b338-c7dec2961f1e",
   "metadata": {},
   "outputs": [
    {
     "data": {
      "text/plain": [
       "array([5., 1., 3.])"
      ]
     },
     "execution_count": 35,
     "metadata": {},
     "output_type": "execute_result"
    }
   ],
   "source": [
    "def basic_stats(numbers):\n",
    "    np_numbers = np.array(numbers)\n",
    "    my_min = np_numbers.min()\n",
    "    my_max = np_numbers.max()\n",
    "    my_mean = np_numbers.mean()\n",
    "    return np.array([my_max, my_min, my_mean])     # Will spit out an array\n",
    "\n",
    "basic_stats([1, 2, 3, 4, 5])"
   ]
  },
  {
   "cell_type": "code",
   "execution_count": 39,
   "id": "735b7d9b-6f1b-44e7-8d59-77f804c60e58",
   "metadata": {},
   "outputs": [],
   "source": [
    "list_min, list_max, list_mean = basic_stats([1, 2, 3, 4, 5])"
   ]
  },
  {
   "cell_type": "code",
   "execution_count": 40,
   "id": "7894fe4a-a625-474b-97f9-a78b00d323ea",
   "metadata": {},
   "outputs": [
    {
     "data": {
      "text/plain": [
       "np.int64(5)"
      ]
     },
     "execution_count": 40,
     "metadata": {},
     "output_type": "execute_result"
    }
   ],
   "source": [
    "list_min"
   ]
  },
  {
   "cell_type": "code",
   "execution_count": null,
   "id": "1a0117d5-8417-4a4c-8740-3b8eb462bb7a",
   "metadata": {},
   "outputs": [],
   "source": []
  },
  {
   "attachments": {},
   "cell_type": "markdown",
   "id": "b04384f4",
   "metadata": {},
   "source": [
    "### Named functions that don’t return"
   ]
  },
  {
   "cell_type": "markdown",
   "id": "0c2c63b2-d24c-41ed-a232-c99935e76206",
   "metadata": {},
   "source": [
    "A function does not have to return anything. A good example is print(), which does something but does not return a value. \n",
    "\n",
    "You will often also need functions like these, for instance, to save data to a file. I will show you a few of such functions in later chapters."
   ]
  },
  {
   "attachments": {},
   "cell_type": "markdown",
   "id": "2e0c3b47",
   "metadata": {},
   "source": [
    "## 1.2 Anonymous functions"
   ]
  },
  {
   "cell_type": "markdown",
   "id": "5155cc69-b90c-45ea-b8fe-c2227ceb9140",
   "metadata": {},
   "source": [
    "Anonymous or lambda functions are suitable for short one-liners. Let me show you two examples."
   ]
  },
  {
   "cell_type": "code",
   "execution_count": 45,
   "id": "f115b2f6-ca50-491a-b0e3-aa906d65aee4",
   "metadata": {},
   "outputs": [],
   "source": [
    "my_short_function = lambda name: f\"Hello {name}!\""
   ]
  },
  {
   "cell_type": "code",
   "execution_count": 46,
   "id": "0dde21c7-2d9f-4f53-8e82-9804bbece71d",
   "metadata": {},
   "outputs": [
    {
     "data": {
      "text/plain": [
       "'Hello Super Man!'"
      ]
     },
     "execution_count": 46,
     "metadata": {},
     "output_type": "execute_result"
    }
   ],
   "source": [
    "my_short_function(name=\"Super Man\")"
   ]
  },
  {
   "cell_type": "markdown",
   "id": "8b93f943-5fd0-43d2-96cd-017288aa640c",
   "metadata": {},
   "source": [
    "A lambda function always returns the value of the last statement."
   ]
  },
  {
   "cell_type": "code",
   "execution_count": 41,
   "id": "dd3cb38f",
   "metadata": {},
   "outputs": [],
   "source": [
    "numbers=[[9, 0, -10],\n",
    "         [8, 1, -11],\n",
    "         [7, 2, -12],\n",
    "         [6, 3, -13],\n",
    "         [5, 4, -14],\n",
    "         [4, 5, -15],\n",
    "         [3, 6, -16],\n",
    "         [2, 7, -17],\n",
    "         [1, 8, -18],\n",
    "         [0, 9, -19]]"
   ]
  },
  {
   "cell_type": "code",
   "execution_count": 42,
   "id": "c1b9d7ae-6695-441f-862a-ffc5a2c1ffc7",
   "metadata": {},
   "outputs": [
    {
     "data": {
      "text/plain": [
       "[[0, 9, -19],\n",
       " [1, 8, -18],\n",
       " [2, 7, -17],\n",
       " [3, 6, -16],\n",
       " [4, 5, -15],\n",
       " [5, 4, -14],\n",
       " [6, 3, -13],\n",
       " [7, 2, -12],\n",
       " [8, 1, -11],\n",
       " [9, 0, -10]]"
      ]
     },
     "execution_count": 42,
     "metadata": {},
     "output_type": "execute_result"
    }
   ],
   "source": [
    "sorted(numbers)"
   ]
  },
  {
   "cell_type": "code",
   "execution_count": 43,
   "id": "45b062a2-be86-4a6a-862f-fafcb81c8012",
   "metadata": {},
   "outputs": [
    {
     "data": {
      "text/plain": [
       "[[9, 0, -10],\n",
       " [8, 1, -11],\n",
       " [7, 2, -12],\n",
       " [6, 3, -13],\n",
       " [5, 4, -14],\n",
       " [4, 5, -15],\n",
       " [3, 6, -16],\n",
       " [2, 7, -17],\n",
       " [1, 8, -18],\n",
       " [0, 9, -19]]"
      ]
     },
     "execution_count": 43,
     "metadata": {},
     "output_type": "execute_result"
    }
   ],
   "source": [
    "# Sort by comparing a custom key\n",
    "# that uses the 2nd element (index=1)\n",
    "sorted(numbers, key=lambda x: x[1])"
   ]
  },
  {
   "cell_type": "code",
   "execution_count": 44,
   "id": "f7eb2c5d-7c64-4c36-9ed5-839a2bbd6147",
   "metadata": {},
   "outputs": [
    {
     "data": {
      "text/plain": [
       "[[0, 9, -19],\n",
       " [1, 8, -18],\n",
       " [2, 7, -17],\n",
       " [3, 6, -16],\n",
       " [4, 5, -15],\n",
       " [5, 4, -14],\n",
       " [6, 3, -13],\n",
       " [7, 2, -12],\n",
       " [8, 1, -11],\n",
       " [9, 0, -10]]"
      ]
     },
     "execution_count": 44,
     "metadata": {},
     "output_type": "execute_result"
    }
   ],
   "source": [
    "# Sort by comparing a custom key\n",
    "# that uses the sum of the elements.\n",
    "sorted(numbers, key=lambda x: sum(x))   "
   ]
  },
  {
   "cell_type": "code",
   "execution_count": null,
   "id": "5f7b78f6-2252-4906-bb14-4a52e307036b",
   "metadata": {},
   "outputs": [],
   "source": []
  },
  {
   "attachments": {},
   "cell_type": "markdown",
   "id": "e5ce7bfe",
   "metadata": {},
   "source": [
    "## 1.3 Optional arguments"
   ]
  },
  {
   "cell_type": "code",
   "execution_count": 47,
   "id": "8b9a76a0-34c9-42bd-b3ce-ea97af8d47fe",
   "metadata": {},
   "outputs": [],
   "source": [
    "def greeting(name='no one'):\n",
    "    if name == 'Batman':\n",
    "        return 'Hello Batman! So, nice to meet you!'\n",
    "    else:\n",
    "        return f'Hello {name}!'"
   ]
  },
  {
   "cell_type": "code",
   "execution_count": 48,
   "id": "e286a926-fe7f-45d2-b32f-138c037649f4",
   "metadata": {},
   "outputs": [
    {
     "data": {
      "text/plain": [
       "'Hello no one!'"
      ]
     },
     "execution_count": 48,
     "metadata": {},
     "output_type": "execute_result"
    }
   ],
   "source": [
    "greeting()"
   ]
  },
  {
   "cell_type": "code",
   "execution_count": 51,
   "id": "9e19583d-6640-4cc4-b7cc-920fedb1cf35",
   "metadata": {},
   "outputs": [
    {
     "data": {
      "text/plain": [
       "'Hello Harley!'"
      ]
     },
     "execution_count": 51,
     "metadata": {},
     "output_type": "execute_result"
    }
   ],
   "source": [
    "greeting('Harley')"
   ]
  },
  {
   "cell_type": "code",
   "execution_count": 53,
   "id": "6e231fa5-b7c4-4290-bb1c-3ca3363ad3c1",
   "metadata": {},
   "outputs": [
    {
     "data": {
      "text/plain": [
       "'Hello Batman! So, nice to meet you!'"
      ]
     },
     "execution_count": 53,
     "metadata": {},
     "output_type": "execute_result"
    }
   ],
   "source": [
    "greeting('Batman')             # special treatment haha"
   ]
  },
  {
   "cell_type": "code",
   "execution_count": 55,
   "id": "86aeecef-af2a-4223-8c8b-5e805069ed3f",
   "metadata": {},
   "outputs": [],
   "source": [
    "def greeting(name, pre='Super'): # This will make the argument mandatory for the name part\n",
    "    if name == 'Batman':\n",
    "        return 'Hello Batman! So, nice to meet you!'\n",
    "    else:\n",
    "        return f'Hello {name}!'"
   ]
  },
  {
   "cell_type": "code",
   "execution_count": 56,
   "id": "14502317-5863-4ff0-9c5e-2aeed681a261",
   "metadata": {},
   "outputs": [
    {
     "name": "stdout",
     "output_type": "stream",
     "text": [
      "I am Batman!\n",
      "I---am---Batman!\n"
     ]
    }
   ],
   "source": [
    "# Using default values\n",
    "print('I', 'am', 'Batman!')\n",
    "# Specifying an optional argument\n",
    "print('I', 'am', 'Batman!', sep='---')  "
   ]
  },
  {
   "attachments": {},
   "cell_type": "markdown",
   "id": "101537e1",
   "metadata": {},
   "source": [
    "## 1.4 The importance of functions?"
   ]
  },
  {
   "attachments": {},
   "cell_type": "markdown",
   "id": "e1ce94cd",
   "metadata": {},
   "source": [
    "### An argument for functions"
   ]
  },
  {
   "cell_type": "markdown",
   "id": "d545a1cb-1c1e-4265-897a-a92ea768588b",
   "metadata": {},
   "source": [
    "**Abstraction of details**\n",
    "\n",
    "**Reusability of code**\n",
    "\n",
    "**Maintainability of code**"
   ]
  },
  {
   "attachments": {},
   "cell_type": "markdown",
   "id": "df1082d1",
   "metadata": {},
   "source": [
    "### A word of caution"
   ]
  },
  {
   "cell_type": "markdown",
   "id": "2c939073-b002-4d39-81cc-96498c106bd8",
   "metadata": {},
   "source": [
    "There are many instances where functions are **abused**; for example, by trying to do too many things or having too many arguments. They can also be overused. \n",
    "\n",
    "Having too many functions can make it difficult to read your code and also increase computational overheads. "
   ]
  },
  {
   "cell_type": "code",
   "execution_count": null,
   "id": "64a96cd0-857e-4eed-b919-68e96a4e456f",
   "metadata": {},
   "outputs": [],
   "source": []
  }
 ],
 "metadata": {
  "kernelspec": {
   "display_name": "Python 3 (ipykernel)",
   "language": "python",
   "name": "python3"
  },
  "language_info": {
   "codemirror_mode": {
    "name": "ipython",
    "version": 3
   },
   "file_extension": ".py",
   "mimetype": "text/x-python",
   "name": "python",
   "nbconvert_exporter": "python",
   "pygments_lexer": "ipython3",
   "version": "3.12.3"
  },
  "toc": {
   "base_numbering": 1,
   "nav_menu": {},
   "number_sections": true,
   "sideBar": true,
   "skip_h1_title": false,
   "title_cell": "Table of Contents",
   "title_sidebar": "Contents",
   "toc_cell": false,
   "toc_position": {},
   "toc_section_display": true,
   "toc_window_display": false
  },
  "vscode": {
   "interpreter": {
    "hash": "31f2aee4e71d21fbe5cf8b01ff0e069b9275f58929596ceb00d14d90e3e16cd6"
   }
  }
 },
 "nbformat": 4,
 "nbformat_minor": 5
}
