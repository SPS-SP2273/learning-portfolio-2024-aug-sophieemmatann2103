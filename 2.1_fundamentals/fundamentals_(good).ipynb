{
 "cells": [
  {
   "attachments": {},
   "cell_type": "markdown",
   "id": "123456",
   "metadata": {},
   "source": [
    "<div style=\"text-align:left;font-size:2em\"><span style=\"font-weight:bolder;font-size:1.25em\">SP2273 | Learning Portfolio</span><br><br><span style=\"font-weight:bold;color:darkred\">Fundamentals (Good)</span></div>"
   ]
  },
  {
   "cell_type": "code",
   "execution_count": 40,
   "id": "2b989f77-31fd-48ea-ae24-23019fb18e29",
   "metadata": {},
   "outputs": [],
   "source": [
    "import numpy as np"
   ]
  },
  {
   "attachments": {},
   "cell_type": "markdown",
   "id": "7ce27aa3",
   "metadata": {},
   "source": [
    "# 1 There is more to if"
   ]
  },
  {
   "cell_type": "code",
   "execution_count": 1,
   "id": "ba2add5e-2be9-460e-bf7b-84b8aeb3d11c",
   "metadata": {},
   "outputs": [
    {
     "name": "stdout",
     "output_type": "stream",
     "text": [
      "Hello Harley!\n"
     ]
    }
   ],
   "source": [
    "name = 'Harley'\n",
    "\n",
    "if name == 'Harley':\n",
    "    print('Hello Harley!')\n",
    "elif name == 'Joker':\n",
    "    print('Hello Puddin!')\n",
    "else:\n",
    "    print('Hello World!')"
   ]
  },
  {
   "attachments": {},
   "cell_type": "markdown",
   "id": "9d3fa134",
   "metadata": {},
   "source": [
    "# 2 Asking questions"
   ]
  },
  {
   "cell_type": "code",
   "execution_count": 3,
   "id": "24c629df-8d4f-430f-92f9-d316ed88fbb2",
   "metadata": {},
   "outputs": [],
   "source": [
    "fruits = ['apple', 'banana', 'pineapple', 'jackfruit']\n",
    "vegetables = ['celery', 'potato', 'broccoli', 'kale']"
   ]
  },
  {
   "cell_type": "markdown",
   "id": "3fb0fbf1-2c03-4773-885d-e1b3bf10cb41",
   "metadata": {},
   "source": [
    "## Example "
   ]
  },
  {
   "cell_type": "code",
   "execution_count": 4,
   "id": "bdd8786d-e88f-4539-8b62-4d28b6a6230c",
   "metadata": {},
   "outputs": [
    {
     "data": {
      "text/plain": [
       "False"
      ]
     },
     "execution_count": 4,
     "metadata": {},
     "output_type": "execute_result"
    }
   ],
   "source": [
    "'apple' in vegetables"
   ]
  },
  {
   "cell_type": "code",
   "execution_count": 5,
   "id": "53f64f34-3660-43b9-8344-68c3fbb1f408",
   "metadata": {},
   "outputs": [
    {
     "data": {
      "text/plain": [
       "True"
      ]
     },
     "execution_count": 5,
     "metadata": {},
     "output_type": "execute_result"
    }
   ],
   "source": [
    "'banana' in fruits"
   ]
  },
  {
   "cell_type": "code",
   "execution_count": 8,
   "id": "343410ea-7a7b-43a7-acec-773edaae4960",
   "metadata": {},
   "outputs": [
    {
     "name": "stdout",
     "output_type": "stream",
     "text": [
      "A fruit that keeps the doctor away.\n"
     ]
    }
   ],
   "source": [
    "if 'apple' in fruits:\n",
    "    print('A fruit that keeps the doctor away.')"
   ]
  },
  {
   "cell_type": "markdown",
   "id": "22f3988b-1acc-4c61-9a30-04a06fe78a0a",
   "metadata": {},
   "source": [
    "## Example "
   ]
  },
  {
   "cell_type": "code",
   "execution_count": 9,
   "id": "0839351f-a53a-430f-a9d5-4edac9b4cfd8",
   "metadata": {},
   "outputs": [
    {
     "data": {
      "text/plain": [
       "True"
      ]
     },
     "execution_count": 9,
     "metadata": {},
     "output_type": "execute_result"
    }
   ],
   "source": [
    "'peach' not in fruits"
   ]
  },
  {
   "cell_type": "markdown",
   "id": "baaac54a-d1a9-4ea2-a17e-f665fe718965",
   "metadata": {},
   "source": [
    "Note that all the keywords are in $\\color{green}{\\text{Green!}}$"
   ]
  },
  {
   "cell_type": "markdown",
   "id": "b6edcae7-2c31-41bd-b880-a32bf2462680",
   "metadata": {},
   "source": [
    "## Example "
   ]
  },
  {
   "cell_type": "code",
   "execution_count": 12,
   "id": "2d98ecd6-9e84-4c55-8506-40e87fe88a47",
   "metadata": {},
   "outputs": [
    {
     "data": {
      "text/plain": [
       "True"
      ]
     },
     "execution_count": 12,
     "metadata": {},
     "output_type": "execute_result"
    }
   ],
   "source": [
    "('apple' in fruits) and ('celery' in vegetables)     # Brackets not needed but makes code easier to read"
   ]
  },
  {
   "cell_type": "markdown",
   "id": "e23c3f21-bcd9-4116-bfa5-014b0337ddba",
   "metadata": {},
   "source": [
    "## Example "
   ]
  },
  {
   "cell_type": "code",
   "execution_count": 14,
   "id": "d0ceb9e8-5462-4f00-9f4f-17e221ceafc4",
   "metadata": {},
   "outputs": [
    {
     "data": {
      "text/plain": [
       "True"
      ]
     },
     "execution_count": 14,
     "metadata": {},
     "output_type": "execute_result"
    }
   ],
   "source": [
    "('apple' in fruits) or ('celery' in vegetables) "
   ]
  },
  {
   "cell_type": "code",
   "execution_count": 16,
   "id": "b32d0f4f-1380-454c-9e18-7c5c512f4287",
   "metadata": {},
   "outputs": [
    {
     "data": {
      "text/plain": [
       "True"
      ]
     },
     "execution_count": 16,
     "metadata": {},
     "output_type": "execute_result"
    }
   ],
   "source": [
    "'app' in 'apple'    # Asks if app is in apple "
   ]
  },
  {
   "cell_type": "code",
   "execution_count": 23,
   "id": "01a4eca6-00ad-4996-b935-c7022853ce27",
   "metadata": {},
   "outputs": [
    {
     "data": {
      "text/plain": [
       "False"
      ]
     },
     "execution_count": 23,
     "metadata": {},
     "output_type": "execute_result"
    }
   ],
   "source": [
    "'apples' > 'oranges'   # This comparison works because English letters are internally represented as numbers. \n",
    "                       # For example, 'a' is 97 and 'o' is 111. \n",
    "                       # This will become even clearer after you have worked on the section below on data types."
   ]
  },
  {
   "cell_type": "code",
   "execution_count": 24,
   "id": "4e34e0c0-bc79-4649-98d9-b7cb5a7d2049",
   "metadata": {},
   "outputs": [
    {
     "data": {
      "text/plain": [
       "True"
      ]
     },
     "execution_count": 24,
     "metadata": {},
     "output_type": "execute_result"
    }
   ],
   "source": [
    "'apples' > 'Aranges'    # The > function only compares the first letter. \n",
    "                        # 3 > 10 will work but not 3 > apples"
   ]
  },
  {
   "attachments": {},
   "cell_type": "markdown",
   "id": "c6e58211",
   "metadata": {},
   "source": [
    "## 2.1 Asking Math questions"
   ]
  },
  {
   "cell_type": "markdown",
   "id": "26520ef6-59a0-4b1a-ad75-26d20965eb57",
   "metadata": {},
   "source": [
    "|**Question/Condition**\t| **Math Symbol**  |**Python Symbols**|\n",
    "|:---                   |:---              |:---              | \n",
    "|Equals?                | =\t               |  ==              |\n",
    "|Not equal?\t            | ≠\t               |  !=              |\n",
    "Less than?\t            | <                |  <               |\n",
    "Greater than?\t        | >\t               |  >               |\n",
    "Less than or equal?\t    | ≤\t               |  <=              |\n",
    "Greater than or equal?  | ≥\t               |  >=              |"
   ]
  },
  {
   "attachments": {},
   "cell_type": "markdown",
   "id": "fff26707-2714-4a2f-8952-2e197f2129e9",
   "metadata": {},
   "source": [
    "Python also accepts the following syntaxes:\n",
    "\n",
    "x > 5 and x < 15\n",
    "\n",
    "(x > 5) and (x < 15)\n",
    "\n",
    "5 < x < 15"
   ]
  },
  {
   "attachments": {},
   "cell_type": "markdown",
   "id": "74cb42b9",
   "metadata": {},
   "source": [
    "# 3 Python stores information in different formats or types"
   ]
  },
  {
   "cell_type": "markdown",
   "id": "cc70528d-ad82-4681-b2d2-6d45f3bbc51e",
   "metadata": {},
   "source": [
    "## Example "
   ]
  },
  {
   "cell_type": "code",
   "execution_count": 38,
   "id": "39edfc78-e484-4975-8d94-38a9c6a55e58",
   "metadata": {},
   "outputs": [
    {
     "name": "stdout",
     "output_type": "stream",
     "text": [
      "Original:  1 <class 'int'>\n"
     ]
    }
   ],
   "source": [
    "x = int(1.234)     # Number here is not an integer, but a floating type\n",
    "print('Original: ',x, type(x))"
   ]
  },
  {
   "cell_type": "code",
   "execution_count": 35,
   "id": "aacabc17-da97-48b5-9591-33aa578e4820",
   "metadata": {},
   "outputs": [
    {
     "name": "stdout",
     "output_type": "stream",
     "text": [
      "Original:  1.234 <class 'float'>\n"
     ]
    }
   ],
   "source": [
    "x = 1.234       # Decimals are called floats\n",
    "print('Original: ',x, type(x))"
   ]
  },
  {
   "cell_type": "code",
   "execution_count": 36,
   "id": "1c42cbd8-7f3b-4c74-9322-65203b4904bc",
   "metadata": {},
   "outputs": [
    {
     "name": "stdout",
     "output_type": "stream",
     "text": [
      "Original:  1.234 <class 'str'>\n"
     ]
    }
   ],
   "source": [
    "x = str(1.234)     # Printing an english word that looks like a number \n",
    "print('Original: ',x, type(x))"
   ]
  },
  {
   "cell_type": "code",
   "execution_count": 30,
   "id": "ec76aa06-fc37-478e-adb9-f4c6e0b1f26e",
   "metadata": {},
   "outputs": [
    {
     "name": "stdout",
     "output_type": "stream",
     "text": [
      "(1.234+0j) <class 'complex'>\n"
     ]
    }
   ],
   "source": [
    "x = complex(1.234)\n",
    "print(x, type(x))"
   ]
  },
  {
   "cell_type": "markdown",
   "id": "9650a337-d492-443d-a4b0-d7d9fdf11c48",
   "metadata": {},
   "source": [
    "## Example"
   ]
  },
  {
   "cell_type": "markdown",
   "id": "cb67dc73-ee0c-46da-a5f3-9e3e27c01c2c",
   "metadata": {},
   "source": [
    "It is important to know the type of data, because we cannot use str in math."
   ]
  },
  {
   "cell_type": "code",
   "execution_count": 39,
   "id": "43fc2fcd-d0ef-4359-9de3-965871fe1074",
   "metadata": {},
   "outputs": [
    {
     "data": {
      "text/plain": [
       "'1.2341.2341.2341.2341.234'"
      ]
     },
     "execution_count": 39,
     "metadata": {},
     "output_type": "execute_result"
    }
   ],
   "source": [
    "'1.234'*5      # It takes a str, and puts 5 of them tgt."
   ]
  },
  {
   "cell_type": "code",
   "execution_count": 41,
   "id": "d26b2c2c-e65d-4861-9778-1e8723a2c19e",
   "metadata": {},
   "outputs": [
    {
     "data": {
      "text/plain": [
       "np.float64(2.0)"
      ]
     },
     "execution_count": 41,
     "metadata": {},
     "output_type": "execute_result"
    }
   ],
   "source": [
    "np.sqrt(4)"
   ]
  },
  {
   "cell_type": "markdown",
   "id": "81985737-9092-472f-8f34-00a79d748bd7",
   "metadata": {},
   "source": [
    "The different kinds of float just stores different kinds of data. For example, float64 can store more precise data than float32. \n",
    "\n",
    "The default float is 64 because all our laptops are under this 64 version."
   ]
  },
  {
   "cell_type": "code",
   "execution_count": 42,
   "id": "27775245-46e1-4056-96c7-85fc49c688ab",
   "metadata": {},
   "outputs": [
    {
     "data": {
      "text/plain": [
       "np.float32(2.0)"
      ]
     },
     "execution_count": 42,
     "metadata": {},
     "output_type": "execute_result"
    }
   ],
   "source": [
    "np.sqrt(4, dtype='float32')"
   ]
  },
  {
   "attachments": {},
   "cell_type": "markdown",
   "id": "183d7b13",
   "metadata": {},
   "source": [
    "# 4 Never compare **floats** directly"
   ]
  },
  {
   "cell_type": "code",
   "execution_count": 43,
   "id": "3be5f95a-cc2d-4d37-b30f-bb0cf11ba4d8",
   "metadata": {},
   "outputs": [
    {
     "data": {
      "text/plain": [
       "False"
      ]
     },
     "execution_count": 43,
     "metadata": {},
     "output_type": "execute_result"
    }
   ],
   "source": [
    "a = 0.1\n",
    "a3 = 0.3\n",
    "a * 3 == a3"
   ]
  },
  {
   "cell_type": "code",
   "execution_count": 55,
   "id": "91807451-8fb7-44c2-b8bd-a802fb71ac43",
   "metadata": {},
   "outputs": [
    {
     "data": {
      "text/plain": [
       "True"
      ]
     },
     "execution_count": 55,
     "metadata": {},
     "output_type": "execute_result"
    }
   ],
   "source": [
    "eps = 1E-15             # 1 x 10^(-15)\n",
    "                        # eps usually refers to a small positive number, often used in contexts where numerical precision is important. \n",
    "                        #It's commonly associated with floating-point comparisons, \n",
    "                        # where you need to account for the potential inaccuracies of floating-point arithmetic.\n",
    "\n",
    "abs(a3 - a*3) < eps     # If we don't put abs, probably it will be a negative value.\n",
    "                        # This allows us for a better comparison for very small numbers in Python,\n",
    "                        # such as are those small numbers close enough."
   ]
  },
  {
   "cell_type": "code",
   "execution_count": 51,
   "id": "e3ef47cf-a3c1-422b-9843-0efba7332da8",
   "metadata": {},
   "outputs": [
    {
     "data": {
      "text/plain": [
       "np.True_"
      ]
     },
     "execution_count": 51,
     "metadata": {},
     "output_type": "execute_result"
    }
   ],
   "source": [
    "np.isclose(a3, a*3)"
   ]
  },
  {
   "cell_type": "code",
   "execution_count": 48,
   "id": "249781ea-d3b3-4ed5-bef8-42e03d96bede",
   "metadata": {},
   "outputs": [
    {
     "data": {
      "text/plain": [
       "0.30000000000000004"
      ]
     },
     "execution_count": 48,
     "metadata": {},
     "output_type": "execute_result"
    }
   ],
   "source": [
    "a*3           # It has a 4 at the back because of how numbers are represented on a computer (truncation error)."
   ]
  },
  {
   "cell_type": "code",
   "execution_count": 45,
   "id": "30067f49-f8a4-43f2-aed6-6c4507ad167e",
   "metadata": {},
   "outputs": [
    {
     "data": {
      "text/plain": [
       "True"
      ]
     },
     "execution_count": 45,
     "metadata": {},
     "output_type": "execute_result"
    }
   ],
   "source": [
    "A = 1\n",
    "A3 = 3\n",
    "A * 3 == A3             # Integer math works perfectly fine, but not for floats"
   ]
  },
  {
   "attachments": {},
   "cell_type": "markdown",
   "id": "09930bb9",
   "metadata": {},
   "source": [
    "# 5 Combining English and variables"
   ]
  },
  {
   "cell_type": "markdown",
   "id": "c439c5ec-d01b-4d7e-b1d5-9ecbd2477301",
   "metadata": {},
   "source": [
    "## Example "
   ]
  },
  {
   "cell_type": "code",
   "execution_count": 67,
   "id": "ec1ffb00-9a14-448e-a864-96d33c550277",
   "metadata": {},
   "outputs": [
    {
     "name": "stdout",
     "output_type": "stream",
     "text": [
      "Hello BATMAN!\n"
     ]
    }
   ],
   "source": [
    "xxx_name = \"Batman\"\n",
    "print(f\"Hello {name.upper()}!\")        # Whenever we want to combine English and variables, \n",
    "                               # we put f in front & variables in {}"
   ]
  },
  {
   "cell_type": "code",
   "execution_count": 68,
   "id": "3769e250-7d01-4066-aafe-b76d8b952bff",
   "metadata": {},
   "outputs": [
    {
     "name": "stdout",
     "output_type": "stream",
     "text": [
      "xxx_name = 'Batman'\n"
     ]
    }
   ],
   "source": [
    "print(f'{xxx_name = }' )"
   ]
  },
  {
   "cell_type": "code",
   "execution_count": 57,
   "id": "e4594c4b-6bb7-459c-8f80-f71d5fce47cf",
   "metadata": {},
   "outputs": [],
   "source": [
    "filename = f\"experiment_{date}_{sample}.txt\" "
   ]
  },
  {
   "cell_type": "markdown",
   "id": "45799e80-cac9-406d-aee5-e27dc8b63df7",
   "metadata": {},
   "source": [
    "## Example "
   ]
  },
  {
   "cell_type": "code",
   "execution_count": 69,
   "id": "a2c4c9b5-cc6f-4265-b161-493ba362e0f5",
   "metadata": {},
   "outputs": [
    {
     "name": "stdout",
     "output_type": "stream",
     "text": [
      "The value of 10 squared is 100!\n"
     ]
    }
   ],
   "source": [
    "x = 10\n",
    "print(f\"The value of {x} squared is {x**2}!\")"
   ]
  },
  {
   "cell_type": "code",
   "execution_count": 70,
   "id": "3f175158-a098-4d6e-b827-bb53fde5dbb5",
   "metadata": {},
   "outputs": [
    {
     "name": "stdout",
     "output_type": "stream",
     "text": [
      "The value of 10 'squared' is 100!\n"
     ]
    }
   ],
   "source": [
    "x = 10\n",
    "print(f\"The value of {x} 'squared' is {x**2}!\")"
   ]
  },
  {
   "cell_type": "markdown",
   "id": "c7433c60-3269-4a26-bd72-90ea14075199",
   "metadata": {},
   "source": [
    "## Example"
   ]
  },
  {
   "cell_type": "code",
   "execution_count": 71,
   "id": "3490dda8-2986-4eed-965c-8199e9a88870",
   "metadata": {},
   "outputs": [
    {
     "name": "stdout",
     "output_type": "stream",
     "text": [
      "Bruce Wayne is Batman.\n"
     ]
    }
   ],
   "source": [
    "text = 'Bruce Wayne is Batman.'\n",
    "print(f'{text}')"
   ]
  },
  {
   "cell_type": "code",
   "execution_count": 77,
   "id": "2cb23959-e5b5-4489-a02e-d3ad5b31c012",
   "metadata": {},
   "outputs": [
    {
     "name": "stdout",
     "output_type": "stream",
     "text": [
      "        Bruce Wayne is Batman.\n"
     ]
    }
   ],
   "source": [
    "print(f'{text:>30}')      # A block of 30 characters;\n",
    "                          # aligned right"
   ]
  },
  {
   "cell_type": "code",
   "execution_count": 78,
   "id": "1475885b-3e2e-4edd-8558-e61cefee500a",
   "metadata": {},
   "outputs": [
    {
     "name": "stdout",
     "output_type": "stream",
     "text": [
      "    Bruce Wayne is Batman.    \n"
     ]
    }
   ],
   "source": [
    "print(f'{text:^30}')      # A block of 30 characters;\n",
    "                          # aligned centre"
   ]
  },
  {
   "cell_type": "code",
   "execution_count": 79,
   "id": "17a660a7-d071-4fb2-bce2-57724a98003d",
   "metadata": {},
   "outputs": [
    {
     "name": "stdout",
     "output_type": "stream",
     "text": [
      "Bruce Wayne is Batman.        \n"
     ]
    }
   ],
   "source": [
    "print(f'{text:<30}')      # A block of 30 characters;\n",
    "                          # aligned left"
   ]
  },
  {
   "cell_type": "markdown",
   "id": "9f81cd30-1e99-4e91-a8db-35785004245c",
   "metadata": {},
   "source": [
    "## Example"
   ]
  },
  {
   "cell_type": "code",
   "execution_count": 80,
   "id": "ad6309d1-1f61-4ae8-8faf-8be3e133760c",
   "metadata": {},
   "outputs": [
    {
     "name": "stdout",
     "output_type": "stream",
     "text": [
      "The cube of pi to 6 decimal places is 31.006277\n"
     ]
    }
   ],
   "source": [
    "print(f'The cube of pi to 6 decimal places is {np.pi**3:.6f}')"
   ]
  },
  {
   "cell_type": "code",
   "execution_count": 81,
   "id": "138ec1c1-6d23-4971-8bc2-f14e225a825f",
   "metadata": {},
   "outputs": [
    {
     "name": "stdout",
     "output_type": "stream",
     "text": [
      "The cube of pi to 6 decimal places is 31.006276680299816\n"
     ]
    }
   ],
   "source": [
    "print(f'The cube of pi to 6 decimal places is {np.pi**3}')"
   ]
  },
  {
   "cell_type": "code",
   "execution_count": 83,
   "id": "be510b1e-5039-4216-86d1-47c15acc581d",
   "metadata": {},
   "outputs": [
    {
     "name": "stdout",
     "output_type": "stream",
     "text": [
      "The cube of pi to 6 decimal places is 31.0\n"
     ]
    }
   ],
   "source": [
    "print(f'The cube of pi to 6 decimal places is {np.pi**3:.1f}')"
   ]
  },
  {
   "cell_type": "code",
   "execution_count": 87,
   "id": "787c87bd-85f7-42a7-97c2-dd4414dc036a",
   "metadata": {},
   "outputs": [
    {
     "name": "stdout",
     "output_type": "stream",
     "text": [
      "The cube of pi to 6 decimal places is 000031.006\n"
     ]
    }
   ],
   "source": [
    "print(f'The cube of pi to 6 decimal places is {np.pi**3:010.3f}')  # This 010 indicates that we want a TOTAL of 10 digits in the things printed,\n",
    "                                                                   # and zeroes will fill up the spaces until 10 digits are reached."
   ]
  },
  {
   "cell_type": "code",
   "execution_count": 90,
   "id": "ed3f3716-1783-4781-bb09-83611a538136",
   "metadata": {},
   "outputs": [
    {
     "name": "stdout",
     "output_type": "stream",
     "text": [
      "The cube of pi to 6 decimal places is       31.0\n"
     ]
    }
   ],
   "source": [
    "print(f'The cube of pi to 6 decimal places is {np.pi**3: 10.1f}')  # This gives spaces instead of zeroes, but we still have 10 characters. "
   ]
  },
  {
   "cell_type": "code",
   "execution_count": 93,
   "id": "5409d49b-ddfe-43f7-bd47-a35d3aa4c5bc",
   "metadata": {},
   "outputs": [
    {
     "name": "stdout",
     "output_type": "stream",
     "text": [
      "The cube of pi to 6 decimal places is  3.100628e+01\n"
     ]
    }
   ],
   "source": [
    "print(f'The cube of pi to 6 decimal places is {np.pi**3: 10.6e}') # We put an 'e' behind instead of 'f' if we want to get scientific notations."
   ]
  },
  {
   "attachments": {},
   "cell_type": "markdown",
   "id": "44b09784",
   "metadata": {},
   "source": [
    "# 6 Escape sequences"
   ]
  },
  {
   "cell_type": "code",
   "execution_count": 96,
   "id": "eb7f2fe8-0efb-477e-b26b-92dbd8dbfde3",
   "metadata": {},
   "outputs": [
    {
     "name": "stdout",
     "output_type": "stream",
     "text": [
      "Hii\tiii\n",
      "Im Sophie\n"
     ]
    }
   ],
   "source": [
    "print(\"Hii\\tiii\\nIm Sophie\")    # \\t is a horizontal tab\n",
    "                              # \\n is a linebreak/newline"
   ]
  },
  {
   "cell_type": "code",
   "execution_count": 98,
   "id": "292be71a-d436-41e0-85fd-22e1553d5862",
   "metadata": {},
   "outputs": [
    {
     "name": "stdout",
     "output_type": "stream",
     "text": [
      "AB\\C\n"
     ]
    },
    {
     "name": "stderr",
     "output_type": "stream",
     "text": [
      "<>:1: SyntaxWarning: invalid escape sequence '\\C'\n",
      "<>:1: SyntaxWarning: invalid escape sequence '\\C'\n",
      "C:\\Users\\sophi\\AppData\\Local\\Temp\\ipykernel_16340\\746218266.py:1: SyntaxWarning: invalid escape sequence '\\C'\n",
      "  print('AB\\C')   # Because there is no \\C escape sequence\n"
     ]
    }
   ],
   "source": [
    "print('AB\\C')   # Because there is no \\C escape sequence"
   ]
  },
  {
   "cell_type": "code",
   "execution_count": 99,
   "id": "0a907b4a-c717-4cc8-9ba5-fd5cd078f2e2",
   "metadata": {},
   "outputs": [
    {
     "name": "stdout",
     "output_type": "stream",
     "text": [
      "AB'C\n"
     ]
    }
   ],
   "source": [
    "print(\"AB'C\")"
   ]
  },
  {
   "attachments": {},
   "cell_type": "markdown",
   "id": "c73eedea",
   "metadata": {},
   "source": [
    "## 6.1 Self-documenting f-strings"
   ]
  },
  {
   "cell_type": "code",
   "execution_count": 102,
   "id": "60df605d-c4b6-46b3-9b62-e2ba66737cce",
   "metadata": {},
   "outputs": [
    {
     "name": "stdout",
     "output_type": "stream",
     "text": [
      "x=42 and y=24\n"
     ]
    }
   ],
   "source": [
    "x, y = 42, 24\n",
    "print(f'{x=} and {y=}')"
   ]
  },
  {
   "cell_type": "code",
   "execution_count": 103,
   "id": "17400bd2-289b-44fb-9053-d866e823e733",
   "metadata": {},
   "outputs": [
    {
     "name": "stdout",
     "output_type": "stream",
     "text": [
      "x=8.400 and y=4.800000\n"
     ]
    }
   ],
   "source": [
    "x, y = 42/5, 24/5\n",
    "print(f'{x=:.3f} and {y=:.6f}')"
   ]
  },
  {
   "attachments": {},
   "cell_type": "markdown",
   "id": "6197fa9b",
   "metadata": {},
   "source": [
    "# 7 Computers read = from Right to Left!"
   ]
  },
  {
   "cell_type": "code",
   "execution_count": 107,
   "id": "d4bb19ca-f311-4992-9595-1134e8f07390",
   "metadata": {},
   "outputs": [],
   "source": [
    "x = 40\n",
    "y = x + 2         # Python does the addition operation first, then the equal sign."
   ]
  },
  {
   "cell_type": "code",
   "execution_count": 106,
   "id": "ba6367ce-0c5d-465c-b1ea-9565a8ef5836",
   "metadata": {},
   "outputs": [
    {
     "name": "stdout",
     "output_type": "stream",
     "text": [
      "42\n"
     ]
    }
   ],
   "source": [
    "print(y)"
   ]
  },
  {
   "cell_type": "code",
   "execution_count": 108,
   "id": "8a800930-c7dd-4543-b5d6-0b5c4d9cfcbb",
   "metadata": {},
   "outputs": [
    {
     "name": "stdout",
     "output_type": "stream",
     "text": [
      "42\n"
     ]
    }
   ],
   "source": [
    "y = 40\n",
    "y = y + 2\n",
    "print(y)"
   ]
  },
  {
   "cell_type": "code",
   "execution_count": 109,
   "id": "5e2eba65-38b7-4d97-8a1b-c49f5cf936e4",
   "metadata": {},
   "outputs": [],
   "source": [
    "x = y = 10"
   ]
  },
  {
   "attachments": {},
   "cell_type": "markdown",
   "id": "6099ffa6",
   "metadata": {},
   "source": [
    "# 8 Shorter and Cleaner Code"
   ]
  },
  {
   "cell_type": "code",
   "execution_count": 110,
   "id": "c535026f-d46e-41e2-9371-a0bc0b5b7567",
   "metadata": {},
   "outputs": [
    {
     "data": {
      "text/plain": [
       "42"
      ]
     },
     "execution_count": 110,
     "metadata": {},
     "output_type": "execute_result"
    }
   ],
   "source": [
    "y = 40\n",
    "y = y + 2\n",
    "y\n",
    "\n",
    "\n",
    "y = 40\n",
    "y += 2    # Same as y = y + 2 (otherwise as add 2 to yourself)\n",
    "y"
   ]
  },
  {
   "cell_type": "code",
   "execution_count": 113,
   "id": "4379584f-5e18-4fcc-b38a-3d7e3216234b",
   "metadata": {},
   "outputs": [],
   "source": [
    "y = 40\n",
    "y -= 2    # Works the same way for subtraction, multiplication and division \n",
    "\n",
    "\n",
    "y = 40 \n",
    "y *= 2\n",
    "\n",
    "\n",
    "y = 40\n",
    "y /= 2"
   ]
  },
  {
   "cell_type": "code",
   "execution_count": 119,
   "id": "8a41d9e6-6c87-435e-b86b-ebaac4fd6231",
   "metadata": {},
   "outputs": [
    {
     "data": {
      "text/plain": [
       "38"
      ]
     },
     "execution_count": 119,
     "metadata": {},
     "output_type": "execute_result"
    }
   ],
   "source": [
    "y = 40\n",
    "y -= 2    # Works the same way for subtraction\n",
    "y         # Need to add this Y below if not the code wont generate an answer!"
   ]
  },
  {
   "cell_type": "code",
   "execution_count": 120,
   "id": "26d82c7b-9b88-456f-a269-1dc830aa3d60",
   "metadata": {},
   "outputs": [
    {
     "data": {
      "text/plain": [
       "80"
      ]
     },
     "execution_count": 120,
     "metadata": {},
     "output_type": "execute_result"
    }
   ],
   "source": [
    "y = 40 \n",
    "y *= 2    # For multiplication\n",
    "y"
   ]
  },
  {
   "cell_type": "code",
   "execution_count": 121,
   "id": "0e93b37e-a194-435e-a61e-e4f47401c8cf",
   "metadata": {},
   "outputs": [
    {
     "data": {
      "text/plain": [
       "20.0"
      ]
     },
     "execution_count": 121,
     "metadata": {},
     "output_type": "execute_result"
    }
   ],
   "source": [
    "y = 40\n",
    "y /= 2    # And for division\n",
    "y "
   ]
  },
  {
   "attachments": {},
   "cell_type": "markdown",
   "id": "3d0700bb",
   "metadata": {},
   "source": [
    "# 9 Python can be a prima-donna."
   ]
  },
  {
   "cell_type": "code",
   "execution_count": 122,
   "id": "80a867c6-a7fd-4881-94ae-2f72088d33ad",
   "metadata": {},
   "outputs": [
    {
     "ename": "NameError",
     "evalue": "name 'Print' is not defined",
     "output_type": "error",
     "traceback": [
      "\u001b[1;31m---------------------------------------------------------------------------\u001b[0m",
      "\u001b[1;31mNameError\u001b[0m                                 Traceback (most recent call last)",
      "Cell \u001b[1;32mIn[122], line 1\u001b[0m\n\u001b[1;32m----> 1\u001b[0m \u001b[43mPrint\u001b[49m()\n",
      "\u001b[1;31mNameError\u001b[0m: name 'Print' is not defined"
     ]
    }
   ],
   "source": [
    "Print()"
   ]
  },
  {
   "attachments": {},
   "cell_type": "markdown",
   "id": "91184381",
   "metadata": {},
   "source": [
    "# 10 Best Practices for Scientific Computing"
   ]
  },
  {
   "cell_type": "markdown",
   "id": "7c37b06a-2ffa-4e72-8286-5d48f2131c26",
   "metadata": {},
   "source": [
    "1. Write programs for people, not computers.\n",
    "2. Optimise software only after it works correctly.\n",
    "3. Document design and purpose, not mechanics.\n",
    "4. Collaborate."
   ]
  },
  {
   "attachments": {},
   "cell_type": "markdown",
   "id": "7d9d2b18",
   "metadata": {},
   "source": [
    "# 11 Looking for help"
   ]
  },
  {
   "cell_type": "code",
   "execution_count": 123,
   "id": "b5484447-5ca6-4943-bce7-844117d05cd0",
   "metadata": {},
   "outputs": [
    {
     "name": "stdout",
     "output_type": "stream",
     "text": [
      "Help on built-in function print in module builtins:\n",
      "\n",
      "print(*args, sep=' ', end='\\n', file=None, flush=False)\n",
      "    Prints the values to a stream, or to sys.stdout by default.\n",
      "\n",
      "    sep\n",
      "      string inserted between values, default a space.\n",
      "    end\n",
      "      string appended after the last value, default a newline.\n",
      "    file\n",
      "      a file-like object (stream); defaults to the current sys.stdout.\n",
      "    flush\n",
      "      whether to forcibly flush the stream.\n",
      "\n"
     ]
    }
   ],
   "source": [
    "help(print)"
   ]
  }
 ],
 "metadata": {
  "kernelspec": {
   "display_name": "Python 3 (ipykernel)",
   "language": "python",
   "name": "python3"
  },
  "language_info": {
   "codemirror_mode": {
    "name": "ipython",
    "version": 3
   },
   "file_extension": ".py",
   "mimetype": "text/x-python",
   "name": "python",
   "nbconvert_exporter": "python",
   "pygments_lexer": "ipython3",
   "version": "3.12.3"
  },
  "toc": {
   "base_numbering": 1,
   "nav_menu": {},
   "number_sections": true,
   "sideBar": true,
   "skip_h1_title": false,
   "title_cell": "Table of Contents",
   "title_sidebar": "Contents",
   "toc_cell": false,
   "toc_position": {},
   "toc_section_display": true,
   "toc_window_display": false
  },
  "vscode": {
   "interpreter": {
    "hash": "31f2aee4e71d21fbe5cf8b01ff0e069b9275f58929596ceb00d14d90e3e16cd6"
   }
  }
 },
 "nbformat": 4,
 "nbformat_minor": 5
}
