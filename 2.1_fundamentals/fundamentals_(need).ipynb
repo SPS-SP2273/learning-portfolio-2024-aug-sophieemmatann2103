{
 "cells": [
  {
   "attachments": {},
   "cell_type": "markdown",
   "id": "123456",
   "metadata": {},
   "source": [
    "<div style=\"text-align:left;font-size:2em\"><span style=\"font-weight:bolder;font-size:1.25em\">SP2273 | Learning Portfolio</span><br><br><span style=\"font-weight:bold;color:darkred\">Fundamentals (Need)</span></div>"
   ]
  },
  {
   "cell_type": "code",
   "execution_count": 47,
   "id": "262d84dc-174d-45ae-a1a5-52cd705b2176",
   "metadata": {},
   "outputs": [],
   "source": [
    "# Import the functions once in the entire worksheet at the very start so we do not have to import it again. \n",
    "import math\n",
    "import numpy "
   ]
  },
  {
   "attachments": {},
   "cell_type": "markdown",
   "id": "8178a068",
   "metadata": {},
   "source": [
    "# Functions"
   ]
  },
  {
   "cell_type": "code",
   "execution_count": 15,
   "id": "281d5285-c3bb-4974-a564-cb167ffccee6",
   "metadata": {},
   "outputs": [
    {
     "name": "stdout",
     "output_type": "stream",
     "text": [
      "Hello world!\n"
     ]
    }
   ],
   "source": [
    "print(\"Hello world!\")"
   ]
  },
  {
   "cell_type": "markdown",
   "id": "138e2572-16a1-409b-9f24-16ee015a4cf1",
   "metadata": {},
   "source": [
    "Functions are usually denoted in green, and always require arguments to be placed in its parentheses. "
   ]
  },
  {
   "cell_type": "markdown",
   "id": "d80f6741-c70a-497a-85bd-525c84e6221e",
   "metadata": {},
   "source": [
    "Most functions require arguments in their parentheses, though some do not e.g. exit()"
   ]
  },
  {
   "attachments": {},
   "cell_type": "markdown",
   "id": "220ae3c7",
   "metadata": {},
   "source": [
    "# Python is interpreted"
   ]
  },
  {
   "cell_type": "code",
   "execution_count": 1,
   "id": "379f1264-dcb0-43a4-959b-162580085f9d",
   "metadata": {},
   "outputs": [
    {
     "name": "stdout",
     "output_type": "stream",
     "text": [
      "Hello world\n",
      "Hello world. My name is Sophie!\n"
     ]
    },
    {
     "ename": "NameError",
     "evalue": "name 'y' is not defined",
     "output_type": "error",
     "traceback": [
      "\u001b[1;31m---------------------------------------------------------------------------\u001b[0m",
      "\u001b[1;31mNameError\u001b[0m                                 Traceback (most recent call last)",
      "Cell \u001b[1;32mIn[1], line 3\u001b[0m\n\u001b[0;32m      1\u001b[0m \u001b[38;5;28mprint\u001b[39m(\u001b[38;5;124m\"\u001b[39m\u001b[38;5;124mHello world\u001b[39m\u001b[38;5;124m\"\u001b[39m)\n\u001b[0;32m      2\u001b[0m \u001b[38;5;28mprint\u001b[39m(\u001b[38;5;124m\"\u001b[39m\u001b[38;5;124mHello world.\u001b[39m\u001b[38;5;124m\"\u001b[39m ,\u001b[38;5;124m\"\u001b[39m\u001b[38;5;124mMy name is Sophie!\u001b[39m\u001b[38;5;124m\"\u001b[39m)\n\u001b[1;32m----> 3\u001b[0m \u001b[38;5;28mprint\u001b[39m(\u001b[43my\u001b[49m)\n",
      "\u001b[1;31mNameError\u001b[0m: name 'y' is not defined"
     ]
    }
   ],
   "source": [
    "print(\"Hello world\")\n",
    "print(\"Hello world.\" ,\"My name is Sophie!\")\n",
    "print(y)"
   ]
  },
  {
   "cell_type": "markdown",
   "id": "955204fe-53ab-407b-abf0-ddc605b1e1b6",
   "metadata": {},
   "source": [
    "Notice that x=10 did not get printed out. Python does a line at a time. This is what it means by python is an interpreter. "
   ]
  },
  {
   "cell_type": "code",
   "execution_count": 8,
   "id": "c5704147-825a-42ee-9d11-59bd598ef04b",
   "metadata": {},
   "outputs": [
    {
     "ename": "SyntaxError",
     "evalue": "unterminated string literal (detected at line 1) (410663758.py, line 1)",
     "output_type": "error",
     "traceback": [
      "\u001b[1;36m  Cell \u001b[1;32mIn[8], line 1\u001b[1;36m\u001b[0m\n\u001b[1;33m    print(\"Hello world!)\u001b[0m\n\u001b[1;37m          ^\u001b[0m\n\u001b[1;31mSyntaxError\u001b[0m\u001b[1;31m:\u001b[0m unterminated string literal (detected at line 1)\n"
     ]
    }
   ],
   "source": [
    "print(\"Hello world!)"
   ]
  },
  {
   "attachments": {},
   "cell_type": "markdown",
   "id": "1c779bf4",
   "metadata": {},
   "source": [
    "# Python is sensitive."
   ]
  },
  {
   "cell_type": "code",
   "execution_count": 13,
   "id": "b90156f8-ea21-455d-97cf-674bd38d50f0",
   "metadata": {
    "scrolled": true
   },
   "outputs": [
    {
     "ename": "NameError",
     "evalue": "name 'Print' is not defined",
     "output_type": "error",
     "traceback": [
      "\u001b[1;31m---------------------------------------------------------------------------\u001b[0m",
      "\u001b[1;31mNameError\u001b[0m                                 Traceback (most recent call last)",
      "Cell \u001b[1;32mIn[13], line 1\u001b[0m\n\u001b[1;32m----> 1\u001b[0m \u001b[43mPrint\u001b[49m(\u001b[38;5;124m\"\u001b[39m\u001b[38;5;124mI love bunnies!\u001b[39m\u001b[38;5;124m\"\u001b[39m)\n\u001b[0;32m      2\u001b[0m \u001b[38;5;28mprint\u001b[39m(\u001b[38;5;124m\"\u001b[39m\u001b[38;5;124mI love bunnies!\u001b[39m\u001b[38;5;124m\"\u001b[39m)\n",
      "\u001b[1;31mNameError\u001b[0m: name 'Print' is not defined"
     ]
    }
   ],
   "source": [
    "Print(\"I love bunnies!\")\n",
    "print(\"I love bunnies!\")"
   ]
  },
  {
   "cell_type": "markdown",
   "id": "019c8b7e-0d0c-4a88-8d77-74a70ae6c237",
   "metadata": {},
   "source": [
    "Note here how python is an interpreter by stopping at the line 1 and **not continuing** on until the error is being fixed opposed to what is coded below: "
   ]
  },
  {
   "cell_type": "code",
   "execution_count": 14,
   "id": "cffa4301-261c-4d62-993b-ec390d7aaadc",
   "metadata": {},
   "outputs": [
    {
     "name": "stdout",
     "output_type": "stream",
     "text": [
      "I love bunnies!\n"
     ]
    },
    {
     "ename": "NameError",
     "evalue": "name 'Print' is not defined",
     "output_type": "error",
     "traceback": [
      "\u001b[1;31m---------------------------------------------------------------------------\u001b[0m",
      "\u001b[1;31mNameError\u001b[0m                                 Traceback (most recent call last)",
      "Cell \u001b[1;32mIn[14], line 2\u001b[0m\n\u001b[0;32m      1\u001b[0m \u001b[38;5;28mprint\u001b[39m(\u001b[38;5;124m\"\u001b[39m\u001b[38;5;124mI love bunnies!\u001b[39m\u001b[38;5;124m\"\u001b[39m)\n\u001b[1;32m----> 2\u001b[0m \u001b[43mPrint\u001b[49m(\u001b[38;5;124m\"\u001b[39m\u001b[38;5;124mI love bunnies!\u001b[39m\u001b[38;5;124m\"\u001b[39m)\n",
      "\u001b[1;31mNameError\u001b[0m: name 'Print' is not defined"
     ]
    }
   ],
   "source": [
    "print(\"I love bunnies!\")\n",
    "Print(\"I love bunnies!\")"
   ]
  },
  {
   "attachments": {},
   "cell_type": "markdown",
   "id": "8c00e18f",
   "metadata": {},
   "source": [
    "# Comments"
   ]
  },
  {
   "cell_type": "code",
   "execution_count": 3,
   "id": "322b0172-f538-4fe7-9fe6-69e173c1fdc2",
   "metadata": {},
   "outputs": [
    {
     "name": "stdout",
     "output_type": "stream",
     "text": [
      "0.0\n",
      "0.0004940711462450593\n",
      "0.0009881422924901185\n",
      "0.0014822134387351778\n",
      "0.001976284584980237\n",
      "0.0024703557312252965\n",
      "0.0029644268774703555\n",
      "0.003458498023715415\n",
      "0.003952569169960474\n",
      "0.004446640316205534\n"
     ]
    }
   ],
   "source": [
    "for yoohoo in range(10):\n",
    "    print(yoohoo/2024)"
   ]
  },
  {
   "cell_type": "markdown",
   "id": "f1a325dc-ddae-4834-b428-8dbb06017e62",
   "metadata": {},
   "source": [
    "2024 might mean something important at that point in time, like a special number or conversion etc. But weeks down when we revisit, we might forget what is 2024 and what it stands for. So it is important to tell yourself what you are doing, and this can be achieved using the COMMENTS feature.\n",
    "\n",
    "This can be denoted by adding a hash (#) in front. "
   ]
  },
  {
   "cell_type": "code",
   "execution_count": 5,
   "id": "95ebf62e-a95b-45b7-a26c-01ff5a256270",
   "metadata": {},
   "outputs": [
    {
     "name": "stdout",
     "output_type": "stream",
     "text": [
      "0.0\n",
      "0.0004940711462450593\n",
      "0.0009881422924901185\n",
      "0.0014822134387351778\n",
      "0.001976284584980237\n",
      "0.0024703557312252965\n",
      "0.0029644268774703555\n",
      "0.003458498023715415\n",
      "0.003952569169960474\n",
      "0.004446640316205534\n"
     ]
    }
   ],
   "source": [
    "# 2024 is a conversion factor\n",
    "for age_in_thousands_of_years in range(10):\n",
    "    print(age_in_thousands_of_years/2024)"
   ]
  },
  {
   "attachments": {},
   "cell_type": "markdown",
   "id": "90e8fe35",
   "metadata": {},
   "source": [
    "# = is not the same as =="
   ]
  },
  {
   "cell_type": "code",
   "execution_count": 9,
   "id": "1c80717a-5cd2-448a-b686-9fd8afe66ff9",
   "metadata": {},
   "outputs": [],
   "source": [
    "# Make name carry 'Sophie'\n",
    "name='Sophie'"
   ]
  },
  {
   "cell_type": "code",
   "execution_count": 10,
   "id": "24ded3cb-2836-41ac-99b1-300c382d1d05",
   "metadata": {},
   "outputs": [
    {
     "data": {
      "text/plain": [
       "False"
      ]
     },
     "execution_count": 10,
     "metadata": {},
     "output_type": "execute_result"
    }
   ],
   "source": [
    "# Tell me if name is equal to 'Sophie'?\n",
    "# True or False\n",
    "name=='Emma'"
   ]
  },
  {
   "cell_type": "markdown",
   "id": "8d19cb03-cce2-447e-b194-57c90661718a",
   "metadata": {},
   "source": [
    "= is used to SET something equal/assign a value to something.\n",
    "== is used to CHECK if something is equal (i.e asking a question)"
   ]
  },
  {
   "attachments": {},
   "cell_type": "markdown",
   "id": "c3653a7a",
   "metadata": {},
   "source": [
    "# 6 Use if to make decisions"
   ]
  },
  {
   "cell_type": "code",
   "execution_count": 11,
   "id": "a26169db-7b5a-430a-a751-eeb497bd6c3a",
   "metadata": {},
   "outputs": [
    {
     "name": "stdout",
     "output_type": "stream",
     "text": [
      "Hello Batman!\n"
     ]
    }
   ],
   "source": [
    "name = 'Batman'\n",
    "\n",
    "if name == 'Batman':\n",
    "    print('Hello Batman!')\n",
    "else:\n",
    "    print('Hello World!')"
   ]
  },
  {
   "cell_type": "code",
   "execution_count": 12,
   "id": "5b0f7540-32ea-4633-967e-c28681573381",
   "metadata": {},
   "outputs": [
    {
     "ename": "SyntaxError",
     "evalue": "invalid syntax. Maybe you meant '==' or ':=' instead of '='? (1734495519.py, line 3)",
     "output_type": "error",
     "traceback": [
      "\u001b[1;36m  Cell \u001b[1;32mIn[12], line 3\u001b[1;36m\u001b[0m\n\u001b[1;33m    if name = 'Batman':\u001b[0m\n\u001b[1;37m       ^\u001b[0m\n\u001b[1;31mSyntaxError\u001b[0m\u001b[1;31m:\u001b[0m invalid syntax. Maybe you meant '==' or ':=' instead of '='?\n"
     ]
    }
   ],
   "source": [
    "name = 'Batman'\n",
    "\n",
    "if name = 'Batman':\n",
    "    print('Hello Batman!')\n",
    "else:\n",
    "    print('Hello World!')"
   ]
  },
  {
   "cell_type": "markdown",
   "id": "caf3435e-b538-417e-ae6e-b67c66a46b1a",
   "metadata": {},
   "source": [
    "Notice that the second example in this section, we changed == to = and how this affected the code generated. \n",
    "\n",
    "We can use 'if' function to make decisions, and typically it is for a true or false response. "
   ]
  },
  {
   "cell_type": "code",
   "execution_count": 15,
   "id": "cfadf233-39f5-472c-94d6-3a838c788af3",
   "metadata": {},
   "outputs": [
    {
     "name": "stdout",
     "output_type": "stream",
     "text": [
      "Hello Batman!\n",
      "The Dark Knight has risen!\n",
      "Alfred is the best butler:D\n"
     ]
    }
   ],
   "source": [
    "name = 'Batman'\n",
    "\n",
    "if name == 'Batman':\n",
    "    print('Hello Batman!')\n",
    "    print('The Dark Knight has risen!')\n",
    "    print('Alfred is the best butler:D')\n",
    "else:\n",
    "    print('Hello World!')"
   ]
  },
  {
   "cell_type": "markdown",
   "id": "737ad793-83b2-4693-900f-8c2d7504e555",
   "metadata": {},
   "source": [
    "Notice here that we can add and then print as many lines as we want, so long as the answer is True when we use the 'if' function."
   ]
  },
  {
   "attachments": {},
   "cell_type": "markdown",
   "id": "34adc816",
   "metadata": {},
   "source": [
    "# 7 Indentations (spaces) are sooo IMPORTANT!"
   ]
  },
  {
   "cell_type": "code",
   "execution_count": 16,
   "id": "08f89664-c1cd-4533-8e60-6f1e77c7db06",
   "metadata": {},
   "outputs": [
    {
     "name": "stdout",
     "output_type": "stream",
     "text": [
      "10\n"
     ]
    }
   ],
   "source": [
    "x = 10\n",
    "print(x)"
   ]
  },
  {
   "cell_type": "markdown",
   "id": "9b8bd25b-eced-4d45-a1b9-e25a1b0df401",
   "metadata": {},
   "source": [
    "But if we do this instead:"
   ]
  },
  {
   "cell_type": "code",
   "execution_count": 17,
   "id": "822afc43-36c9-415d-ae19-7314b59b4253",
   "metadata": {
    "scrolled": true
   },
   "outputs": [
    {
     "ename": "IndentationError",
     "evalue": "unexpected indent (1537435392.py, line 2)",
     "output_type": "error",
     "traceback": [
      "\u001b[1;36m  Cell \u001b[1;32mIn[17], line 2\u001b[1;36m\u001b[0m\n\u001b[1;33m    print(x)\u001b[0m\n\u001b[1;37m    ^\u001b[0m\n\u001b[1;31mIndentationError\u001b[0m\u001b[1;31m:\u001b[0m unexpected indent\n"
     ]
    }
   ],
   "source": [
    "x = 10\n",
    " print(x)"
   ]
  },
  {
   "cell_type": "markdown",
   "id": "1b43504e-03e4-4fee-a31f-421d4e4cb229",
   "metadata": {},
   "source": [
    "Indentations are very important in python. It tells the system which to code and which not to code. Python uses indentations to separate True and False 'blocks' for 'if' functions for example. \n",
    "\n",
    "Python makes it easy to read because of indentations. If not it will look something very clumpy like this: "
   ]
  },
  {
   "cell_type": "code",
   "execution_count": 20,
   "id": "ebd79c99-4282-4138-bb5e-a2bd1e95b62e",
   "metadata": {},
   "outputs": [
    {
     "ename": "SyntaxError",
     "evalue": "invalid syntax (3215142201.py, line 2)",
     "output_type": "error",
     "traceback": [
      "\u001b[1;36m  Cell \u001b[1;32mIn[20], line 2\u001b[1;36m\u001b[0m\n\u001b[1;33m    if (name == 'Batman') {\u001b[0m\n\u001b[1;37m                          ^\u001b[0m\n\u001b[1;31mSyntaxError\u001b[0m\u001b[1;31m:\u001b[0m invalid syntax\n"
     ]
    }
   ],
   "source": [
    "# Written in C\n",
    "if (name == 'Batman') {\n",
    "  print('Hello Hero | Batman!')\n",
    "} else {\n",
    "  print('Hello World!')\n",
    "}"
   ]
  },
  {
   "attachments": {},
   "cell_type": "markdown",
   "id": "fdd088cf",
   "metadata": {},
   "source": [
    "# 8 ‘age’ is English, age is a variable."
   ]
  },
  {
   "cell_type": "code",
   "execution_count": 21,
   "id": "1e2b657c-9455-4654-a1af-11b1e20bc954",
   "metadata": {},
   "outputs": [
    {
     "name": "stdout",
     "output_type": "stream",
     "text": [
      "age\n"
     ]
    },
    {
     "ename": "NameError",
     "evalue": "name 'age' is not defined",
     "output_type": "error",
     "traceback": [
      "\u001b[1;31m---------------------------------------------------------------------------\u001b[0m",
      "\u001b[1;31mNameError\u001b[0m                                 Traceback (most recent call last)",
      "Cell \u001b[1;32mIn[21], line 2\u001b[0m\n\u001b[0;32m      1\u001b[0m \u001b[38;5;28mprint\u001b[39m(\u001b[38;5;124m'\u001b[39m\u001b[38;5;124mage\u001b[39m\u001b[38;5;124m'\u001b[39m)\n\u001b[1;32m----> 2\u001b[0m \u001b[38;5;28mprint\u001b[39m(\u001b[43mage\u001b[49m)\n",
      "\u001b[1;31mNameError\u001b[0m: name 'age' is not defined"
     ]
    }
   ],
   "source": [
    "print('age')\n",
    "print(age)"
   ]
  },
  {
   "cell_type": "markdown",
   "id": "7be44f4c-b14c-4e0d-af93-3e9124a719ca",
   "metadata": {},
   "source": [
    "Strings are red in color and usually put in ' ' while variables are black in color.\n",
    "\n",
    "Strings refer to things that can be found in the English language. Variables can hold and mean things, as long as we define them. For example, student age."
   ]
  },
  {
   "cell_type": "code",
   "execution_count": 24,
   "id": "2fe0cb0e-18dc-4c06-ae0e-a275826c3b81",
   "metadata": {},
   "outputs": [
    {
     "name": "stdout",
     "output_type": "stream",
     "text": [
      "age\n",
      "10\n"
     ]
    }
   ],
   "source": [
    "age='10'     # Age here is a variable as it can mean anything, like student age or age of a cat. \n",
    "\n",
    "print('age')\n",
    "print(age)"
   ]
  },
  {
   "cell_type": "markdown",
   "id": "4f67aa08-1e92-4506-b2e6-46f82c3841e8",
   "metadata": {},
   "source": [
    "Note that you can use either matching pairs of ' ' or \" \". However, it is always good to be consistent. Sometimes, it is good to have both because you need to do things like:"
   ]
  },
  {
   "cell_type": "code",
   "execution_count": 25,
   "id": "9edcc6db-2248-404e-9469-5ebc532a13e6",
   "metadata": {},
   "outputs": [
    {
     "name": "stdout",
     "output_type": "stream",
     "text": [
      "You're twenty years old.\n"
     ]
    }
   ],
   "source": [
    "print(\"You're twenty years old.\")"
   ]
  },
  {
   "cell_type": "markdown",
   "id": "5c9173da-f364-490c-85fb-31e0cec39144",
   "metadata": {},
   "source": [
    "If we were to use ' ' the code won't run because there is another apostrophe in the english word You're. Example below: "
   ]
  },
  {
   "cell_type": "code",
   "execution_count": 26,
   "id": "e3ca514d-c82b-4a41-b9ca-efe9a19fe30b",
   "metadata": {},
   "outputs": [
    {
     "ename": "SyntaxError",
     "evalue": "unterminated string literal (detected at line 1) (523689188.py, line 1)",
     "output_type": "error",
     "traceback": [
      "\u001b[1;36m  Cell \u001b[1;32mIn[26], line 1\u001b[1;36m\u001b[0m\n\u001b[1;33m    print('You're twenty years old.')\u001b[0m\n\u001b[1;37m                                   ^\u001b[0m\n\u001b[1;31mSyntaxError\u001b[0m\u001b[1;31m:\u001b[0m unterminated string literal (detected at line 1)\n"
     ]
    }
   ],
   "source": [
    "print('You're twenty years old.')"
   ]
  },
  {
   "attachments": {},
   "cell_type": "markdown",
   "id": "ff541e0b",
   "metadata": {},
   "source": [
    "# 9 Brackets"
   ]
  },
  {
   "cell_type": "code",
   "execution_count": 27,
   "id": "f36b08dd-a8fa-4295-a6f0-4fb27629d833",
   "metadata": {},
   "outputs": [
    {
     "name": "stdout",
     "output_type": "stream",
     "text": [
      "Hello!\n"
     ]
    },
    {
     "data": {
      "text/plain": [
       "15"
      ]
     },
     "execution_count": 27,
     "metadata": {},
     "output_type": "execute_result"
    }
   ],
   "source": [
    "print('Hello!')             # In functions\n",
    "(1 + 2) * 5                 # For math"
   ]
  },
  {
   "cell_type": "markdown",
   "id": "0402af01-b864-411a-81c1-bfede752bc5a",
   "metadata": {},
   "source": [
    "In python, there are 3 different kinds of brackets such as (), [] and {} , all of which have different functions. We can use the type() function to ask python what each bracket does. For example: "
   ]
  },
  {
   "cell_type": "code",
   "execution_count": 30,
   "id": "e5a91279-b5de-4b58-94ee-98c85a322245",
   "metadata": {},
   "outputs": [
    {
     "data": {
      "text/plain": [
       "tuple"
      ]
     },
     "execution_count": 30,
     "metadata": {},
     "output_type": "execute_result"
    }
   ],
   "source": [
    "type((1, 2, 3, 4, 5))"
   ]
  },
  {
   "cell_type": "code",
   "execution_count": 31,
   "id": "b2b14e5b-c080-497c-89b2-57641b43853e",
   "metadata": {},
   "outputs": [
    {
     "data": {
      "text/plain": [
       "list"
      ]
     },
     "execution_count": 31,
     "metadata": {},
     "output_type": "execute_result"
    }
   ],
   "source": [
    "type([1, 2, 3, 4, 5])  "
   ]
  },
  {
   "cell_type": "code",
   "execution_count": 32,
   "id": "99e383f1-7416-4b79-ac46-85e0e9086df6",
   "metadata": {},
   "outputs": [
    {
     "data": {
      "text/plain": [
       "set"
      ]
     },
     "execution_count": 32,
     "metadata": {},
     "output_type": "execute_result"
    }
   ],
   "source": [
    "type({1, 2, 3, 4, 5}) "
   ]
  },
  {
   "cell_type": "code",
   "execution_count": 33,
   "id": "411405cd-115a-4631-898c-610e2cd10367",
   "metadata": {},
   "outputs": [],
   "source": [
    "py_list = [1, 2, 3, 4, 5]   # A 1D list\n",
    "\n",
    "py_list_2 = [               # A 2D list\n",
    "                [1, \"A\"],      \n",
    "                [2, \"B\"],\n",
    "                [3, \"C\"],\n",
    "                [4, \"D\"],\n",
    "                [5, \"E\"]\n",
    "            ]"
   ]
  },
  {
   "cell_type": "markdown",
   "id": "c79e7d21-4d9d-4eda-b51c-d867e4ffb43f",
   "metadata": {},
   "source": [
    "Python uses {} to store data in a 'thing' called a dictionary. Below is an example: "
   ]
  },
  {
   "cell_type": "code",
   "execution_count": 34,
   "id": "8d900e20-9cfd-4a97-b51d-f057ab11c785",
   "metadata": {},
   "outputs": [],
   "source": [
    "personal_info = {\n",
    "    'Names': 'Batman',\n",
    "    'Real Name': 'Bruce Wayne',   # 'Real name' is the key here, and 'Bruce Wayne' is the value. \n",
    "    'Age': 55,\n",
    "    'Affiliation': 'Justice League',\n",
    "    'Universe': 'DC'\n",
    "}"
   ]
  },
  {
   "cell_type": "code",
   "execution_count": null,
   "id": "dd8deef5-5dfe-4fc7-99cd-3bd5e24a0620",
   "metadata": {},
   "outputs": [],
   "source": [
    "{1, 2, 3, 4, 5}     #This is a set\n",
    "\n",
    "#This is a dictionary \n",
    "personal_info = {\n",
    "    'Names': 'Batman',\n",
    "    'Real Name': 'Bruce Wayne',\n",
    "    'Age': 55,\n",
    "    'Affiliation': 'Justice League',\n",
    "    'Universe': 'DC'\n",
    "}"
   ]
  },
  {
   "cell_type": "markdown",
   "id": "a9024203-c7f1-4326-9df7-6af4be17219f",
   "metadata": {},
   "source": [
    "So what is the difference in how the {} are used? How to identify what is a set and not? \n",
    "\n",
    "Ans: The difference is denoted by : so next time when we see : in {}, it will mean a dictionary instead."
   ]
  },
  {
   "attachments": {},
   "cell_type": "markdown",
   "id": "cc869fc0",
   "metadata": {},
   "source": [
    "# 10 Giving Python superpowers with Packages"
   ]
  },
  {
   "attachments": {},
   "cell_type": "markdown",
   "id": "520e6f80",
   "metadata": {},
   "source": [
    "## 10.1 Some Context"
   ]
  },
  {
   "cell_type": "code",
   "execution_count": 35,
   "id": "e72da1cd-7d8c-4678-b7ef-415ce7d8c71b",
   "metadata": {},
   "outputs": [
    {
     "ename": "NameError",
     "evalue": "name 'sqrt' is not defined",
     "output_type": "error",
     "traceback": [
      "\u001b[1;31m---------------------------------------------------------------------------\u001b[0m",
      "\u001b[1;31mNameError\u001b[0m                                 Traceback (most recent call last)",
      "Cell \u001b[1;32mIn[35], line 1\u001b[0m\n\u001b[1;32m----> 1\u001b[0m \u001b[43msqrt\u001b[49m(\u001b[38;5;241m4\u001b[39m)      \u001b[38;5;66;03m# Will NOT work because \u001b[39;00m\n\u001b[0;32m      2\u001b[0m              \u001b[38;5;66;03m# basic Python is limited\u001b[39;00m\n",
      "\u001b[1;31mNameError\u001b[0m: name 'sqrt' is not defined"
     ]
    }
   ],
   "source": [
    "sqrt(4)      # Will NOT work because \n",
    "             # basic Python is limited"
   ]
  },
  {
   "attachments": {},
   "cell_type": "markdown",
   "id": "afcc3696",
   "metadata": {},
   "source": [
    "## 10.2 Importing the math package"
   ]
  },
  {
   "cell_type": "code",
   "execution_count": 38,
   "id": "479abe84-3d90-4619-a44f-a8c2fc464920",
   "metadata": {},
   "outputs": [],
   "source": [
    "import math"
   ]
  },
  {
   "cell_type": "markdown",
   "id": "45ad4e9b-22d5-4d09-b795-f4ff051e1efc",
   "metadata": {},
   "source": [
    "Here we have imported the math package, so now python will be able to recognise and use the sqrt function, which previously it was unable to in its most basic form. \n",
    "\n",
    "So now let's see how it works: "
   ]
  },
  {
   "cell_type": "code",
   "execution_count": 41,
   "id": "7872456b-3d48-4012-8caf-311f78a95411",
   "metadata": {},
   "outputs": [
    {
     "data": {
      "text/plain": [
       "2.0"
      ]
     },
     "execution_count": 41,
     "metadata": {},
     "output_type": "execute_result"
    }
   ],
   "source": [
    "math.sqrt(4)"
   ]
  },
  {
   "cell_type": "markdown",
   "id": "b2997178-a829-4970-9134-44f225f3e024",
   "metadata": {},
   "source": [
    "We can also import other packages such as numpy, which offers the square root option:"
   ]
  },
  {
   "attachments": {},
   "cell_type": "markdown",
   "id": "0803099d",
   "metadata": {},
   "source": [
    "## 10.3 Importing the numpy package"
   ]
  },
  {
   "cell_type": "code",
   "execution_count": 42,
   "id": "42ea883f-de8c-4d3c-8e62-6b77d675635a",
   "metadata": {},
   "outputs": [],
   "source": [
    "import numpy"
   ]
  },
  {
   "cell_type": "code",
   "execution_count": 43,
   "id": "04fc9d38-a791-4941-b1e4-27b70bb54bdd",
   "metadata": {},
   "outputs": [
    {
     "data": {
      "text/plain": [
       "np.float64(2.0)"
      ]
     },
     "execution_count": 43,
     "metadata": {},
     "output_type": "execute_result"
    }
   ],
   "source": [
    "numpy.sqrt(4)"
   ]
  },
  {
   "cell_type": "code",
   "execution_count": 48,
   "id": "910f402d-3f08-43d1-b967-43a9d0043de3",
   "metadata": {},
   "outputs": [],
   "source": [
    "import numpy as np    # Importing Numpy and giving \n",
    "                      # it an alias np \n",
    "                      # because I am lazy"
   ]
  },
  {
   "cell_type": "code",
   "execution_count": 49,
   "id": "b10bdbf1-be99-43b4-af50-6f4b44b3ca40",
   "metadata": {},
   "outputs": [
    {
     "data": {
      "text/plain": [
       "np.float64(3.0)"
      ]
     },
     "execution_count": 49,
     "metadata": {},
     "output_type": "execute_result"
    }
   ],
   "source": [
    "np.sqrt(9)"
   ]
  },
  {
   "attachments": {},
   "cell_type": "markdown",
   "id": "31621227",
   "metadata": {},
   "source": [
    "## 10.4 Why so many packages?"
   ]
  },
  {
   "cell_type": "markdown",
   "id": "5423aa45-eef1-42d3-95e8-6e9eda456a66",
   "metadata": {},
   "source": [
    "Why do we need to import many packages and not just one?\n",
    "\n",
    "Ans: Difference due to some backend things, which may affect code as seen in the example below: \n",
    "\n",
    "(don't worry too much on this, it's a bit of extra info)"
   ]
  },
  {
   "cell_type": "code",
   "execution_count": 44,
   "id": "568750d2-4be5-4b86-8d6f-8cecf3993717",
   "metadata": {},
   "outputs": [
    {
     "ename": "TypeError",
     "evalue": "must be real number, not list",
     "output_type": "error",
     "traceback": [
      "\u001b[1;31m---------------------------------------------------------------------------\u001b[0m",
      "\u001b[1;31mTypeError\u001b[0m                                 Traceback (most recent call last)",
      "Cell \u001b[1;32mIn[44], line 1\u001b[0m\n\u001b[1;32m----> 1\u001b[0m \u001b[43mmath\u001b[49m\u001b[38;5;241;43m.\u001b[39;49m\u001b[43msqrt\u001b[49m\u001b[43m(\u001b[49m\u001b[43m[\u001b[49m\u001b[38;5;241;43m1\u001b[39;49m\u001b[43m,\u001b[49m\u001b[43m \u001b[49m\u001b[38;5;241;43m2\u001b[39;49m\u001b[43m,\u001b[49m\u001b[43m \u001b[49m\u001b[38;5;241;43m3\u001b[39;49m\u001b[43m,\u001b[49m\u001b[43m \u001b[49m\u001b[38;5;241;43m4\u001b[39;49m\u001b[43m,\u001b[49m\u001b[43m \u001b[49m\u001b[38;5;241;43m5\u001b[39;49m\u001b[43m]\u001b[49m\u001b[43m \u001b[49m\u001b[43m)\u001b[49m\n",
      "\u001b[1;31mTypeError\u001b[0m: must be real number, not list"
     ]
    }
   ],
   "source": [
    "math.sqrt([1, 2, 3, 4, 5] )"
   ]
  },
  {
   "cell_type": "code",
   "execution_count": 45,
   "id": "72808c31-2479-42ad-aaa6-8b7c734d2b69",
   "metadata": {
    "collapsed": true,
    "jupyter": {
     "outputs_hidden": true
    }
   },
   "outputs": [
    {
     "data": {
      "text/plain": [
       "array([1.        , 1.41421356, 1.73205081, 2.        , 2.23606798])"
      ]
     },
     "execution_count": 45,
     "metadata": {},
     "output_type": "execute_result"
    }
   ],
   "source": [
    "numpy.sqrt([1, 2, 3, 4, 5] )"
   ]
  },
  {
   "attachments": {},
   "cell_type": "markdown",
   "id": "fc9fde40",
   "metadata": {},
   "source": [
    "# 11 The dot (.)"
   ]
  },
  {
   "cell_type": "markdown",
   "id": "e856f0e0-ede7-4ae0-aebd-81ec3179c976",
   "metadata": {},
   "source": [
    "Think of the dot (.) as representing ownership, like 'I belong to' someone/something. "
   ]
  },
  {
   "cell_type": "markdown",
   "id": "f45cdb5d-849f-4996-aef0-4d8badb8879e",
   "metadata": {},
   "source": [
    "math.sqrt(4)  This means that sqrt belongs to the math. "
   ]
  },
  {
   "cell_type": "markdown",
   "id": "4eb73e79-f9ba-4851-be22-fab01f912d34",
   "metadata": {},
   "source": [
    "## Hidden functions"
   ]
  },
  {
   "cell_type": "code",
   "execution_count": 53,
   "id": "b7146fbc-b68e-46c1-af20-897a5de427a5",
   "metadata": {},
   "outputs": [
    {
     "data": {
      "text/plain": [
       "'BOB'"
      ]
     },
     "execution_count": 53,
     "metadata": {},
     "output_type": "execute_result"
    }
   ],
   "source": [
    "'LOL'. replace('L','B')"
   ]
  },
  {
   "cell_type": "code",
   "execution_count": 54,
   "id": "b96b0b9b-1848-4a97-949f-e2992229488c",
   "metadata": {},
   "outputs": [
    {
     "data": {
      "text/plain": [
       "'BIB'"
      ]
     },
     "execution_count": 54,
     "metadata": {},
     "output_type": "execute_result"
    }
   ],
   "source": [
    "'LOL'. replace('L','B').replace('O','I')"
   ]
  },
  {
   "cell_type": "code",
   "execution_count": 55,
   "id": "0ab21069-c1fb-4a0e-8c74-0f1a2a2b65ac",
   "metadata": {},
   "outputs": [
    {
     "data": {
      "text/plain": [
       "'HAHAHAHAHA'"
      ]
     },
     "execution_count": 55,
     "metadata": {},
     "output_type": "execute_result"
    }
   ],
   "source": [
    "'hahahahaha'.upper()"
   ]
  },
  {
   "cell_type": "code",
   "execution_count": 56,
   "id": "d13f45e0-603f-4b52-be71-515b132a7613",
   "metadata": {},
   "outputs": [
    {
     "ename": "SyntaxError",
     "evalue": "invalid decimal literal (3036814163.py, line 1)",
     "output_type": "error",
     "traceback": [
      "\u001b[1;36m  Cell \u001b[1;32mIn[56], line 1\u001b[1;36m\u001b[0m\n\u001b[1;33m    1234.upper()\u001b[0m\n\u001b[1;37m        ^\u001b[0m\n\u001b[1;31mSyntaxError\u001b[0m\u001b[1;31m:\u001b[0m invalid decimal literal\n"
     ]
    }
   ],
   "source": [
    "1234.upper()"
   ]
  },
  {
   "cell_type": "markdown",
   "id": "e089c1b8-829b-4c5d-a409-81998b9f1768",
   "metadata": {},
   "source": [
    "Has an error as it does not make sense that a number can be raised up. "
   ]
  },
  {
   "cell_type": "code",
   "execution_count": 57,
   "id": "459b99cd-2d22-4ab3-91cc-a8d83fd693a0",
   "metadata": {},
   "outputs": [
    {
     "ename": "SyntaxError",
     "evalue": "invalid decimal literal (3656688402.py, line 1)",
     "output_type": "error",
     "traceback": [
      "\u001b[1;36m  Cell \u001b[1;32mIn[57], line 1\u001b[1;36m\u001b[0m\n\u001b[1;33m    12345.split()\u001b[0m\n\u001b[1;37m         ^\u001b[0m\n\u001b[1;31mSyntaxError\u001b[0m\u001b[1;31m:\u001b[0m invalid decimal literal\n"
     ]
    }
   ],
   "source": [
    "12345.split()"
   ]
  }
 ],
 "metadata": {
  "kernelspec": {
   "display_name": "Python 3 (ipykernel)",
   "language": "python",
   "name": "python3"
  },
  "language_info": {
   "codemirror_mode": {
    "name": "ipython",
    "version": 3
   },
   "file_extension": ".py",
   "mimetype": "text/x-python",
   "name": "python",
   "nbconvert_exporter": "python",
   "pygments_lexer": "ipython3",
   "version": "3.12.3"
  },
  "toc": {
   "base_numbering": 1,
   "nav_menu": {},
   "number_sections": true,
   "sideBar": true,
   "skip_h1_title": false,
   "title_cell": "Table of Contents",
   "title_sidebar": "Contents",
   "toc_cell": false,
   "toc_position": {},
   "toc_section_display": true,
   "toc_window_display": false
  },
  "vscode": {
   "interpreter": {
    "hash": "31f2aee4e71d21fbe5cf8b01ff0e069b9275f58929596ceb00d14d90e3e16cd6"
   }
  }
 },
 "nbformat": 4,
 "nbformat_minor": 5
}
