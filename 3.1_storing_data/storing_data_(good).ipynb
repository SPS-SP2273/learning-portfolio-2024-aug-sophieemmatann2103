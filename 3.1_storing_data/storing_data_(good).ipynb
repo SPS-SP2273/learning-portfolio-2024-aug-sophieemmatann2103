{
 "cells": [
  {
   "attachments": {},
   "cell_type": "markdown",
   "id": "123456",
   "metadata": {},
   "source": [
    "<div style=\"text-align:left;font-size:2em\"><span style=\"font-weight:bolder;font-size:1.25em\">SP2273 | Learning Portfolio</span><br><br><span style=\"font-weight:bold;color:darkred\">Storing Data (Good)</span></div>"
   ]
  },
  {
   "cell_type": "code",
   "execution_count": 4,
   "id": "173ed745-d806-4296-92ed-72f4b05cb45e",
   "metadata": {},
   "outputs": [],
   "source": [
    "import numpy as np"
   ]
  },
  {
   "attachments": {},
   "cell_type": "markdown",
   "id": "20acc79a",
   "metadata": {},
   "source": [
    "# 1 Subsetting: Indexing and Slicing"
   ]
  },
  {
   "cell_type": "code",
   "execution_count": 2,
   "id": "8e73e96f-3d9f-484c-bc56-9bb68cdaed08",
   "metadata": {},
   "outputs": [],
   "source": [
    "py_list=[\"a1\", \"b2\", \"c3\", \"d4\", \"e5\",\n",
    "         \"f6\", \"g7\", \"h8\", \"i9\", \"j10\"]\n",
    "np_array=np.array(py_list)\n",
    "\n",
    "# Pick one\n",
    "x = py_list  # OR\n",
    "x = np_array"
   ]
  },
  {
   "cell_type": "code",
   "execution_count": 3,
   "id": "1f97988e-600c-4338-b597-ed5b86031558",
   "metadata": {},
   "outputs": [],
   "source": [
    "py_list=[\"a1\", \"b2\", \"c3\", \"d4\", \"e5\",\n",
    "         \"f6\", \"g7\", \"h8\", \"i9\", \"j10\"]\n",
    "np_array=np.array(py_list)\n",
    "\n",
    "# Pick one\n",
    "x = py_list  # OR\n",
    "#x = np_array"
   ]
  },
  {
   "attachments": {},
   "cell_type": "markdown",
   "id": "69791872",
   "metadata": {},
   "source": [
    "## 1.1 Lists & Arrays in 1D | Subsetting & Indexing"
   ]
  },
  {
   "cell_type": "code",
   "execution_count": 9,
   "id": "463fc65d-33ab-491d-926c-8d9f3b9e0405",
   "metadata": {},
   "outputs": [
    {
     "data": {
      "text/plain": [
       "'c3'"
      ]
     },
     "execution_count": 9,
     "metadata": {},
     "output_type": "execute_result"
    }
   ],
   "source": [
    "x[2]              # Basic, just gives index 2. "
   ]
  },
  {
   "cell_type": "code",
   "execution_count": 8,
   "id": "e6963415-8979-401d-87a6-8623c1352f1b",
   "metadata": {},
   "outputs": [
    {
     "data": {
      "text/plain": [
       "['c3', 'd4']"
      ]
     },
     "execution_count": 8,
     "metadata": {},
     "output_type": "execute_result"
    }
   ],
   "source": [
    "x[2:4]            # Gives 4-2=2 elements. The first element generated will be the first index so in this case, index 2 = c3. "
   ]
  },
  {
   "cell_type": "code",
   "execution_count": 7,
   "id": "8b5828c1-4b06-42d4-b50b-3c030dca79b6",
   "metadata": {},
   "outputs": [
    {
     "data": {
      "text/plain": [
       "['c3', 'e5', 'g7']"
      ]
     },
     "execution_count": 7,
     "metadata": {},
     "output_type": "execute_result"
    }
   ],
   "source": [
    "x[2:8:2]          # Gives every other (alternate) of 8-2=6 elements"
   ]
  },
  {
   "cell_type": "code",
   "execution_count": 11,
   "id": "b37c71f5-6879-4a5c-9cee-283c92af8544",
   "metadata": {},
   "outputs": [
    {
     "data": {
      "text/plain": [
       "['a1', 'c3', 'e5', 'g7']"
      ]
     },
     "execution_count": 11,
     "metadata": {},
     "output_type": "execute_result"
    }
   ],
   "source": [
    "x[:8:2]           # Starts right at the start so 8-0=8 elements, then selects for every other (alternate) elements. "
   ]
  },
  {
   "cell_type": "code",
   "execution_count": 14,
   "id": "367a38ad-4540-4c8f-aa02-27c3736b6ad2",
   "metadata": {},
   "outputs": [
    {
     "data": {
      "text/plain": [
       "['j10', 'i9', 'h8', 'g7', 'f6', 'e5', 'd4', 'c3', 'b2', 'a1']"
      ]
     },
     "execution_count": 14,
     "metadata": {},
     "output_type": "execute_result"
    }
   ],
   "source": [
    "x[::-1]            # Simply reverses the entire list"
   ]
  },
  {
   "cell_type": "code",
   "execution_count": null,
   "id": "3cd87b2a-8aa0-4451-8f83-4fd48a2d4e3c",
   "metadata": {},
   "outputs": [],
   "source": []
  },
  {
   "attachments": {},
   "cell_type": "markdown",
   "id": "9a862213",
   "metadata": {},
   "source": [
    "## 1.2 Arrays only | Subsetting by masking"
   ]
  },
  {
   "cell_type": "code",
   "execution_count": 17,
   "id": "7c623c52-392d-4f02-b4f7-256a4d4b2999",
   "metadata": {},
   "outputs": [
    {
     "data": {
      "text/plain": [
       "array([False, False, False,  True,  True,  True,  True,  True,  True,\n",
       "        True])"
      ]
     },
     "execution_count": 17,
     "metadata": {},
     "output_type": "execute_result"
    }
   ],
   "source": [
    "np_array = np.array([1, 2, 3, 4, 5, 6, 7, 8, 9, 10])\n",
    "my_mask = np_array > 3        # Asking a qn here, what numbers are greater than 3. \n",
    "my_mask"
   ]
  },
  {
   "cell_type": "markdown",
   "id": "5668b65b-c8f9-443d-8cc9-92b3d2940479",
   "metadata": {},
   "source": [
    "### 'AND' / '&' example for addition:"
   ]
  },
  {
   "cell_type": "code",
   "execution_count": 19,
   "id": "105113ae-0a10-4823-aaf7-a29b90bcdae0",
   "metadata": {},
   "outputs": [
    {
     "data": {
      "text/plain": [
       "array([False, False, False,  True,  True,  True,  True, False, False,\n",
       "       False])"
      ]
     },
     "execution_count": 19,
     "metadata": {},
     "output_type": "execute_result"
    }
   ],
   "source": [
    "np_array = np.array([1, 2, 3, 4, 5, 6, 7, 8, 9, 10])\n",
    "my_mask = (np_array > 3) & (np_array < 8)\n",
    "my_mask"
   ]
  },
  {
   "cell_type": "code",
   "execution_count": 21,
   "id": "8a3e6c37-393e-4749-9d10-9fd5bd0581f8",
   "metadata": {},
   "outputs": [
    {
     "data": {
      "text/plain": [
       "array([4, 5, 6, 7])"
      ]
     },
     "execution_count": 21,
     "metadata": {},
     "output_type": "execute_result"
    }
   ],
   "source": [
    "np_array = np.array([1, 2, 3, 4, 5, 6, 7, 8, 9, 10])\n",
    "my_mask = (np_array > 3) & (np_array < 8)\n",
    "np_array [my_mask]         # So here we kill off all the Falses, and the code generated will only be the True data. "
   ]
  },
  {
   "cell_type": "markdown",
   "id": "2ed19b04-346b-406d-aa82-6c8355665fe9",
   "metadata": {},
   "source": [
    "We can invert by adding a ~ and this will give everything that was not inside the question asked: "
   ]
  },
  {
   "cell_type": "code",
   "execution_count": 10,
   "id": "fa5ad4a3-5a10-49c2-a74b-c97a705c19a6",
   "metadata": {},
   "outputs": [
    {
     "data": {
      "text/plain": [
       "array([ 1,  2,  3,  8,  9, 10])"
      ]
     },
     "execution_count": 10,
     "metadata": {},
     "output_type": "execute_result"
    }
   ],
   "source": [
    "np_array = np.array([1, 2, 3, 4, 5, 6, 7, 8, 9, 10])\n",
    "my_mask = (np_array > 3) & (np_array < 8)    \n",
    "np_array [~my_mask]                          # So here we kill off all the TRUES, and the code generated will only be the FALSES data. "
   ]
  },
  {
   "cell_type": "code",
   "execution_count": 11,
   "id": "7c0d6ffa-f6ad-4368-bfdd-84e0f80267ed",
   "metadata": {},
   "outputs": [
    {
     "ename": "ValueError",
     "evalue": "The truth value of an array with more than one element is ambiguous. Use a.any() or a.all()",
     "output_type": "error",
     "traceback": [
      "\u001b[1;31m---------------------------------------------------------------------------\u001b[0m",
      "\u001b[1;31mValueError\u001b[0m                                Traceback (most recent call last)",
      "Cell \u001b[1;32mIn[11], line 2\u001b[0m\n\u001b[0;32m      1\u001b[0m np_array \u001b[38;5;241m=\u001b[39m np\u001b[38;5;241m.\u001b[39marray([\u001b[38;5;241m1\u001b[39m, \u001b[38;5;241m2\u001b[39m, \u001b[38;5;241m3\u001b[39m, \u001b[38;5;241m4\u001b[39m, \u001b[38;5;241m5\u001b[39m, \u001b[38;5;241m6\u001b[39m, \u001b[38;5;241m7\u001b[39m, \u001b[38;5;241m8\u001b[39m, \u001b[38;5;241m9\u001b[39m, \u001b[38;5;241m10\u001b[39m])\n\u001b[1;32m----> 2\u001b[0m my_mask \u001b[38;5;241m=\u001b[39m np_array \u001b[38;5;241m>\u001b[39m \u001b[38;5;241m3\u001b[39m \u001b[38;5;241m&\u001b[39m np_array \u001b[38;5;241m<\u001b[39m \u001b[38;5;241m8\u001b[39m                  \u001b[38;5;66;03m# MUST ALWAYS USE THE BRACKETS, IF NOT WILL MESS THINGS UP\u001b[39;00m\n\u001b[0;32m      3\u001b[0m np_array [my_mask]             \n",
      "\u001b[1;31mValueError\u001b[0m: The truth value of an array with more than one element is ambiguous. Use a.any() or a.all()"
     ]
    }
   ],
   "source": [
    "np_array = np.array([1, 2, 3, 4, 5, 6, 7, 8, 9, 10])\n",
    "my_mask = np_array > 3 & np_array < 8                  # MUST ALWAYS USE THE BRACKETS, IF NOT WILL MESS THINGS UP\n",
    "np_array [my_mask]             "
   ]
  },
  {
   "cell_type": "code",
   "execution_count": 12,
   "id": "489293fc-9932-4c88-8d99-869fc2f5aace",
   "metadata": {},
   "outputs": [
    {
     "data": {
      "text/plain": [
       "np.int64(4)"
      ]
     },
     "execution_count": 12,
     "metadata": {},
     "output_type": "execute_result"
    }
   ],
   "source": [
    "my_mask.sum()"
   ]
  },
  {
   "cell_type": "markdown",
   "id": "ea107c0e-44ca-456f-8b69-4953a8194c11",
   "metadata": {},
   "source": [
    "### 'OR' / '|' (which will show something if either mask is true):"
   ]
  },
  {
   "cell_type": "code",
   "execution_count": 13,
   "id": "e7fcce91-372a-4483-b40d-11f0e213e1d1",
   "metadata": {},
   "outputs": [
    {
     "data": {
      "text/plain": [
       "array([ 1,  2,  9, 10])"
      ]
     },
     "execution_count": 13,
     "metadata": {},
     "output_type": "execute_result"
    }
   ],
   "source": [
    "np_array[(np_array < 3) | (np_array > 8)]          # '|' means 'OR'"
   ]
  },
  {
   "cell_type": "markdown",
   "id": "e209bbb6-e4ce-468f-9529-3a210efd345e",
   "metadata": {},
   "source": [
    "Cannot use 'or' here, needs to use | "
   ]
  },
  {
   "attachments": {},
   "cell_type": "markdown",
   "id": "aebc6ed0",
   "metadata": {},
   "source": [
    "## 1.3 Lists & Arrays in 2D | Indexing & Slicing"
   ]
  },
  {
   "cell_type": "code",
   "execution_count": 27,
   "id": "cb4f1c7f-6628-4def-9946-48afa2a711fa",
   "metadata": {},
   "outputs": [],
   "source": [
    "py_list_2d = [[1, \"A\"], [2, \"B\"], [3, \"C\"], [4, \"D\"],\n",
    "              [5, \"E\"], [6, \"F\"], [7, \"G\"], [8, \"H\"],\n",
    "              [9, \"I\"], [10, \"J\"]]\n",
    "\n",
    "np_array_2d = np.array(py_list_2d)"
   ]
  },
  {
   "cell_type": "code",
   "execution_count": 30,
   "id": "9ab17ba2-20f5-4b27-8079-a8b628b5941c",
   "metadata": {},
   "outputs": [
    {
     "data": {
      "text/plain": [
       "[4, 'D']"
      ]
     },
     "execution_count": 30,
     "metadata": {},
     "output_type": "execute_result"
    }
   ],
   "source": [
    "py_list_2d[3]"
   ]
  },
  {
   "cell_type": "code",
   "execution_count": 31,
   "id": "f01283d2-f043-46c4-9a8b-699c3e21925f",
   "metadata": {},
   "outputs": [
    {
     "data": {
      "text/plain": [
       "array(['4', 'D'], dtype='<U21')"
      ]
     },
     "execution_count": 31,
     "metadata": {},
     "output_type": "execute_result"
    }
   ],
   "source": [
    "np_array_2d[3]"
   ]
  },
  {
   "cell_type": "markdown",
   "id": "6b74e9f7-1d40-48cc-b4b1-f4d380be6577",
   "metadata": {},
   "source": [
    "How do we only get 'D' of index 3? Here is how: "
   ]
  },
  {
   "cell_type": "code",
   "execution_count": 40,
   "id": "2db977fe-b6ba-496b-a6a4-0152a4e874b5",
   "metadata": {},
   "outputs": [
    {
     "data": {
      "text/plain": [
       "'D'"
      ]
     },
     "execution_count": 40,
     "metadata": {},
     "output_type": "execute_result"
    }
   ],
   "source": [
    "py_list_2d[3][1]         # Needs to split   "
   ]
  },
  {
   "cell_type": "code",
   "execution_count": 39,
   "id": "a1fcbb95-b02b-4f82-af3c-265c73669279",
   "metadata": {},
   "outputs": [
    {
     "data": {
      "text/plain": [
       "np.str_('D')"
      ]
     },
     "execution_count": 39,
     "metadata": {},
     "output_type": "execute_result"
    }
   ],
   "source": [
    "np_array_2d[3,1]          # Can just add , and it will work"
   ]
  },
  {
   "attachments": {},
   "cell_type": "markdown",
   "id": "b1a4a110",
   "metadata": {},
   "source": [
    "## 1.4 Growing lists"
   ]
  },
  {
   "cell_type": "code",
   "execution_count": 14,
   "id": "05a9bf7c-0669-4c59-81ef-86b625f570a4",
   "metadata": {},
   "outputs": [
    {
     "data": {
      "text/plain": [
       "[1, 2, 1, 2, 1, 2, 1, 2, 1, 2]"
      ]
     },
     "execution_count": 14,
     "metadata": {},
     "output_type": "execute_result"
    }
   ],
   "source": [
    "x=[1, 2]*5\n",
    "x"
   ]
  },
  {
   "cell_type": "code",
   "execution_count": 17,
   "id": "d39d2c79-b5aa-43b6-b832-aae8136853de",
   "metadata": {},
   "outputs": [
    {
     "name": "stdout",
     "output_type": "stream",
     "text": [
      "565 ns ± 11.1 ns per loop (mean ± std. dev. of 7 runs, 1,000,000 loops each)\n"
     ]
    }
   ],
   "source": [
    "%%timeit\n",
    "x=[1]\n",
    "x= x + [2]\n",
    "x= x + [3]\n",
    "x= x + [4]\n",
    "x"
   ]
  },
  {
   "cell_type": "code",
   "execution_count": 18,
   "id": "e9fc6b28-3396-4e1d-bbec-19de372bf9e2",
   "metadata": {},
   "outputs": [
    {
     "name": "stdout",
     "output_type": "stream",
     "text": [
      "499 ns ± 8.19 ns per loop (mean ± std. dev. of 7 runs, 1,000,000 loops each)\n"
     ]
    }
   ],
   "source": [
    "%%timeit\n",
    "x=[1]\n",
    "x+= [2]\n",
    "x+= [3]\n",
    "x+= [4]\n",
    "x"
   ]
  },
  {
   "cell_type": "code",
   "execution_count": 19,
   "id": "76e17362-e9a7-4ef5-b73e-31c444320f53",
   "metadata": {},
   "outputs": [
    {
     "name": "stdout",
     "output_type": "stream",
     "text": [
      "268 ns ± 5.78 ns per loop (mean ± std. dev. of 7 runs, 1,000,000 loops each)\n"
     ]
    }
   ],
   "source": [
    "%%timeit\n",
    "x=[1]\n",
    "x.append(2)\n",
    "x.append(3)\n",
    "x.append(4)\n",
    "x"
   ]
  },
  {
   "cell_type": "markdown",
   "id": "80e0dc85-1d3c-4743-9887-c547fea941a7",
   "metadata": {},
   "source": [
    "If you are wondering, there are differences between these three versions. Their execution speeds are different; the version with **append()** runs about 1.5 times faster than the rest!"
   ]
  },
  {
   "cell_type": "code",
   "execution_count": 22,
   "id": "ebfff8b8-98b5-4419-9ad0-21c048cc2860",
   "metadata": {},
   "outputs": [
    {
     "data": {
      "text/plain": [
       "[1, 2, 3, 4, 5, 6]"
      ]
     },
     "execution_count": 22,
     "metadata": {},
     "output_type": "execute_result"
    }
   ],
   "source": [
    "x = [1, 2, 3]\n",
    "x += [4, 5, 6]\n",
    "x"
   ]
  },
  {
   "cell_type": "code",
   "execution_count": 23,
   "id": "7e069016-c0b3-402f-94b1-9bb82597c435",
   "metadata": {},
   "outputs": [
    {
     "data": {
      "text/plain": [
       "[1, 2, 3, 4, 5, 6]"
      ]
     },
     "execution_count": 23,
     "metadata": {},
     "output_type": "execute_result"
    }
   ],
   "source": [
    "x=[1, 2, 3]\n",
    "x.extend([4, 5, 6])\n",
    "x"
   ]
  },
  {
   "cell_type": "code",
   "execution_count": 24,
   "id": "76b61728-5097-4031-91e0-18a136eecd64",
   "metadata": {},
   "outputs": [
    {
     "data": {
      "text/plain": [
       "[1, 2, 3, [4, 5, 6]]"
      ]
     },
     "execution_count": 24,
     "metadata": {},
     "output_type": "execute_result"
    }
   ],
   "source": [
    "x=[1, 2, 3]\n",
    "x.append([4, 5, 6])\n",
    "x"
   ]
  },
  {
   "cell_type": "markdown",
   "id": "1ded1ef4-cf69-452d-ad12-16d7f44980a2",
   "metadata": {},
   "source": [
    "Extend joins the list together, while append just puts the element at the end. "
   ]
  },
  {
   "cell_type": "markdown",
   "id": "a2ee48e4-a284-4954-b5fe-b429617881f0",
   "metadata": {},
   "source": [
    "To put elements at the start: "
   ]
  },
  {
   "cell_type": "code",
   "execution_count": 26,
   "id": "f1c798c7-c2dd-428a-8835-a9f56a844328",
   "metadata": {},
   "outputs": [
    {
     "data": {
      "text/plain": [
       "[0, 1, 2, 3]"
      ]
     },
     "execution_count": 26,
     "metadata": {},
     "output_type": "execute_result"
    }
   ],
   "source": [
    "x=[1, 2, 3]\n",
    "x = [0] + x\n",
    "x"
   ]
  },
  {
   "cell_type": "code",
   "execution_count": 32,
   "id": "9e6d11a8-7cfb-45a6-9777-b97253eba723",
   "metadata": {},
   "outputs": [
    {
     "data": {
      "text/plain": [
       "['0', 1, 2, 3]"
      ]
     },
     "execution_count": 32,
     "metadata": {},
     "output_type": "execute_result"
    }
   ],
   "source": [
    "x=[1, 2, 3]\n",
    "x.insert(0,\"0\")   # Green zero is the index (i.e. refers to 1), red 0 is the thing we want to insert, \n",
    "                  # and this will be inserted to in front of the first element though it is after the comma.\n",
    "\n",
    "x"
   ]
  },
  {
   "cell_type": "code",
   "execution_count": 31,
   "id": "c68d15d7-a239-4be4-923e-2c87025280a0",
   "metadata": {},
   "outputs": [
    {
     "data": {
      "text/plain": [
       "[1, 2, 3, '0']"
      ]
     },
     "execution_count": 31,
     "metadata": {},
     "output_type": "execute_result"
    }
   ],
   "source": [
    "x=[1, 2, 3]\n",
    "x.insert(5,\"0\")    # System does not complain even if there is no fifth index here. Will just insert red 0 at the end.\n",
    "x"
   ]
  },
  {
   "cell_type": "code",
   "execution_count": null,
   "id": "aa4f81cf-941f-4a6c-8edb-e09041855a65",
   "metadata": {},
   "outputs": [],
   "source": []
  },
  {
   "attachments": {},
   "cell_type": "markdown",
   "id": "2b83315f",
   "metadata": {},
   "source": [
    "# Some loose ends"
   ]
  },
  {
   "attachments": {},
   "cell_type": "markdown",
   "id": "0bd1c8c3",
   "metadata": {},
   "source": [
    "## 1.5 Tuples"
   ]
  },
  {
   "cell_type": "code",
   "execution_count": 38,
   "id": "5c8f08ee-8268-447d-ba4f-5317d3fcd131",
   "metadata": {},
   "outputs": [],
   "source": [
    "a=[1, 2, 3]     # This is a list according to python because it has [] brackets"
   ]
  },
  {
   "cell_type": "code",
   "execution_count": 39,
   "id": "dfb1db94-318d-4ea2-b95f-2c7e64d47b0d",
   "metadata": {},
   "outputs": [],
   "source": [
    "aa=(1, 2, 3)     # Define tuple"
   ]
  },
  {
   "cell_type": "markdown",
   "id": "ac7d6304-e0de-436c-9ba9-5f165b1b69da",
   "metadata": {},
   "source": [
    "Tuples are similar to lists, except they use ( ) and cannot be changed after creation (i.e., they are immutable)."
   ]
  },
  {
   "cell_type": "code",
   "execution_count": 48,
   "id": "6bc34c53-c7af-47ab-a71f-eb9886f52861",
   "metadata": {},
   "outputs": [
    {
     "data": {
      "text/plain": [
       "[1234, 2, 3]"
      ]
     },
     "execution_count": 48,
     "metadata": {},
     "output_type": "execute_result"
    }
   ],
   "source": [
    "a=[1, 2, 3]  \n",
    "a [0] = 1234      #a[0] is accessing the data. Wants to replace the first index (which is 1) to 1234.\n",
    "a"
   ]
  },
  {
   "cell_type": "code",
   "execution_count": 49,
   "id": "49388920-73b1-44d2-b76e-1f2f6c48b83c",
   "metadata": {},
   "outputs": [
    {
     "ename": "TypeError",
     "evalue": "'tuple' object does not support item assignment",
     "output_type": "error",
     "traceback": [
      "\u001b[1;31m---------------------------------------------------------------------------\u001b[0m",
      "\u001b[1;31mTypeError\u001b[0m                                 Traceback (most recent call last)",
      "Cell \u001b[1;32mIn[49], line 2\u001b[0m\n\u001b[0;32m      1\u001b[0m aa\u001b[38;5;241m=\u001b[39m(\u001b[38;5;241m1\u001b[39m, \u001b[38;5;241m2\u001b[39m, \u001b[38;5;241m3\u001b[39m)  \n\u001b[1;32m----> 2\u001b[0m \u001b[43maa\u001b[49m\u001b[43m[\u001b[49m\u001b[38;5;241;43m0\u001b[39;49m\u001b[43m]\u001b[49m\u001b[38;5;241m=\u001b[39m\u001b[38;5;241m1234\u001b[39m       \u001b[38;5;66;03m#aa[0] is accessing the data. But tuple does not allow it unlike lists.\u001b[39;00m\n\u001b[0;32m      3\u001b[0m aa\n",
      "\u001b[1;31mTypeError\u001b[0m: 'tuple' object does not support item assignment"
     ]
    }
   ],
   "source": [
    "aa=(1, 2, 3)  \n",
    "aa[0]=1234       #aa[0] is accessing the data. But tuple does not allow it unlike lists.\n",
    "aa"
   ]
  },
  {
   "cell_type": "code",
   "execution_count": null,
   "id": "5781a1b3-666c-49ef-9910-2597933cb40f",
   "metadata": {},
   "outputs": [],
   "source": []
  },
  {
   "attachments": {},
   "cell_type": "markdown",
   "id": "35eabf51",
   "metadata": {},
   "source": [
    "## 1.6 Be VERY careful when copying"
   ]
  },
  {
   "cell_type": "code",
   "execution_count": 55,
   "id": "7adae5b0-a424-496a-a8fe-dab0018d8826",
   "metadata": {},
   "outputs": [],
   "source": [
    "x=[1, 2, 3]\n",
    "y=x           # DON'T do this!\n",
    "z=x           # DON'T do this!"
   ]
  },
  {
   "cell_type": "code",
   "execution_count": 56,
   "id": "cba20db9-b628-408e-97f6-2bc172375dea",
   "metadata": {},
   "outputs": [
    {
     "name": "stdout",
     "output_type": "stream",
     "text": [
      "x=[1, 2, 3],y=[1, 2, 3],z=[1, 2, 3]\n"
     ]
    }
   ],
   "source": [
    "print(f'{x=},{y=},{z=}')"
   ]
  },
  {
   "cell_type": "code",
   "execution_count": null,
   "id": "b87f6903-dda6-4b71-864d-6f6bf98552e6",
   "metadata": {},
   "outputs": [],
   "source": []
  },
  {
   "cell_type": "code",
   "execution_count": 57,
   "id": "463e0d80-27e3-4eb4-acea-e83a0f3fbe6a",
   "metadata": {},
   "outputs": [],
   "source": [
    "y[0] = 1234"
   ]
  },
  {
   "cell_type": "code",
   "execution_count": 58,
   "id": "9ccc5879-28ec-47df-b06f-93d64595d6b2",
   "metadata": {},
   "outputs": [
    {
     "name": "stdout",
     "output_type": "stream",
     "text": [
      "x=[1234, 2, 3],y=[1234, 2, 3],z=[1234, 2, 3]\n"
     ]
    }
   ],
   "source": [
    "print(f'{x=},{y=},{z=}')"
   ]
  },
  {
   "cell_type": "markdown",
   "id": "fae28333-51ed-4076-8350-e044c5e788ff",
   "metadata": {},
   "source": [
    "Here we can see once we change one variable, we change of all of them regardless if its x y or z. "
   ]
  },
  {
   "cell_type": "code",
   "execution_count": null,
   "id": "958dbf07-3222-4087-89ba-7d69115fd82d",
   "metadata": {},
   "outputs": [],
   "source": []
  },
  {
   "cell_type": "markdown",
   "id": "a9722936-89c6-4978-bb26-7834d0039c29",
   "metadata": {},
   "source": [
    "The correct way to do this is as follows:"
   ]
  },
  {
   "cell_type": "code",
   "execution_count": 70,
   "id": "3797d6c9-1c04-4342-89ab-0b30c8f56bc2",
   "metadata": {},
   "outputs": [],
   "source": [
    "x=[1, 2, 3]\n",
    "y=x.copy()\n",
    "z=x.copy()"
   ]
  },
  {
   "cell_type": "markdown",
   "id": "bca38933-0b0f-4ca4-bf43-a664c01f2f50",
   "metadata": {},
   "source": [
    "Note: At this stage, you only have to know that you must use copy() to be safe; you do not have to understand why. However, if you want to, please refer to the discussion on mutable and immutable objects."
   ]
  },
  {
   "cell_type": "code",
   "execution_count": 71,
   "id": "87916b01-f135-47de-8b15-cb04bd3416ef",
   "metadata": {},
   "outputs": [],
   "source": [
    "y[0] = 1234"
   ]
  },
  {
   "cell_type": "code",
   "execution_count": 72,
   "id": "5b8aae19-7077-4e02-9853-675c21777ade",
   "metadata": {},
   "outputs": [
    {
     "name": "stdout",
     "output_type": "stream",
     "text": [
      "x=[1, 2, 3],y=[1234, 2, 3],z=[1, 2, 3]\n"
     ]
    }
   ],
   "source": [
    "print(f'{x=},{y=},{z=}')"
   ]
  },
  {
   "cell_type": "markdown",
   "id": "ff4304c1-fafb-436a-b8b7-2df91795fe2d",
   "metadata": {},
   "source": [
    "Notice how when we use the copy() function, it does not apply to all x y and z unlike the example at the start of this subtopic.\n",
    "\n",
    "copy() will ensure that the index we change is pertaining to y only, and won't change for x or z, at least for this example. "
   ]
  },
  {
   "cell_type": "code",
   "execution_count": null,
   "id": "4cc0206e-ba97-467d-9474-2050d64617f6",
   "metadata": {},
   "outputs": [],
   "source": []
  },
  {
   "attachments": {},
   "cell_type": "markdown",
   "id": "749360fc",
   "metadata": {},
   "source": [
    "## Footnotes"
   ]
  },
  {
   "cell_type": "markdown",
   "id": "c1fb88c5-b131-45af-be67-0a89dd041a38",
   "metadata": {},
   "source": [
    "To get a 3D array: "
   ]
  },
  {
   "cell_type": "code",
   "execution_count": 43,
   "id": "2d68cc0f-ef84-4dee-97c1-b0f674a30a50",
   "metadata": {},
   "outputs": [
    {
     "data": {
      "text/plain": [
       "4"
      ]
     },
     "execution_count": 43,
     "metadata": {},
     "output_type": "execute_result"
    }
   ],
   "source": [
    "x = [[[1,2],[3,4]],[[2,2],[3,4]],[[5,6],[7,8]]]     # This is a 3D list\n",
    "\n",
    "x [0][1][1]                                         # Calling 0 is for the first list\n",
    "                                                    # Calling the first 1 is for the second set of data in the first list (i.e [3,4])\n",
    "                                                    # calling the second 1 is for the second value in the second set of data in the first list "
   ]
  },
  {
   "cell_type": "code",
   "execution_count": 45,
   "id": "f99ace3f-c009-4700-958b-79447d75e81d",
   "metadata": {},
   "outputs": [
    {
     "data": {
      "text/plain": [
       "np.int64(4)"
      ]
     },
     "execution_count": 45,
     "metadata": {},
     "output_type": "execute_result"
    }
   ],
   "source": [
    "x = [[[1,2],[3,4]],[[2,2],[3,4]],[[5,6],[7,8]]]\n",
    "np_x = np.array(x)\n",
    "\n",
    "np_x [0,1,1]                                        # Getting the same answer but converting it to numpy instead. "
   ]
  }
 ],
 "metadata": {
  "kernelspec": {
   "display_name": "Python 3 (ipykernel)",
   "language": "python",
   "name": "python3"
  },
  "language_info": {
   "codemirror_mode": {
    "name": "ipython",
    "version": 3
   },
   "file_extension": ".py",
   "mimetype": "text/x-python",
   "name": "python",
   "nbconvert_exporter": "python",
   "pygments_lexer": "ipython3",
   "version": "3.12.3"
  },
  "toc": {
   "base_numbering": 1,
   "nav_menu": {},
   "number_sections": true,
   "sideBar": true,
   "skip_h1_title": false,
   "title_cell": "Table of Contents",
   "title_sidebar": "Contents",
   "toc_cell": false,
   "toc_position": {},
   "toc_section_display": true,
   "toc_window_display": false
  },
  "vscode": {
   "interpreter": {
    "hash": "31f2aee4e71d21fbe5cf8b01ff0e069b9275f58929596ceb00d14d90e3e16cd6"
   }
  }
 },
 "nbformat": 4,
 "nbformat_minor": 5
}
