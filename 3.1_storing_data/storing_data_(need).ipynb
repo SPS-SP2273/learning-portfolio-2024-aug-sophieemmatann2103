{
 "cells": [
  {
   "attachments": {},
   "cell_type": "markdown",
   "id": "123456",
   "metadata": {},
   "source": [
    "<div style=\"text-align:left;font-size:2em\"><span style=\"font-weight:bolder;font-size:1.25em\">SP2273 | Learning Portfolio</span><br><br><span style=\"font-weight:bold;color:darkred\">Storing Data (Need)</span></div>"
   ]
  },
  {
   "cell_type": "code",
   "execution_count": 21,
   "id": "999f46ab-6c4e-4fc9-8329-7d5f11b75574",
   "metadata": {},
   "outputs": [],
   "source": [
    "import numpy as np"
   ]
  },
  {
   "attachments": {},
   "cell_type": "markdown",
   "id": "4050485f",
   "metadata": {},
   "source": [
    "# 1 Python Lists, Numpy Arrays & Dictionaries"
   ]
  },
  {
   "cell_type": "code",
   "execution_count": 17,
   "id": "93d1e01e-5bf9-4487-811c-7a969140d69f",
   "metadata": {},
   "outputs": [],
   "source": [
    "py_super_names = [\"Black Widow\", \"Iron Man\", \"Doctor Strange\"]\n",
    "py_real_names = [\"Natasha Romanoff\", \"Tony Stark\", \"Stephen Strange\"]"
   ]
  },
  {
   "cell_type": "code",
   "execution_count": 27,
   "id": "c5443280-709d-4b84-927e-596bd2c8e758",
   "metadata": {},
   "outputs": [],
   "source": [
    "np_super_names = np.array([\"Black Widow\", \"Iron Man\", \"Doctor Strange\"])\n",
    "np_real_names = np.array([\"Natasha Romanoff\", \"Tony Stark\", \"Stephen Strange\"])"
   ]
  },
  {
   "cell_type": "code",
   "execution_count": 14,
   "id": "e1c6d98c-fcc2-4309-856f-ab51ac0fa687",
   "metadata": {},
   "outputs": [],
   "source": [
    "superhero_info = {\n",
    "    \"Natasha Romanoff\": \"Black Widow\",\n",
    "    \"Tony Stark\": \"Iron Man\",\n",
    "    \"Stephen Strange\": \"Doctor Strange\"\n",
    "}"
   ]
  },
  {
   "cell_type": "markdown",
   "id": "95ceedd2-8c79-432e-82cd-a69892864ed3",
   "metadata": {},
   "source": [
    "Have the same data, but stored differently. \n",
    "\n",
    "Need 3 different ways because we can data in different ways, whichever feels more comfortable.\n",
    "\n",
    "Nothing will happen if we just run the stored data. We need to access it (see below):"
   ]
  },
  {
   "attachments": {},
   "cell_type": "markdown",
   "id": "01668030",
   "metadata": {},
   "source": [
    "## 1.2 Accessing data from a list (or array)"
   ]
  },
  {
   "cell_type": "markdown",
   "id": "08d0eea6-a106-4ccd-a11d-32798fa277bb",
   "metadata": {},
   "source": [
    "Python is a zero-indexed language, meaning it starts counting at 0. So if you want to access a particular element in the list (or array), you need to specify the relevant index starting from zero. \n",
    "\n",
    "Let's access the data stored in the Python Lists examples above: "
   ]
  },
  {
   "cell_type": "code",
   "execution_count": 5,
   "id": "cbfee862-009a-44f6-90f8-1e8c8db1b07a",
   "metadata": {},
   "outputs": [
    {
     "data": {
      "text/plain": [
       "'Black Widow'"
      ]
     },
     "execution_count": 5,
     "metadata": {},
     "output_type": "execute_result"
    }
   ],
   "source": [
    "py_super_names [0]"
   ]
  },
  {
   "cell_type": "code",
   "execution_count": 25,
   "id": "7c6a70d9-57f8-470f-abab-03c42ad91ee5",
   "metadata": {},
   "outputs": [
    {
     "data": {
      "text/plain": [
       "'Iron Man'"
      ]
     },
     "execution_count": 25,
     "metadata": {},
     "output_type": "execute_result"
    }
   ],
   "source": [
    "py_super_names[1]"
   ]
  },
  {
   "cell_type": "code",
   "execution_count": 32,
   "id": "256e7b8b-0a20-408e-bf60-728cc8878f4a",
   "metadata": {
    "scrolled": true
   },
   "outputs": [
    {
     "data": {
      "text/plain": [
       "np.str_('Tony Stark')"
      ]
     },
     "execution_count": 32,
     "metadata": {},
     "output_type": "execute_result"
    }
   ],
   "source": [
    "np_real_names [1]"
   ]
  },
  {
   "cell_type": "code",
   "execution_count": 31,
   "id": "a9afd9c1-21f8-4570-a3ef-97bdf5d97f90",
   "metadata": {},
   "outputs": [
    {
     "data": {
      "text/plain": [
       "'Doctor Strange'"
      ]
     },
     "execution_count": 31,
     "metadata": {},
     "output_type": "execute_result"
    }
   ],
   "source": [
    "py_super_names[-1]      # Reverse indexing"
   ]
  },
  {
   "attachments": {},
   "cell_type": "markdown",
   "id": "5845c63f",
   "metadata": {},
   "source": [
    "## 1.3 Accessing data from a dictionary"
   ]
  },
  {
   "cell_type": "code",
   "execution_count": 34,
   "id": "df20ab92-0530-4254-8ced-a67eecd718d3",
   "metadata": {},
   "outputs": [],
   "source": [
    "superhero_info = {\n",
    "    \"Natasha Romanoff\": \"Black Widow\",\n",
    "    \"Tony Stark\": \"Iron Man\",\n",
    "    \"Stephen Strange\": \"Doctor Strange\"\n",
    "}"
   ]
  },
  {
   "cell_type": "code",
   "execution_count": 37,
   "id": "0675b2cd-9ec9-4765-bd7d-1b7c05e9bb54",
   "metadata": {},
   "outputs": [],
   "source": [
    "superhero_info[\"Peter Parker\"] = \"Spider Man\""
   ]
  },
  {
   "cell_type": "code",
   "execution_count": 38,
   "id": "d7bc5b69-c9ec-4280-90c3-f69c5ccf08ef",
   "metadata": {},
   "outputs": [
    {
     "data": {
      "text/plain": [
       "{'Natasha Romanoff': 'Black Widow',\n",
       " 'Tony Stark': 'Iron Man',\n",
       " 'Stephen Strange': 'Doctor Strange',\n",
       " 'Peter Parker': 'Spider Man'}"
      ]
     },
     "execution_count": 38,
     "metadata": {},
     "output_type": "execute_result"
    }
   ],
   "source": [
    "superhero_info"
   ]
  },
  {
   "cell_type": "markdown",
   "id": "f82d00c0-96f1-4840-96ba-b1a51bd8e47f",
   "metadata": {},
   "source": [
    "Whenever you want the data (values) out, just give the key (the real names in this case). KEYS COME BEFORE VALUES!!"
   ]
  },
  {
   "cell_type": "code",
   "execution_count": 39,
   "id": "b30e8990-465b-4233-a70d-bdd07c6e7ba9",
   "metadata": {},
   "outputs": [
    {
     "data": {
      "text/plain": [
       "dict_keys(['Natasha Romanoff', 'Tony Stark', 'Stephen Strange', 'Peter Parker'])"
      ]
     },
     "execution_count": 39,
     "metadata": {},
     "output_type": "execute_result"
    }
   ],
   "source": [
    "superhero_info.keys()"
   ]
  },
  {
   "cell_type": "code",
   "execution_count": 40,
   "id": "1a7f98fc-fdf8-4a0a-b956-2f716b86dd5d",
   "metadata": {},
   "outputs": [
    {
     "data": {
      "text/plain": [
       "dict_values(['Black Widow', 'Iron Man', 'Doctor Strange', 'Spider Man'])"
      ]
     },
     "execution_count": 40,
     "metadata": {},
     "output_type": "execute_result"
    }
   ],
   "source": [
    "superhero_info.values()"
   ]
  },
  {
   "attachments": {},
   "cell_type": "markdown",
   "id": "e1f0bcf3",
   "metadata": {},
   "source": [
    "## 1.4 Higher dimensional lists"
   ]
  },
  {
   "cell_type": "code",
   "execution_count": null,
   "id": "de2362ab-050a-4bba-96ed-c8a01bf2809f",
   "metadata": {},
   "outputs": [],
   "source": [
    "py_super_names = [\"Black Widow\", \"Iron Man\", \"Doctor Strange\"]\n",
    "py_real_names = [\"Natasha Romanoff\", \"Tony Stark\", \"Stephen Strange\"]"
   ]
  },
  {
   "cell_type": "code",
   "execution_count": null,
   "id": "014a6002-6a77-4c26-9390-8cf97259178f",
   "metadata": {},
   "outputs": [],
   "source": [
    "py_superhero_info = [['Natasha Romanoff', 'Black Widow'],\n",
    "                     ['Tony Stark', 'Iron Man'],\n",
    "                     ['Stephen Strange', 'Doctor Strange']]"
   ]
  },
  {
   "cell_type": "markdown",
   "id": "663dc558-2558-49b9-9b0a-b0c9bff4447e",
   "metadata": {},
   "source": [
    "Both have same information, but are arranged in different manners. "
   ]
  },
  {
   "cell_type": "code",
   "execution_count": 41,
   "id": "c693f370-621d-4ad5-b53a-ae05ddf139ac",
   "metadata": {},
   "outputs": [],
   "source": [
    "superhero_info = {\n",
    "    \"Natasha Romanoff\": \"Marvel\",\n",
    "    \"Tony Stark\": \"Marvel\",\n",
    "    \"Stephen Strange\": \"Marvel\",\n",
    "    \"Diana Prince\": \"DC\"\n",
    "}"
   ]
  },
  {
   "attachments": {},
   "cell_type": "markdown",
   "id": "48c286a5",
   "metadata": {},
   "source": [
    "# 2 Lists vs. Arrays"
   ]
  },
  {
   "cell_type": "code",
   "execution_count": 42,
   "id": "0ca5432a-1f49-4ae8-98ed-d5057c556ead",
   "metadata": {},
   "outputs": [],
   "source": [
    "py_list_2d = [[1, \"A\"], [2, \"B\"], [3, \"C\"], [4, \"D\"],\n",
    "              [5, \"E\"], [6, \"F\"], [7, \"G\"], [8, \"H\"],\n",
    "              [9, \"I\"], [10, \"J\"]]\n",
    "\n",
    "np_array_2d = np.array(py_list_2d)      # Reusing the Python list \n",
    "                                        # to create a NEW\n",
    "                                        # NumPy array"
   ]
  },
  {
   "cell_type": "markdown",
   "id": "f214e753-6f13-4690-96c1-465c3726c4f7",
   "metadata": {},
   "source": [
    "With this function, we can convert int to float, lists to a numpy array. \n",
    "\n",
    "Remember to run codes, we can type out the first few alphabets then press Tab then select from the lists (kind of a shortcut)."
   ]
  },
  {
   "cell_type": "code",
   "execution_count": 43,
   "id": "37cca387-94db-47c7-9761-32b3f93e1eed",
   "metadata": {},
   "outputs": [
    {
     "data": {
      "text/plain": [
       "[[1, 'A'],\n",
       " [2, 'B'],\n",
       " [3, 'C'],\n",
       " [4, 'D'],\n",
       " [5, 'E'],\n",
       " [6, 'F'],\n",
       " [7, 'G'],\n",
       " [8, 'H'],\n",
       " [9, 'I'],\n",
       " [10, 'J']]"
      ]
     },
     "execution_count": 43,
     "metadata": {},
     "output_type": "execute_result"
    }
   ],
   "source": [
    "py_list_2d"
   ]
  },
  {
   "cell_type": "code",
   "execution_count": 44,
   "id": "8cb534fd-3b68-4ac2-815e-4ae6d0f068f2",
   "metadata": {},
   "outputs": [
    {
     "data": {
      "text/plain": [
       "array([['1', 'A'],\n",
       "       ['2', 'B'],\n",
       "       ['3', 'C'],\n",
       "       ['4', 'D'],\n",
       "       ['5', 'E'],\n",
       "       ['6', 'F'],\n",
       "       ['7', 'G'],\n",
       "       ['8', 'H'],\n",
       "       ['9', 'I'],\n",
       "       ['10', 'J']], dtype='<U21')"
      ]
     },
     "execution_count": 44,
     "metadata": {},
     "output_type": "execute_result"
    }
   ],
   "source": [
    "np_array_2d"
   ]
  },
  {
   "cell_type": "markdown",
   "id": "0105bea3-df9f-4cab-9f48-def4132c9097",
   "metadata": {},
   "source": [
    "We get the same data but it is listed in the form of an array. "
   ]
  },
  {
   "attachments": {},
   "cell_type": "markdown",
   "id": "88d3388b",
   "metadata": {},
   "source": [
    "## 2.1 Size"
   ]
  },
  {
   "cell_type": "markdown",
   "id": "a9dc73e7-85bc-452b-880d-efe716431128",
   "metadata": {},
   "source": [
    "Most of the time, we want to know the size of something. So we use the len() function. "
   ]
  },
  {
   "cell_type": "code",
   "execution_count": 45,
   "id": "78fc1892-195a-4535-9a39-faea91cdabbe",
   "metadata": {},
   "outputs": [
    {
     "data": {
      "text/plain": [
       "10"
      ]
     },
     "execution_count": 45,
     "metadata": {},
     "output_type": "execute_result"
    }
   ],
   "source": [
    "len(py_list_2d)"
   ]
  },
  {
   "cell_type": "code",
   "execution_count": 46,
   "id": "e5687cb3-9307-4360-85b2-ad4cbfa4ef6d",
   "metadata": {},
   "outputs": [
    {
     "data": {
      "text/plain": [
       "10"
      ]
     },
     "execution_count": 46,
     "metadata": {},
     "output_type": "execute_result"
    }
   ],
   "source": [
    "len(np_array_2d)"
   ]
  },
  {
   "cell_type": "markdown",
   "id": "908e23c6-6a0f-48b3-85c5-afed6fb31c17",
   "metadata": {},
   "source": [
    "Though we have 20 elements, the code ran gives us 10 only. This is because the code will only give us the 1st dimention in a multidimensional list. \n",
    "\n",
    "Over here we have 10 rows and 2 colums. So len() will always give us the FIRST ROW ONLY."
   ]
  },
  {
   "cell_type": "markdown",
   "id": "b786dedc-209e-451d-97ec-59e124ff333f",
   "metadata": {},
   "source": [
    "But what if one of the data set has 3 colums instead like now: "
   ]
  },
  {
   "cell_type": "code",
   "execution_count": 48,
   "id": "aa28bc07-cfd1-4029-8d61-23e84e3590e3",
   "metadata": {},
   "outputs": [
    {
     "ename": "ValueError",
     "evalue": "setting an array element with a sequence. The requested array has an inhomogeneous shape after 1 dimensions. The detected shape was (10,) + inhomogeneous part.",
     "output_type": "error",
     "traceback": [
      "\u001b[1;31m---------------------------------------------------------------------------\u001b[0m",
      "\u001b[1;31mValueError\u001b[0m                                Traceback (most recent call last)",
      "Cell \u001b[1;32mIn[48], line 5\u001b[0m\n\u001b[0;32m      1\u001b[0m py_list_2d \u001b[38;5;241m=\u001b[39m [[\u001b[38;5;241m1\u001b[39m, \u001b[38;5;124m\"\u001b[39m\u001b[38;5;124mA\u001b[39m\u001b[38;5;124m\"\u001b[39m], [\u001b[38;5;241m2\u001b[39m, \u001b[38;5;124m\"\u001b[39m\u001b[38;5;124mB\u001b[39m\u001b[38;5;124m\"\u001b[39m], [\u001b[38;5;241m3\u001b[39m, \u001b[38;5;124m\"\u001b[39m\u001b[38;5;124mC\u001b[39m\u001b[38;5;124m\"\u001b[39m], [\u001b[38;5;241m4\u001b[39m, \u001b[38;5;124m\"\u001b[39m\u001b[38;5;124mD\u001b[39m\u001b[38;5;124m\"\u001b[39m],\n\u001b[0;32m      2\u001b[0m               [\u001b[38;5;241m5\u001b[39m, \u001b[38;5;124m\"\u001b[39m\u001b[38;5;124mE\u001b[39m\u001b[38;5;124m\"\u001b[39m], [\u001b[38;5;241m6\u001b[39m, \u001b[38;5;124m\"\u001b[39m\u001b[38;5;124mF\u001b[39m\u001b[38;5;124m\"\u001b[39m], [\u001b[38;5;241m7\u001b[39m, \u001b[38;5;124m\"\u001b[39m\u001b[38;5;124mG\u001b[39m\u001b[38;5;124m\"\u001b[39m], [\u001b[38;5;241m8\u001b[39m, \u001b[38;5;124m\"\u001b[39m\u001b[38;5;124mH\u001b[39m\u001b[38;5;124m\"\u001b[39m],\n\u001b[0;32m      3\u001b[0m               [\u001b[38;5;241m9\u001b[39m, \u001b[38;5;124m\"\u001b[39m\u001b[38;5;124mI\u001b[39m\u001b[38;5;124m\"\u001b[39m], [\u001b[38;5;241m10\u001b[39m, \u001b[38;5;124m\"\u001b[39m\u001b[38;5;124mJ\u001b[39m\u001b[38;5;124m\"\u001b[39m, \u001b[38;5;124m\"\u001b[39m\u001b[38;5;124mHEYYYYYYYY\u001b[39m\u001b[38;5;124m\"\u001b[39m]]\n\u001b[1;32m----> 5\u001b[0m np_array_2d \u001b[38;5;241m=\u001b[39m \u001b[43mnp\u001b[49m\u001b[38;5;241;43m.\u001b[39;49m\u001b[43marray\u001b[49m\u001b[43m(\u001b[49m\u001b[43mpy_list_2d\u001b[49m\u001b[43m)\u001b[49m      \u001b[38;5;66;03m# Reusing the Python list \u001b[39;00m\n\u001b[0;32m      6\u001b[0m                                         \u001b[38;5;66;03m# to create a NEW\u001b[39;00m\n\u001b[0;32m      7\u001b[0m                                         \u001b[38;5;66;03m# NumPy array\u001b[39;00m\n",
      "\u001b[1;31mValueError\u001b[0m: setting an array element with a sequence. The requested array has an inhomogeneous shape after 1 dimensions. The detected shape was (10,) + inhomogeneous part."
     ]
    }
   ],
   "source": [
    "py_list_2d = [[1, \"A\"], [2, \"B\"], [3, \"C\"], [4, \"D\"],\n",
    "              [5, \"E\"], [6, \"F\"], [7, \"G\"], [8, \"H\"],\n",
    "              [9, \"I\"], [10, \"J\", \"HEYYYYYYYY\"]]\n",
    "\n",
    "np_array_2d = np.array(py_list_2d)      # Reusing the Python list \n",
    "                                        # to create a NEW\n",
    "                                        # NumPy array"
   ]
  },
  {
   "cell_type": "markdown",
   "id": "6b9c2d4d-288b-4e71-ae94-6f698167c1c1",
   "metadata": {},
   "source": [
    "Arrays are more strict.\n",
    "\n",
    "But this error won't occur for lists, as lists allows for different type, ints, strs all mixed up also can: "
   ]
  },
  {
   "cell_type": "code",
   "execution_count": 49,
   "id": "3daff27b-b419-4b1b-86c1-48ce0a70f11e",
   "metadata": {},
   "outputs": [
    {
     "data": {
      "text/plain": [
       "[[1, 'A'],\n",
       " [2, 'B'],\n",
       " [3, 'C'],\n",
       " [4, 'D'],\n",
       " [5, 'E'],\n",
       " [6, 'F'],\n",
       " [7, 'G'],\n",
       " [8, 'H'],\n",
       " [9, 'I'],\n",
       " [10, 'J', 'HEYYYYYYYY']]"
      ]
     },
     "execution_count": 49,
     "metadata": {},
     "output_type": "execute_result"
    }
   ],
   "source": [
    "py_list_2d = [[1, \"A\"], [2, \"B\"], [3, \"C\"], [4, \"D\"],\n",
    "              [5, \"E\"], [6, \"F\"], [7, \"G\"], [8, \"H\"],\n",
    "              [9, \"I\"], [10, \"J\", \"HEYYYYYYYY\"]]\n",
    "\n",
    "py_list_2d"
   ]
  },
  {
   "cell_type": "code",
   "execution_count": 50,
   "id": "034d0228-3d8f-49b0-84c9-18502c9fd94c",
   "metadata": {},
   "outputs": [
    {
     "data": {
      "text/plain": [
       "'HAHAHA'"
      ]
     },
     "execution_count": 50,
     "metadata": {},
     "output_type": "execute_result"
    }
   ],
   "source": [
    "'hahaha'.upper()"
   ]
  },
  {
   "cell_type": "code",
   "execution_count": 47,
   "id": "fc2dd4f7-6a9c-489d-b917-c32b7e160bab",
   "metadata": {},
   "outputs": [
    {
     "data": {
      "text/plain": [
       "(10, 2)"
      ]
     },
     "execution_count": 47,
     "metadata": {},
     "output_type": "execute_result"
    }
   ],
   "source": [
    "np_array_2d.shape"
   ]
  },
  {
   "cell_type": "markdown",
   "id": "5b451e21-adb7-462a-a9ce-266e280dc600",
   "metadata": {},
   "source": [
    "The difference between the two is that one has a bracket and the other does not. \n",
    "\n",
    "This is because shape is an attribute, and thus will not have e.g 'shape()'. "
   ]
  },
  {
   "attachments": {},
   "cell_type": "markdown",
   "id": "566a7675",
   "metadata": {},
   "source": [
    "## 2.2 Arrays are fussy about type"
   ]
  },
  {
   "cell_type": "code",
   "execution_count": 51,
   "id": "b47f6bca-282b-4637-b686-de3e5033e303",
   "metadata": {},
   "outputs": [],
   "source": [
    "py_list = [1, 1.5, 'A']\n",
    "np_array = np.array(py_list)"
   ]
  },
  {
   "cell_type": "markdown",
   "id": "e377da43-c819-412a-befd-558d34375969",
   "metadata": {},
   "source": [
    "### Lists"
   ]
  },
  {
   "cell_type": "code",
   "execution_count": 52,
   "id": "f7100b84-7389-4756-a2b1-90ef35256e3e",
   "metadata": {},
   "outputs": [
    {
     "data": {
      "text/plain": [
       "[1, 1.5, 'A']"
      ]
     },
     "execution_count": 52,
     "metadata": {},
     "output_type": "execute_result"
    }
   ],
   "source": [
    "py_list"
   ]
  },
  {
   "cell_type": "markdown",
   "id": "a0753726-73a0-4dc3-84ef-8e0adf2c38f8",
   "metadata": {},
   "source": [
    "### Arrays"
   ]
  },
  {
   "cell_type": "code",
   "execution_count": 53,
   "id": "c815685f-572e-4105-b11f-44322a06fbac",
   "metadata": {},
   "outputs": [
    {
     "data": {
      "text/plain": [
       "array(['1', '1.5', 'A'], dtype='<U32')"
      ]
     },
     "execution_count": 53,
     "metadata": {},
     "output_type": "execute_result"
    }
   ],
   "source": [
    "np_array"
   ]
  },
  {
   "attachments": {},
   "cell_type": "markdown",
   "id": "b502c180",
   "metadata": {},
   "source": [
    "## 2.3 Adding a number"
   ]
  },
  {
   "cell_type": "code",
   "execution_count": 54,
   "id": "f61b4ec2-6843-41fe-8e5c-951be6591c8b",
   "metadata": {},
   "outputs": [],
   "source": [
    "py_list = [1, 2, 3, 4, 5]\n",
    "np_array = np.array(py_list)         # Reusing the Python list\n",
    "                                     # to create a NEW\n",
    "                                     # NumPy array"
   ]
  },
  {
   "cell_type": "markdown",
   "id": "1fd6c446-719e-42bd-9e73-3394d6362c40",
   "metadata": {},
   "source": [
    "### Lists (addition)"
   ]
  },
  {
   "cell_type": "code",
   "execution_count": 56,
   "id": "cd74007b-6d79-43d9-bcbc-a1f9c19fa818",
   "metadata": {},
   "outputs": [
    {
     "ename": "TypeError",
     "evalue": "can only concatenate list (not \"int\") to list",
     "output_type": "error",
     "traceback": [
      "\u001b[1;31m---------------------------------------------------------------------------\u001b[0m",
      "\u001b[1;31mTypeError\u001b[0m                                 Traceback (most recent call last)",
      "Cell \u001b[1;32mIn[56], line 1\u001b[0m\n\u001b[1;32m----> 1\u001b[0m \u001b[43mpy_list\u001b[49m\u001b[43m \u001b[49m\u001b[38;5;241;43m+\u001b[39;49m\u001b[43m \u001b[49m\u001b[38;5;241;43m10\u001b[39;49m\n",
      "\u001b[1;31mTypeError\u001b[0m: can only concatenate list (not \"int\") to list"
     ]
    }
   ],
   "source": [
    "py_list + 10"
   ]
  },
  {
   "cell_type": "markdown",
   "id": "9f3f90de-5e11-49cc-9930-54cffa38acc3",
   "metadata": {},
   "source": [
    "This will not work because we are adding a list plus a number. It will only work if we adds two or more lists tgt. Like this: "
   ]
  },
  {
   "cell_type": "code",
   "execution_count": 57,
   "id": "a34857d8-3e36-49c9-a9c0-1b57c6c44abd",
   "metadata": {},
   "outputs": [
    {
     "data": {
      "text/plain": [
       "[1, 2, 3, 4, 5, 10]"
      ]
     },
     "execution_count": 57,
     "metadata": {},
     "output_type": "execute_result"
    }
   ],
   "source": [
    "py_list + [10]"
   ]
  },
  {
   "cell_type": "markdown",
   "id": "6203a938-f2c0-46e8-911d-aa8e5297b44c",
   "metadata": {},
   "source": [
    "### Lists (multiplication)"
   ]
  },
  {
   "cell_type": "code",
   "execution_count": 62,
   "id": "9f12b804-6f11-48c9-8170-5293804214d6",
   "metadata": {},
   "outputs": [
    {
     "data": {
      "text/plain": [
       "[1, 2, 1, 2, 1, 2, 1, 2, 1, 2, 1, 2, 1, 2, 1, 2, 1, 2, 1, 2]"
      ]
     },
     "execution_count": 62,
     "metadata": {},
     "output_type": "execute_result"
    }
   ],
   "source": [
    "[1,2] * 10"
   ]
  },
  {
   "cell_type": "markdown",
   "id": "21f22100-6d2f-4ccb-97af-28854a31be14",
   "metadata": {},
   "source": [
    "Takes the whole list and slaps it tgt. Changed the initial list of 6 numbers to only 2 numbers if not the list generated will be too long and takes up lots of space. "
   ]
  },
  {
   "cell_type": "markdown",
   "id": "0499a1be-0d37-4d1d-9b48-7fe1088e8336",
   "metadata": {},
   "source": [
    "### Lists (squaring)"
   ]
  },
  {
   "cell_type": "code",
   "execution_count": 63,
   "id": "b1f6df90-165c-407d-bcc5-0ee2c949a90b",
   "metadata": {},
   "outputs": [
    {
     "ename": "TypeError",
     "evalue": "unsupported operand type(s) for ** or pow(): 'list' and 'int'",
     "output_type": "error",
     "traceback": [
      "\u001b[1;31m---------------------------------------------------------------------------\u001b[0m",
      "\u001b[1;31mTypeError\u001b[0m                                 Traceback (most recent call last)",
      "Cell \u001b[1;32mIn[63], line 1\u001b[0m\n\u001b[1;32m----> 1\u001b[0m \u001b[43m[\u001b[49m\u001b[38;5;241;43m1\u001b[39;49m\u001b[43m,\u001b[49m\u001b[38;5;241;43m2\u001b[39;49m\u001b[43m]\u001b[49m\u001b[43m \u001b[49m\u001b[38;5;241;43m*\u001b[39;49m\u001b[38;5;241;43m*\u001b[39;49m\u001b[43m \u001b[49m\u001b[38;5;241;43m10\u001b[39;49m\n",
      "\u001b[1;31mTypeError\u001b[0m: unsupported operand type(s) for ** or pow(): 'list' and 'int'"
     ]
    }
   ],
   "source": [
    "[1,2] ** 10"
   ]
  },
  {
   "cell_type": "code",
   "execution_count": null,
   "id": "0ac0eb84-ca4c-4347-b995-0dc33bc7fd0d",
   "metadata": {},
   "outputs": [],
   "source": []
  },
  {
   "cell_type": "markdown",
   "id": "b3addd7f-cf47-40c2-beaf-cd796207a145",
   "metadata": {},
   "source": [
    "### Arrays (addition)"
   ]
  },
  {
   "cell_type": "code",
   "execution_count": 55,
   "id": "f2f333b5-05e6-4a1d-b394-dfdc8c7fc6c9",
   "metadata": {},
   "outputs": [
    {
     "data": {
      "text/plain": [
       "array([11, 12, 13, 14, 15])"
      ]
     },
     "execution_count": 55,
     "metadata": {},
     "output_type": "execute_result"
    }
   ],
   "source": [
    "np_array + 10"
   ]
  },
  {
   "cell_type": "markdown",
   "id": "6b6ecbee-6cc0-43da-a6bb-09881e6107b7",
   "metadata": {},
   "source": [
    "### Arrays (multiplication)"
   ]
  },
  {
   "cell_type": "code",
   "execution_count": 59,
   "id": "aeef84ca-64ad-4783-b91b-0c199e6c257a",
   "metadata": {},
   "outputs": [
    {
     "data": {
      "text/plain": [
       "array([10, 20, 30, 40, 50])"
      ]
     },
     "execution_count": 59,
     "metadata": {},
     "output_type": "execute_result"
    }
   ],
   "source": [
    "np_array * 10"
   ]
  },
  {
   "cell_type": "markdown",
   "id": "e4489b38-df1a-46a0-8898-d07af084b621",
   "metadata": {},
   "source": [
    "### Arrays (squaring)"
   ]
  },
  {
   "cell_type": "code",
   "execution_count": 66,
   "id": "e5271e0e-8c64-443f-8c04-80e290eca67b",
   "metadata": {},
   "outputs": [
    {
     "data": {
      "text/plain": [
       "array([ 1,  4,  9, 16, 25])"
      ]
     },
     "execution_count": 66,
     "metadata": {},
     "output_type": "execute_result"
    }
   ],
   "source": [
    "np_array ** 2"
   ]
  },
  {
   "attachments": {},
   "cell_type": "markdown",
   "id": "2b60f343",
   "metadata": {},
   "source": [
    "## 2.7 Asking questions"
   ]
  },
  {
   "cell_type": "code",
   "execution_count": 67,
   "id": "416602bf-fa6e-46b7-b747-b25768154301",
   "metadata": {},
   "outputs": [],
   "source": [
    "py_list = [1, 2, 3, 4, 5]\n",
    "np_array = np.array(py_list)         "
   ]
  },
  {
   "cell_type": "code",
   "execution_count": 73,
   "id": "68fba6ed-3fe9-4b36-b20e-0f70ef908f61",
   "metadata": {},
   "outputs": [
    {
     "data": {
      "text/plain": [
       "False"
      ]
     },
     "execution_count": 73,
     "metadata": {},
     "output_type": "execute_result"
    }
   ],
   "source": [
    "py_list == 3     # Works, but what IS the question?\n",
    "\n",
    "                 # But it is pretty suspicious in terms of the answer we get, so maybe don't use this haha\n",
    "\n",
    "                 # When it comes to mathematical operations, just use arrays instead to make life easier!!"
   ]
  },
  {
   "cell_type": "code",
   "execution_count": 70,
   "id": "3d1ac891-1882-4914-a260-98b7d489b6ad",
   "metadata": {},
   "outputs": [
    {
     "data": {
      "text/plain": [
       "array([False, False,  True, False, False])"
      ]
     },
     "execution_count": 70,
     "metadata": {},
     "output_type": "execute_result"
    }
   ],
   "source": [
    "np_array == 3  "
   ]
  },
  {
   "cell_type": "code",
   "execution_count": 71,
   "id": "3a896d8a-425e-41fc-84ee-411e975809c9",
   "metadata": {},
   "outputs": [
    {
     "data": {
      "text/plain": [
       "array([False, False, False,  True,  True])"
      ]
     },
     "execution_count": 71,
     "metadata": {},
     "output_type": "execute_result"
    }
   ],
   "source": [
    "np_array > 3  "
   ]
  },
  {
   "attachments": {},
   "cell_type": "markdown",
   "id": "dbb7de3d",
   "metadata": {},
   "source": [
    "## 2.8 Mathematics"
   ]
  },
  {
   "cell_type": "code",
   "execution_count": 74,
   "id": "78a3edea-72ba-477b-b42c-b20cd1f46d87",
   "metadata": {},
   "outputs": [],
   "source": [
    "py_list = [1, 2, 3, 4, 5]\n",
    "np_array = np.array(py_list)         "
   ]
  },
  {
   "cell_type": "code",
   "execution_count": 75,
   "id": "4f7848c4-2d21-4fb9-845f-64ade78301ba",
   "metadata": {},
   "outputs": [
    {
     "data": {
      "text/plain": [
       "1"
      ]
     },
     "execution_count": 75,
     "metadata": {},
     "output_type": "execute_result"
    }
   ],
   "source": [
    "sum(py_list)     # sum() is a base Python function\n",
    "max(py_list)     # max() is a base Python function\n",
    "min(py_list)     # min() is a base Python function"
   ]
  },
  {
   "cell_type": "markdown",
   "id": "e12a202b-7229-45a5-a2dd-c820acc5b85a",
   "metadata": {},
   "source": [
    "We expected 3 numbers but we only see '1' because Jupyter will generate the last result in this three code commands by default. \n",
    "\n",
    "If we want to see all, we need to print all three codes."
   ]
  },
  {
   "cell_type": "code",
   "execution_count": 78,
   "id": "eddcc213-f23c-4b95-a753-972b84a7772f",
   "metadata": {},
   "outputs": [
    {
     "name": "stdout",
     "output_type": "stream",
     "text": [
      "15\n",
      "5\n",
      "1\n"
     ]
    }
   ],
   "source": [
    "print(sum(py_list))    \n",
    "print(max(py_list))     \n",
    "print(min(py_list))     "
   ]
  },
  {
   "cell_type": "markdown",
   "id": "efb994e3-6318-4688-a216-e173b48b8276",
   "metadata": {},
   "source": [
    "### What are the differences between these two?"
   ]
  },
  {
   "cell_type": "code",
   "execution_count": 84,
   "id": "3a8cf36b-fbd7-46f2-ac1c-1e6cb4ab0ae3",
   "metadata": {},
   "outputs": [
    {
     "name": "stdout",
     "output_type": "stream",
     "text": [
      "2.42 μs ± 59.5 ns per loop (mean ± std. dev. of 7 runs, 100,000 loops each)\n"
     ]
    }
   ],
   "source": [
    "%timeit sum(np_array)"
   ]
  },
  {
   "cell_type": "code",
   "execution_count": 83,
   "id": "df8b91d7-b8f1-4dcd-8b18-07827032e577",
   "metadata": {},
   "outputs": [
    {
     "name": "stdout",
     "output_type": "stream",
     "text": [
      "3.45 μs ± 65.8 ns per loop (mean ± std. dev. of 7 runs, 100,000 loops each)\n"
     ]
    }
   ],
   "source": [
    "%timeit np_array.sum()"
   ]
  },
  {
   "cell_type": "markdown",
   "id": "df3f627c-8bcf-4cfb-af86-e3477905404d",
   "metadata": {},
   "source": [
    "One is a Python function and the other is a Numpy function. \n",
    "\n",
    "Just shows the comparison between the codes generated. "
   ]
  },
  {
   "cell_type": "code",
   "execution_count": null,
   "id": "118dd4a6-ee9a-4e7b-8da6-d13b28352647",
   "metadata": {},
   "outputs": [],
   "source": []
  },
  {
   "cell_type": "code",
   "execution_count": 77,
   "id": "572ff6c4-fad7-4bf3-945d-82c09727270e",
   "metadata": {},
   "outputs": [
    {
     "data": {
      "text/plain": [
       "np.float64(1.4142135623730951)"
      ]
     },
     "execution_count": 77,
     "metadata": {},
     "output_type": "execute_result"
    }
   ],
   "source": [
    "np_array.sum()\n",
    "np_array.max()\n",
    "np_array.min()\n",
    "np_array.mean()\n",
    "np_array.std()"
   ]
  }
 ],
 "metadata": {
  "kernelspec": {
   "display_name": "Python 3 (ipykernel)",
   "language": "python",
   "name": "python3"
  },
  "language_info": {
   "codemirror_mode": {
    "name": "ipython",
    "version": 3
   },
   "file_extension": ".py",
   "mimetype": "text/x-python",
   "name": "python",
   "nbconvert_exporter": "python",
   "pygments_lexer": "ipython3",
   "version": "3.12.3"
  },
  "toc": {
   "base_numbering": 1,
   "nav_menu": {},
   "number_sections": true,
   "sideBar": true,
   "skip_h1_title": false,
   "title_cell": "Table of Contents",
   "title_sidebar": "Contents",
   "toc_cell": false,
   "toc_position": {},
   "toc_section_display": true,
   "toc_window_display": false
  },
  "vscode": {
   "interpreter": {
    "hash": "31f2aee4e71d21fbe5cf8b01ff0e069b9275f58929596ceb00d14d90e3e16cd6"
   }
  }
 },
 "nbformat": 4,
 "nbformat_minor": 5
}
