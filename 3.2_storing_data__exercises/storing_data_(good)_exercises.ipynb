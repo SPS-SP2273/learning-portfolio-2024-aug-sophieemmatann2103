{
 "cells": [
  {
   "attachments": {},
   "cell_type": "markdown",
   "id": "123456",
   "metadata": {},
   "source": [
    "<div style=\"text-align:left;font-size:2em\"><span style=\"font-weight:bolder;font-size:1.25em\">SP2273 | Learning Portfolio</span><br><br><span style=\"font-weight:bold;color:darkred\">Storing Data (Good) Exercises</span></div>"
   ]
  },
  {
   "cell_type": "code",
   "execution_count": 2,
   "id": "2077bd80-3e86-4f95-9d2d-f8931ffa7514",
   "metadata": {},
   "outputs": [],
   "source": [
    "import numpy as np "
   ]
  },
  {
   "cell_type": "markdown",
   "id": "11da9b20-c69e-4178-adf5-08807635fac7",
   "metadata": {},
   "source": [
    "## Exercise 1 (Total recall): "
   ]
  },
  {
   "cell_type": "markdown",
   "id": "6dee54af-ab82-43e5-94ec-28d46a18209e",
   "metadata": {},
   "source": [
    "|**Term**| **Brief description**| \n",
    "|:---    | :--- |\n",
    "| Subsetting | To select a particular data in a list or an array. | \n",
    "| Indexing | To select one specific element that we want. |\n",
    "| Slicing | To select a range of elements. |\n",
    "| Masking | _Kills off all the False data, and the code generated will only be the True data, set by a condition._ |"
   ]
  },
  {
   "cell_type": "markdown",
   "id": "28047997-03bf-499d-bcd0-a924661c79e1",
   "metadata": {},
   "source": [
    "## Exercise 2 (Show me the 'odd' letters:)"
   ]
  },
  {
   "cell_type": "code",
   "execution_count": 36,
   "id": "094526ab-c46b-4d16-a1dd-cce7cffe3e17",
   "metadata": {},
   "outputs": [
    {
     "data": {
      "text/plain": [
       "array(['1', '3', '2', '4', '5', '7', '6', '8', '10', '9'], dtype='<U21')"
      ]
     },
     "execution_count": 36,
     "metadata": {},
     "output_type": "execute_result"
    }
   ],
   "source": [
    "np_array_2d = np.array([[1, \"A\"], [3, \"C\"], [2, \"B\"], [4, \"D\"],\n",
    "                        [5, \"E\"], [7, \"G\"], [6, \"F\"], [8, \"H\"],\n",
    "                        [10, \"J\"], [9, \"I\"]])\n",
    "\n",
    "#calling the first column \n",
    "np_array_2d [:,0]"
   ]
  },
  {
   "cell_type": "code",
   "execution_count": 39,
   "id": "d32b0fed-46b3-4547-888d-901e819e179b",
   "metadata": {},
   "outputs": [
    {
     "data": {
      "text/plain": [
       "array([ 1,  3,  2,  4,  5,  7,  6,  8, 10,  9])"
      ]
     },
     "execution_count": 39,
     "metadata": {},
     "output_type": "execute_result"
    }
   ],
   "source": [
    "# converting to int\n",
    "first_column_int = np_array_2d [:,0].astype(int)\n",
    "first_column_int"
   ]
  },
  {
   "cell_type": "code",
   "execution_count": 40,
   "id": "b4b70981-2dc3-4bf9-967d-06eca853f0e5",
   "metadata": {},
   "outputs": [
    {
     "data": {
      "text/plain": [
       "array([1, 1, 0, 0, 1, 1, 0, 0, 0, 1])"
      ]
     },
     "execution_count": 40,
     "metadata": {},
     "output_type": "execute_result"
    }
   ],
   "source": [
    "# getting remainders\n",
    "getting_remainder = first_column_int % 2\n",
    "getting_remainder"
   ]
  },
  {
   "cell_type": "code",
   "execution_count": 42,
   "id": "9b7223bd-2eef-4fef-8ca7-4907e645183e",
   "metadata": {},
   "outputs": [
    {
     "data": {
      "text/plain": [
       "array([ True,  True, False, False,  True,  True, False, False, False,\n",
       "        True])"
      ]
     },
     "execution_count": 42,
     "metadata": {},
     "output_type": "execute_result"
    }
   ],
   "source": [
    "#creating a mask\n",
    "my_mask = getting_remainder > 0 \n",
    "my_mask"
   ]
  },
  {
   "cell_type": "code",
   "execution_count": 57,
   "id": "2819bf79-b4ff-4410-988f-e5950b8e4ec6",
   "metadata": {},
   "outputs": [
    {
     "name": "stdout",
     "output_type": "stream",
     "text": [
      "['A' 'C' 'E' 'G' 'I']\n"
     ]
    }
   ],
   "source": [
    "np_array_2d [my_mask, 1]\n",
    "print (np_array_2d [my_mask, 1])"
   ]
  },
  {
   "cell_type": "markdown",
   "id": "97d0abda-fb5b-49d8-af51-2250e477548f",
   "metadata": {},
   "source": [
    "## Exercise 3"
   ]
  },
  {
   "cell_type": "code",
   "execution_count": 73,
   "id": "c80306cc-9334-40e3-8053-c9179c297495",
   "metadata": {},
   "outputs": [],
   "source": [
    "#defining the array given\n",
    "data = [[66, 50, 57, -1, -1],\n",
    "  [92, -1, 88, -1, -1],\n",
    " [75, -1, -1, 76, -1],\n",
    " [-1, 51, 87, -1, -1],\n",
    " [71, -1, 67, -1, 69]]\n",
    "\n",
    "# Convert to NumPy array\n",
    "np_2d_array = np.array(data)"
   ]
  },
  {
   "cell_type": "code",
   "execution_count": 76,
   "id": "a0e083f0-de91-41d9-ba8a-2f1832bfa587",
   "metadata": {},
   "outputs": [
    {
     "name": "stdout",
     "output_type": "stream",
     "text": [
      "[[ 1  0  1 -1 -1]\n",
      " [ 1 -1  1 -1 -1]\n",
      " [ 1 -1 -1  1 -1]\n",
      " [-1  1  1 -1 -1]\n",
      " [ 1 -1  1 -1  1]]\n"
     ]
    }
   ],
   "source": [
    "np_2d_array [np_2d_array < 50] = -1\n",
    "np_2d_array [np_2d_array > 50] = 1\n",
    "np_2d_array [np_2d_array == 50] = 0\n",
    "print (np_2d_array)"
   ]
  }
 ],
 "metadata": {
  "kernelspec": {
   "display_name": "Python 3 (ipykernel)",
   "language": "python",
   "name": "python3"
  },
  "language_info": {
   "codemirror_mode": {
    "name": "ipython",
    "version": 3
   },
   "file_extension": ".py",
   "mimetype": "text/x-python",
   "name": "python",
   "nbconvert_exporter": "python",
   "pygments_lexer": "ipython3",
   "version": "3.12.3"
  },
  "toc": {
   "base_numbering": 1,
   "nav_menu": {},
   "number_sections": true,
   "sideBar": true,
   "skip_h1_title": false,
   "title_cell": "Table of Contents",
   "title_sidebar": "Contents",
   "toc_cell": false,
   "toc_position": {},
   "toc_section_display": true,
   "toc_window_display": false
  },
  "vscode": {
   "interpreter": {
    "hash": "31f2aee4e71d21fbe5cf8b01ff0e069b9275f58929596ceb00d14d90e3e16cd6"
   }
  }
 },
 "nbformat": 4,
 "nbformat_minor": 5
}
