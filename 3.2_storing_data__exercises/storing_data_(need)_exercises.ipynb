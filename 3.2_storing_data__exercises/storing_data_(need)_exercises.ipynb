{
 "cells": [
  {
   "attachments": {},
   "cell_type": "markdown",
   "id": "123456",
   "metadata": {},
   "source": [
    "<div style=\"text-align:left;font-size:2em\"><span style=\"font-weight:bolder;font-size:1.25em\">SP2273 | Learning Portfolio</span><br><br><span style=\"font-weight:bold;color:darkred\">Storing Data (Need) Exercises</span></div>"
   ]
  },
  {
   "cell_type": "markdown",
   "id": "338c0cf6-9e4b-44a4-a6fa-ff2663125232",
   "metadata": {},
   "source": [
    "## Exercise 1 (Total recall?)"
   ]
  },
  {
   "cell_type": "markdown",
   "id": "eb1b6c14-0018-4637-a137-a869e700fecd",
   "metadata": {},
   "source": [
    "**Similiarities:**\n",
    "- Lists and arrays are ways to store data in Python.\n",
    "- Lists and arrays work with the addition function, if we want to add on to them respectively.\n",
    "\n",
    "**Differences:**\n",
    "- We can square arrays but not square lists.\n",
    "- Arrays are more used for mathematical operations but not lists.\n",
    "\n",
    "A dictionary is a place to store a lot of data in Python. We can also retrieve these data using certain functions. \n",
    "_Each set of data in a dictionary has keys and values that are tied to it, which makes dictionaries different from lists and arrays._"
   ]
  },
  {
   "cell_type": "markdown",
   "id": "af013c8c-a61f-44ba-a044-c25ecb8ed9dd",
   "metadata": {},
   "source": [
    "## Exercise 2 (Indexing)"
   ]
  },
  {
   "cell_type": "code",
   "execution_count": 2,
   "id": "6f7f44ac-ed84-4f04-a536-d4dd4772193d",
   "metadata": {},
   "outputs": [],
   "source": [
    "import numpy as np"
   ]
  },
  {
   "cell_type": "code",
   "execution_count": 3,
   "id": "d2c86dc0-9923-4ccb-95a5-f079571ce215",
   "metadata": {},
   "outputs": [
    {
     "name": "stdout",
     "output_type": "stream",
     "text": [
      "a1 c3 e5 g7 i9\n"
     ]
    }
   ],
   "source": [
    "py_list = [\"a1\", \"b2\", \"c3\", \"d4\", \"e5\", \"f6\", \"g7\", \"h8\", \"i9\", \"j10\"]\n",
    "                    # Prints 'a1'\n",
    "                    # Prints 'c3'\n",
    "                    # Prints 'e5'\n",
    "                    # Prints 'g7'\n",
    "                    # Prints 'i9'\n",
    "\n",
    "# Print every other element (odd numbers)\n",
    "\n",
    "odd_numbers = py_list [::2]\n",
    "\n",
    "print(*odd_numbers)     # Use * to remove the brackets when printing the code"
   ]
  },
  {
   "cell_type": "code",
   "execution_count": 4,
   "id": "f91f41c6-650e-4617-a204-d75750660a8d",
   "metadata": {},
   "outputs": [
    {
     "name": "stdout",
     "output_type": "stream",
     "text": [
      "a1, c3, e5, g7, i9\n"
     ]
    }
   ],
   "source": [
    "py_list = [\"a1\", \"b2\", \"c3\", \"d4\", \"e5\", \"f6\", \"g7\", \"h8\", \"i9\", \"j10\"]\n",
    "                    # Prints 'a1'\n",
    "                    # Prints 'c3'\n",
    "                    # Prints 'e5'\n",
    "                    # Prints 'g7'\n",
    "                    # Prints 'i9'\n",
    "\n",
    "# Print every other element (odd numbers)\n",
    "\n",
    "odd_numbers = py_list [::2]\n",
    "\n",
    "print(', '.join(odd_numbers))     # Use ', ' to separate the elements and join()to join elements after printing the code. "
   ]
  },
  {
   "cell_type": "markdown",
   "id": "941aa7a0-ec86-4fc9-bc7f-d1daf32fcc73",
   "metadata": {},
   "source": [
    "## Exercise 3 (Indexing again)"
   ]
  },
  {
   "cell_type": "code",
   "execution_count": 5,
   "id": "18e36436-90a7-4cd7-a437-7f5dcda5ad65",
   "metadata": {},
   "outputs": [],
   "source": [
    "elements = ['Hydrogen',\n",
    "            'Helium', 'Lithium',\n",
    "            'Beryllium', 'Boron', 'Carbon',\n",
    "            'Nitrogen', 'Oxygen',\n",
    "            'Fluorine',\n",
    "            'Neon']"
   ]
  },
  {
   "cell_type": "code",
   "execution_count": 6,
   "id": "2565f31b-2e56-4a79-b648-e264c8d479f7",
   "metadata": {},
   "outputs": [
    {
     "data": {
      "text/plain": [
       "'Boron'"
      ]
     },
     "execution_count": 6,
     "metadata": {},
     "output_type": "execute_result"
    }
   ],
   "source": [
    "elements [4]       # Access and print the element at index 4 using forward indexing."
   ]
  },
  {
   "cell_type": "code",
   "execution_count": 7,
   "id": "c4e2b844-6f96-45cb-9d74-3dd23bfcf524",
   "metadata": {},
   "outputs": [
    {
     "data": {
      "text/plain": [
       "'Boron'"
      ]
     },
     "execution_count": 7,
     "metadata": {},
     "output_type": "execute_result"
    }
   ],
   "source": [
    "elements [-6]     # Access and print the element at index 4 from the end of the list using reverse indexing."
   ]
  },
  {
   "cell_type": "markdown",
   "id": "d9999a60-39de-4c1e-b8aa-5d89ace297c6",
   "metadata": {},
   "source": [
    "## Exercise 4 (How many ones)"
   ]
  },
  {
   "cell_type": "code",
   "execution_count": 8,
   "id": "eaba89d8-6d6d-4315-b110-cbedb45641b8",
   "metadata": {},
   "outputs": [],
   "source": [
    "numbers=[45, 60, 1, 30, 96, 1, 96, 57, 16, 1,\n",
    "        99, 62, 86, 43, 42, 60, 59, 1, 1, 35,\n",
    "        83, 47, 34, 28, 68, 23, 22, 92, 1, 79,\n",
    "        1, 29, 94, 72, 46, 47, 1, 74, 32, 20,\n",
    "        8, 37, 35, 1, 89, 29, 86, 19, 43, 61]   \n",
    "\n",
    "np_numbers = np.array(numbers)"
   ]
  },
  {
   "cell_type": "code",
   "execution_count": 9,
   "id": "a60ae688-0ed5-4d8f-a6af-d87a01b450f3",
   "metadata": {},
   "outputs": [
    {
     "data": {
      "text/plain": [
       "array([False, False,  True, False, False,  True, False, False, False,\n",
       "        True, False, False, False, False, False, False, False,  True,\n",
       "        True, False, False, False, False, False, False, False, False,\n",
       "       False,  True, False,  True, False, False, False, False, False,\n",
       "        True, False, False, False, False, False, False,  True, False,\n",
       "       False, False, False, False, False])"
      ]
     },
     "execution_count": 9,
     "metadata": {},
     "output_type": "execute_result"
    }
   ],
   "source": [
    "np_numbers == 1"
   ]
  },
  {
   "cell_type": "code",
   "execution_count": 10,
   "id": "7e519c01-8f6a-47eb-8d2e-28a5c71f520f",
   "metadata": {},
   "outputs": [
    {
     "name": "stdout",
     "output_type": "stream",
     "text": [
      "9\n"
     ]
    }
   ],
   "source": [
    "print(sum(np_numbers == 1))"
   ]
  },
  {
   "cell_type": "markdown",
   "id": "4ed07109-d30b-4c64-b1b9-07ec2e4547bb",
   "metadata": {},
   "source": [
    "## Exercise 5 (A Matter of Statistics)"
   ]
  },
  {
   "cell_type": "code",
   "execution_count": 11,
   "id": "b53c76d6-8ea3-4a7d-9d82-102ac102844a",
   "metadata": {},
   "outputs": [],
   "source": [
    "x_1 = [1, 4, 9, 16, 25, 36, 49, 64, 81, 100]\n",
    "x_2 = [1, 8, 27, 64, 125, 216, 343, 512, 729, 1000]\n",
    "\n",
    "np_x_1 = np.array(x_1)\n",
    "np_x_2 = np.array(x_2)"
   ]
  },
  {
   "cell_type": "code",
   "execution_count": 12,
   "id": "938dcd84-a69a-47dd-a35f-86fad1639968",
   "metadata": {},
   "outputs": [
    {
     "name": "stdout",
     "output_type": "stream",
     "text": [
      "38.5\n",
      "302.5\n"
     ]
    }
   ],
   "source": [
    "# Determine the means of x_1 and x_2:\n",
    " \n",
    "print(np_x_1.mean())\n",
    "print(np_x_2.mean())"
   ]
  },
  {
   "cell_type": "code",
   "execution_count": 13,
   "id": "4bd08e0f-51d9-4eac-96bc-c1c543f2f133",
   "metadata": {},
   "outputs": [
    {
     "name": "stdout",
     "output_type": "stream",
     "text": [
      "32.41990129534635\n",
      "326.0893282522444\n"
     ]
    }
   ],
   "source": [
    "# Determine the standard deviation of x_1 and x_2: \n",
    "\n",
    "print(np_x_1.std())\n",
    "print(np_x_2.std())"
   ]
  },
  {
   "cell_type": "code",
   "execution_count": 36,
   "id": "54691f18-152a-47f2-a4e4-8755f850558e",
   "metadata": {},
   "outputs": [
    {
     "name": "stdout",
     "output_type": "stream",
     "text": [
      "0.9871796626270701\n"
     ]
    }
   ],
   "source": [
    "# Determine the Pearson correlaion coefficient r for the two datases. **Don't** use np.corrcoef()!\n",
    "\n",
    "import numpy as np\n",
    "\n",
    "# Calculating the means\n",
    "mean_x1 = np_x_1.mean()\n",
    "mean_x2 = np_x_2.mean()\n",
    "\n",
    "# Calculating the numerator \n",
    "numerator = np.sum((np_x_1 - mean_x1) * (np_x_2 - mean_x2))\n",
    "\n",
    "# Calculating the denominator \n",
    "denominator = np.sqrt(np.sum((np_x_1 - mean_x1) ** 2)) * np.sqrt(np.sum((np_x_2 - mean_x2) ** 2))\n",
    "\n",
    "# Calculating the Pearson correlation coefficient\n",
    "r = numerator / denominator\n",
    "\n",
    "print (r)"
   ]
  },
  {
   "cell_type": "code",
   "execution_count": 15,
   "id": "0507b58e-f1bf-4d8c-89ce-515ca585a848",
   "metadata": {},
   "outputs": [
    {
     "name": "stdout",
     "output_type": "stream",
     "text": [
      "[[1.         0.98717966]\n",
      " [0.98717966 1.        ]]\n"
     ]
    }
   ],
   "source": [
    "# Calculate Pearson correlation coefficient using np.corrcoef\n",
    "\n",
    "r = np.corrcoef(np_x_1, np_x_2)\n",
    "print(r)"
   ]
  },
  {
   "cell_type": "code",
   "execution_count": null,
   "id": "202a3ab0-e08c-40ab-ab08-e80787cd5812",
   "metadata": {},
   "outputs": [],
   "source": []
  },
  {
   "cell_type": "markdown",
   "id": "160bd6b6-bda4-4ae8-b617-8f0bad2c58c6",
   "metadata": {},
   "source": [
    "Comparing the two methods:"
   ]
  },
  {
   "cell_type": "code",
   "execution_count": 60,
   "id": "74bd2ea6-0120-4b63-b296-b6065f7d4a3d",
   "metadata": {},
   "outputs": [
    {
     "name": "stdout",
     "output_type": "stream",
     "text": [
      "204 μs ± 3.87 μs per loop (mean ± std. dev. of 7 runs, 1,000 loops each)\n"
     ]
    }
   ],
   "source": [
    "%%timeit\n",
    "\n",
    "numerator = np.sum(np_x_1.std() * np_x_2.std())                            # Calculate the numerator\n",
    "\n",
    "denominator = np.sqrt(np.sum(np_x_1.std()**2) * np.sum(np_x_2.std()**2))   # Calculate the denominator\n",
    "\n",
    "r = numerator/denominator                                                  # Calculate r "
   ]
  },
  {
   "cell_type": "code",
   "execution_count": 60,
   "id": "e649e80d-3865-4c6e-ac51-5713c0399378",
   "metadata": {},
   "outputs": [
    {
     "name": "stdout",
     "output_type": "stream",
     "text": [
      "204 μs ± 3.87 μs per loop (mean ± std. dev. of 7 runs, 1,000 loops each)\n"
     ]
    }
   ],
   "source": [
    "%%timeit\n",
    "\n",
    "numerator = np.sum(np_x_1.std() * np_x_2.std())                            # Calculate the numerator\n",
    "\n",
    "denominator = np.sqrt(np.sum(np_x_1.std()**2) * np.sum(np_x_2.std()**2))   # Calculate the denominator\n",
    "\n",
    "r = numerator/denominator                                                  # Calculate r "
   ]
  },
  {
   "cell_type": "code",
   "execution_count": 61,
   "id": "38e8b06e-061a-41b0-a058-f212cb66f03e",
   "metadata": {},
   "outputs": [
    {
     "name": "stdout",
     "output_type": "stream",
     "text": [
      "87.4 μs ± 952 ns per loop (mean ± std. dev. of 7 runs, 10,000 loops each)\n"
     ]
    }
   ],
   "source": [
    "%%timeit\n",
    "\n",
    "r = np.corrcoef(np_x_1 + np_x_2)"
   ]
  },
  {
   "cell_type": "markdown",
   "id": "fd1095cd-ee24-4013-be55-6ee7adabec20",
   "metadata": {},
   "source": [
    "The np.corrcoef() generates the code faster than the first method according to %%timeit. "
   ]
  },
  {
   "cell_type": "markdown",
   "id": "59ced33e-aa0c-4435-b651-3f597dbbf724",
   "metadata": {},
   "source": [
    "_np.corrcoef() gives us an array while the other does not_"
   ]
  },
  {
   "cell_type": "code",
   "execution_count": null,
   "id": "3cf1ece8-8f1a-4c46-be84-65d992848865",
   "metadata": {},
   "outputs": [],
   "source": []
  }
 ],
 "metadata": {
  "kernelspec": {
   "display_name": "Python 3 (ipykernel)",
   "language": "python",
   "name": "python3"
  },
  "language_info": {
   "codemirror_mode": {
    "name": "ipython",
    "version": 3
   },
   "file_extension": ".py",
   "mimetype": "text/x-python",
   "name": "python",
   "nbconvert_exporter": "python",
   "pygments_lexer": "ipython3",
   "version": "3.12.3"
  },
  "toc": {
   "base_numbering": 1,
   "nav_menu": {},
   "number_sections": true,
   "sideBar": true,
   "skip_h1_title": false,
   "title_cell": "Table of Contents",
   "title_sidebar": "Contents",
   "toc_cell": false,
   "toc_position": {},
   "toc_section_display": true,
   "toc_window_display": false
  },
  "vscode": {
   "interpreter": {
    "hash": "31f2aee4e71d21fbe5cf8b01ff0e069b9275f58929596ceb00d14d90e3e16cd6"
   }
  }
 },
 "nbformat": 4,
 "nbformat_minor": 5
}
