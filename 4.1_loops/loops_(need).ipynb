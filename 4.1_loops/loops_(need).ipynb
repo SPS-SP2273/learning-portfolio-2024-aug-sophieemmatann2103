{
 "cells": [
  {
   "attachments": {},
   "cell_type": "markdown",
   "id": "123456",
   "metadata": {},
   "source": [
    "<div style=\"text-align:left;font-size:2em\"><span style=\"font-weight:bolder;font-size:1.25em\">SP2273 | Learning Portfolio</span><br><br><span style=\"font-weight:bold;color:darkred\">Loops (Need)</span></div>"
   ]
  },
  {
   "attachments": {},
   "cell_type": "markdown",
   "id": "42336724",
   "metadata": {},
   "source": [
    "# 1 The for iterator"
   ]
  },
  {
   "cell_type": "code",
   "execution_count": 7,
   "id": "be413f14-d75c-42bf-b82b-94b7fccdbde8",
   "metadata": {},
   "outputs": [],
   "source": [
    "league_characters = [\"Kai'Sa\", \"Yummi\", \"Seraphine\"]        # List"
   ]
  },
  {
   "cell_type": "code",
   "execution_count": 11,
   "id": "5cae9cf3-c195-47b2-9c34-56a90c6c78e5",
   "metadata": {},
   "outputs": [
    {
     "name": "stdout",
     "output_type": "stream",
     "text": [
      "Kai'Sa is a league character!\n",
      "Yummi is a league character!\n",
      "Seraphine is a league character!\n"
     ]
    }
   ],
   "source": [
    "name=league_characters[0]\n",
    "print(f\"{name} is a league character!\")\n",
    "\n",
    "name=league_characters[1]\n",
    "print(f\"{name} is a league character!\")\n",
    "\n",
    "name=league_characters[2]\n",
    "print(f\"{name} is a league character!\")"
   ]
  },
  {
   "cell_type": "markdown",
   "id": "9ed7cf07-833d-438c-9985-e6d7a15914a7",
   "metadata": {},
   "source": [
    "Although this works, it is a poor way of doing things because if we want to change the description for example by adding the word 'great' in front of describing all these characters, we have to manually go in and change every f string. (think in terms of laziness)\n",
    "\n",
    "Another reason why it is a poor way of doing things is when we change things by hand, we are more prone to making mistakes, i.e we have to write the [0], [1] and [2] and adding 'great' by hand.  "
   ]
  },
  {
   "attachments": {},
   "cell_type": "markdown",
   "id": "221a600e",
   "metadata": {},
   "source": [
    "## 1.1 for with a list"
   ]
  },
  {
   "cell_type": "code",
   "execution_count": 12,
   "id": "bc852539-6a9c-439b-853e-dff02623df41",
   "metadata": {},
   "outputs": [
    {
     "name": "stdout",
     "output_type": "stream",
     "text": [
      "Kai'Sa\n",
      "Yummi\n",
      "Seraphine\n"
     ]
    }
   ],
   "source": [
    "for name in league_characters: \n",
    "    print (name)"
   ]
  },
  {
   "cell_type": "code",
   "execution_count": 17,
   "id": "e2e9a07b-670e-4e2d-b8bd-8c94209a8f2c",
   "metadata": {},
   "outputs": [
    {
     "name": "stdout",
     "output_type": "stream",
     "text": [
      "KAI'SA is a league character! Yeahhhhh!\n",
      "YUMMI is a league character! Yeahhhhh!\n",
      "SERAPHINE is a league character! Yeahhhhh!\n"
     ]
    }
   ],
   "source": [
    "for name in league_characters: \n",
    "    print (f\"{name.upper()} is a league character! Yeahhhhh!\")    # Remember to add blocks/indentations because we are executing the function \n",
    "                                                                  # with regards to to the loop.\n",
    "                                                                  # Here we can even add upper() as a string class method here, and even Yeahhhh! "
   ]
  },
  {
   "cell_type": "code",
   "execution_count": 18,
   "id": "5eddabc9-7be4-4668-b252-7a744b4d75ea",
   "metadata": {},
   "outputs": [
    {
     "name": "stdout",
     "output_type": "stream",
     "text": [
      "KAI'SA is a league character! Yeahhhhh!\n",
      "--------------------------------------------------\n",
      "YUMMI is a league character! Yeahhhhh!\n",
      "--------------------------------------------------\n",
      "SERAPHINE is a league character! Yeahhhhh!\n",
      "--------------------------------------------------\n"
     ]
    }
   ],
   "source": [
    "for name in league_characters: \n",
    "    print (f\"{name.upper()} is a league character! Yeahhhhh!\")\n",
    "    print ('-'*50)"
   ]
  },
  {
   "cell_type": "markdown",
   "id": "963b4ffe-c75d-4b37-9e3b-da0f53cebab8",
   "metadata": {},
   "source": [
    "Remember that for can be used to directly loop through a list."
   ]
  },
  {
   "cell_type": "code",
   "execution_count": 24,
   "id": "3d964046-4e04-4469-b54f-809ad160ccb1",
   "metadata": {},
   "outputs": [],
   "source": [
    "super_names = [\"Black Widow\", \"Iron Man\", \"Doctor Strange\"]\n",
    "real_names = [\"Natasha Romanoff\", \"Tony Stark\", \"Stephen Strange\"]"
   ]
  },
  {
   "cell_type": "markdown",
   "id": "825d026b-74c3-47de-9f4e-a52426611ebd",
   "metadata": {},
   "source": [
    "**Basic use**"
   ]
  },
  {
   "cell_type": "code",
   "execution_count": 27,
   "id": "4d18352c-ead9-4dc0-9bac-3656bb7a778b",
   "metadata": {},
   "outputs": [
    {
     "name": "stdout",
     "output_type": "stream",
     "text": [
      "NATASHA ROMANOFF is a Great Marvel superhero!\n",
      "TONY STARK is a Great Marvel superhero!\n",
      "STEPHEN STRANGE is a Great Marvel superhero!\n"
     ]
    }
   ],
   "source": [
    "for name in real_names:\n",
    "    print (f\"{name.upper()} is a Great Marvel superhero!\")"
   ]
  },
  {
   "cell_type": "code",
   "execution_count": null,
   "id": "43ac6e26-d091-4950-a33c-13b1813da7cd",
   "metadata": {},
   "outputs": [],
   "source": []
  },
  {
   "cell_type": "markdown",
   "id": "bc2f20dc-7ea2-4606-a851-b116fca60786",
   "metadata": {},
   "source": [
    "Let's see what we can do if we want to count the number of prints:"
   ]
  },
  {
   "cell_type": "code",
   "execution_count": 31,
   "id": "2bd69bf2-6f96-46db-82ed-22c14179e3d5",
   "metadata": {},
   "outputs": [
    {
     "name": "stdout",
     "output_type": "stream",
     "text": [
      "1: NATASHA ROMANOFF is a Great Marvel superhero!\n",
      "2: TONY STARK is a Great Marvel superhero!\n",
      "3: STEPHEN STRANGE is a Great Marvel superhero!\n"
     ]
    }
   ],
   "source": [
    "count = 1\n",
    "for name in real_names:\n",
    "    print (f\"{count}: {name.upper()} is a Great Marvel superhero!\")\n",
    "    count += 1"
   ]
  },
  {
   "attachments": {},
   "cell_type": "markdown",
   "id": "43e091be",
   "metadata": {},
   "source": [
    "## 1.2 for with enumerate"
   ]
  },
  {
   "cell_type": "markdown",
   "id": "f21e7885-6950-44de-b358-e8c6f9a52a17",
   "metadata": {},
   "source": [
    "**You can start counting at any number**"
   ]
  },
  {
   "cell_type": "code",
   "execution_count": 33,
   "id": "3a0a3c12-4973-4cba-b6b4-c2c7b6785178",
   "metadata": {},
   "outputs": [
    {
     "name": "stdout",
     "output_type": "stream",
     "text": [
      "100: NATASHA ROMANOFF is a Great Marvel superhero!\n",
      "101: TONY STARK is a Great Marvel superhero!\n",
      "102: STEPHEN STRANGE is a Great Marvel superhero!\n"
     ]
    }
   ],
   "source": [
    "for count, name in enumerate(real_names, start = 100):                          # enumerate does the counting for us.\n",
    "    print (f\"{count}: {name.upper()} is a Great Marvel superhero!\")             # we do not need to put count =1 and then count += 1 unlike above\n",
    "                                                                                # however, we need to include start counting at what number in line 1"
   ]
  },
  {
   "cell_type": "markdown",
   "id": "9b490292-de29-4c33-b06e-2b565e2480d6",
   "metadata": {},
   "source": [
    "**Used to combine information from different lists**"
   ]
  },
  {
   "cell_type": "code",
   "execution_count": 42,
   "id": "5b16ae7a-d512-48d6-a6ae-237030cf58a3",
   "metadata": {},
   "outputs": [],
   "source": [
    "super_names = [\"Black Widow\", \"Iron Man\", \"Doctor Strange\"]\n",
    "real_names = [\"Natasha Romanoff\", \"Tony Stark\", \"Stephen Strange\"]\n",
    "universe = ['Marvel']*3"
   ]
  },
  {
   "cell_type": "code",
   "execution_count": 44,
   "id": "98da79c6-ef71-4455-b4c4-7174ad5c4879",
   "metadata": {},
   "outputs": [
    {
     "name": "stdout",
     "output_type": "stream",
     "text": [
      "Natasha Romanoff ----> Black Widow ----> Marvel\n",
      "Tony Stark ----> Iron Man ----> Marvel\n",
      "Stephen Strange ----> Doctor Strange ----> Marvel\n"
     ]
    }
   ],
   "source": [
    "for index, real_name in enumerate (real_names):                      # call it index here because we want to index this code when it is printed out\n",
    "                                                                     # though any other words work. index is used for readability \n",
    "    \n",
    "    print(real_name, '---->', super_names [index], '---->', universe [index])                   # we need to use [] because it is a list"
   ]
  },
  {
   "cell_type": "markdown",
   "id": "7cfddf2f-4d1f-4d16-bfac-40ebba4dc1a9",
   "metadata": {},
   "source": [
    "This works because we have corresponding data, and enumerate counts from zero and we use it to index the super_names and the universe. "
   ]
  },
  {
   "cell_type": "code",
   "execution_count": null,
   "id": "96b2839e-254b-4502-9c93-cf5a50e90736",
   "metadata": {},
   "outputs": [],
   "source": []
  },
  {
   "cell_type": "code",
   "execution_count": 45,
   "id": "27eef1c6-ed85-4802-ad5d-ff0782a3fde9",
   "metadata": {},
   "outputs": [
    {
     "name": "stdout",
     "output_type": "stream",
     "text": [
      "Natasha Romanoff ----> Black Widow ----> Marvel\n",
      "Tony Stark ----> Iron Man ----> Marvel\n",
      "Stephen Strange ----> Doctor Strange ----> Marvel\n"
     ]
    }
   ],
   "source": [
    "for index in [0,1,2]:\n",
    "    print (real_names [index], '---->', super_names [index], '---->', universe [index])"
   ]
  },
  {
   "cell_type": "markdown",
   "id": "eef6a30f-a47c-4bca-8e99-6a826ba46c27",
   "metadata": {},
   "source": [
    "Although this works, here we did not make use of enumerat. It is unwise because although we can manually type the index which is only 3 numbers this round, it will be very tedious if we have 100000 indexes."
   ]
  },
  {
   "attachments": {},
   "cell_type": "markdown",
   "id": "54f5142e",
   "metadata": {},
   "source": [
    "## 1.3 for with range"
   ]
  },
  {
   "cell_type": "code",
   "execution_count": 48,
   "id": "d5ceb7ac-474f-4bea-b8f3-f2f0b0ac394b",
   "metadata": {},
   "outputs": [
    {
     "name": "stdout",
     "output_type": "stream",
     "text": [
      "Natasha Romanoff ----> Black Widow ----> Marvel\n",
      "Tony Stark ----> Iron Man ----> Marvel\n",
      "Stephen Strange ----> Doctor Strange ----> Marvel\n"
     ]
    }
   ],
   "source": [
    "for index in range(3):\n",
    "    print (real_names [index], '---->', super_names [index], '---->', universe [index])"
   ]
  },
  {
   "cell_type": "code",
   "execution_count": 46,
   "id": "0059a0b6-53b4-4b0e-a8b0-bb0f98cf0c90",
   "metadata": {},
   "outputs": [
    {
     "data": {
      "text/plain": [
       "range(0, 3)"
      ]
     },
     "execution_count": 46,
     "metadata": {},
     "output_type": "execute_result"
    }
   ],
   "source": [
    "range (3)"
   ]
  },
  {
   "cell_type": "markdown",
   "id": "427f8e26-565e-4268-bee2-574bde824340",
   "metadata": {},
   "source": [
    "This tells us that this range starts from 0 and goes up to 3. range() always ends one short of the ending number.\n",
    "\n",
    "To do so, we can convert range into a list and it will tell us the details we want:"
   ]
  },
  {
   "cell_type": "code",
   "execution_count": 49,
   "id": "3ed5eb16-8cf8-47e1-8d9c-99c5cd6e93e4",
   "metadata": {},
   "outputs": [
    {
     "data": {
      "text/plain": [
       "[0, 1, 2]"
      ]
     },
     "execution_count": 49,
     "metadata": {},
     "output_type": "execute_result"
    }
   ],
   "source": [
    "list(range(3))"
   ]
  },
  {
   "cell_type": "markdown",
   "id": "2647b343-2319-4307-85d0-20fc1cb3aae7",
   "metadata": {},
   "source": [
    "Range turns into 0,1,2 which corresponds to the number of indexes we have in our two lists of the Marvel characters. "
   ]
  },
  {
   "cell_type": "code",
   "execution_count": null,
   "id": "d567f0b0-2166-41e3-b4a7-ba4e62da333f",
   "metadata": {},
   "outputs": [],
   "source": []
  },
  {
   "attachments": {},
   "cell_type": "markdown",
   "id": "70b51e57",
   "metadata": {},
   "source": [
    "# 2 while"
   ]
  },
  {
   "cell_type": "markdown",
   "id": "ff951087-969a-4188-9087-933b7ba2508f",
   "metadata": {},
   "source": [
    "for() loops will keep running indefinitely.\n",
    "\n",
    "A while() loop will keep on running **while** a condition is True. It stops running when a condition is False/wrong/met. "
   ]
  },
  {
   "cell_type": "code",
   "execution_count": 52,
   "id": "e20f6098-c726-496b-8f90-f758a1589847",
   "metadata": {},
   "outputs": [
    {
     "name": "stdout",
     "output_type": "stream",
     "text": [
      "0\n",
      "1\n",
      "2\n",
      "3\n",
      "4\n"
     ]
    }
   ],
   "source": [
    "number = 0\n",
    "\n",
    "while number < 5:           # all while() does is it goes into the number, adds 1 to it and before it runs again, \n",
    "                            # it asks if this number is less than 5. If it is, it goes in comes back up and asks again \n",
    "                            # until the condition is False/wrong/not met.\n",
    "    print(number)\n",
    "    number += 1"
   ]
  },
  {
   "cell_type": "code",
   "execution_count": null,
   "id": "b7f9d42f-9d18-45cb-a129-4c66e9a95f88",
   "metadata": {},
   "outputs": [],
   "source": [
    "while True: \n",
    "    print ('Hahahaha')"
   ]
  },
  {
   "cell_type": "markdown",
   "id": "d7e402db-a200-4f34-bf44-94c3ad5972a5",
   "metadata": {},
   "source": [
    "It will keep running indefinitely, so please do not run this. This is because we did not give a condition whereby it will be False, everything in this code is now True. "
   ]
  }
 ],
 "metadata": {
  "kernelspec": {
   "display_name": "Python 3 (ipykernel)",
   "language": "python",
   "name": "python3"
  },
  "language_info": {
   "codemirror_mode": {
    "name": "ipython",
    "version": 3
   },
   "file_extension": ".py",
   "mimetype": "text/x-python",
   "name": "python",
   "nbconvert_exporter": "python",
   "pygments_lexer": "ipython3",
   "version": "3.12.3"
  },
  "toc": {
   "base_numbering": 1,
   "nav_menu": {},
   "number_sections": true,
   "sideBar": true,
   "skip_h1_title": false,
   "title_cell": "Table of Contents",
   "title_sidebar": "Contents",
   "toc_cell": false,
   "toc_position": {},
   "toc_section_display": true,
   "toc_window_display": false
  },
  "vscode": {
   "interpreter": {
    "hash": "31f2aee4e71d21fbe5cf8b01ff0e069b9275f58929596ceb00d14d90e3e16cd6"
   }
  }
 },
 "nbformat": 4,
 "nbformat_minor": 5
}
