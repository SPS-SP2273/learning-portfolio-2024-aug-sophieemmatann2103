{
 "cells": [
  {
   "attachments": {},
   "cell_type": "markdown",
   "id": "123456",
   "metadata": {},
   "source": [
    "<div style=\"text-align:left;font-size:2em\"><span style=\"font-weight:bolder;font-size:1.25em\">SP2273 | Learning Portfolio</span><br><br><span style=\"font-weight:bold;color:darkred\">Loops (Good)</span></div>"
   ]
  },
  {
   "attachments": {},
   "cell_type": "markdown",
   "id": "62503547",
   "metadata": {},
   "source": [
    "# 1 Interrupting the flow"
   ]
  },
  {
   "cell_type": "markdown",
   "id": "e59c5983-13d6-4917-bc50-aa5006bb5345",
   "metadata": {},
   "source": [
    "## Example 1"
   ]
  },
  {
   "cell_type": "code",
   "execution_count": 4,
   "id": "b273f7c0-3315-440d-bae4-acf54dfdabbd",
   "metadata": {},
   "outputs": [
    {
     "name": "stdout",
     "output_type": "stream",
     "text": [
      "2\n",
      "3\n",
      "4\n",
      "5\n"
     ]
    }
   ],
   "source": [
    "for power in range(2,6):\n",
    "    print(power)"
   ]
  },
  {
   "cell_type": "markdown",
   "id": "e7c6724a-5612-4360-8682-c199a19d73cc",
   "metadata": {},
   "source": [
    "The starting number that will be printed is the same as the specified.\n",
    "\n",
    "The ending number to be printed will always be one less than the specified.\n",
    "\n",
    "We cannot put a float as the argument as it will not work."
   ]
  },
  {
   "cell_type": "code",
   "execution_count": 5,
   "id": "d860582b-963d-425c-aa6d-a6435dd7c8d8",
   "metadata": {},
   "outputs": [
    {
     "name": "stdout",
     "output_type": "stream",
     "text": [
      "2\n",
      "3\n",
      "4\n",
      "5\n"
     ]
    }
   ],
   "source": [
    "for power in range(2,5+1):\n",
    "    print(power)"
   ]
  },
  {
   "cell_type": "code",
   "execution_count": 2,
   "id": "7ae0bc7f-b531-4c0e-9de6-1d3dbcc5d617",
   "metadata": {},
   "outputs": [
    {
     "name": "stdout",
     "output_type": "stream",
     "text": [
      "0 1\n",
      "1 10\n",
      "2 100\n",
      "3 1000\n"
     ]
    }
   ],
   "source": [
    "for power in range(5):       # 0, 1, 2, 3, 4\n",
    "    number = 10**power\n",
    "    if number > 5000:\n",
    "        break                \n",
    "    print(power, number)"
   ]
  },
  {
   "cell_type": "markdown",
   "id": "15573fa8-308e-4e7b-b30a-69a8d7fec97c",
   "metadata": {},
   "source": [
    "We use break to break-out of the loop and terminate it.\n",
    "\n",
    "We typically use it with if so that we break out if a certain condition is met.\n",
    "\n",
    "This will also work with a while loop."
   ]
  },
  {
   "cell_type": "code",
   "execution_count": 7,
   "id": "6e10f6a1-e8b0-461b-b661-c0c190bae1a1",
   "metadata": {},
   "outputs": [
    {
     "name": "stdout",
     "output_type": "stream",
     "text": [
      "0 1\n",
      "1 10\n",
      "2 100\n",
      "3 1000\n",
      "4 10000\n"
     ]
    }
   ],
   "source": [
    "for power in range(5):       # 0, 1, 2, 3, 4\n",
    "    number = 10**power   \n",
    "    \n",
    "    print(power, number)"
   ]
  },
  {
   "cell_type": "markdown",
   "id": "2a2353b7-320b-4c51-a3ad-874976e66ba7",
   "metadata": {},
   "source": [
    "## Example 2"
   ]
  },
  {
   "cell_type": "code",
   "execution_count": 8,
   "id": "ca17f1e3-bb42-42fe-b9f9-dda5e651c303",
   "metadata": {},
   "outputs": [
    {
     "name": "stdout",
     "output_type": "stream",
     "text": [
      "0 1\n",
      "1 10\n",
      "2 100\n",
      "4 10000\n"
     ]
    }
   ],
   "source": [
    "for power in range(5):\n",
    "    if power == 3:\n",
    "        continue        # Don't proceed further\n",
    "                        # IN THE CURRENT LOOP\n",
    "                        # if i == 3\n",
    "    number = 10**power\n",
    "    print(power, number)"
   ]
  },
  {
   "cell_type": "markdown",
   "id": "48bf2d14-18d0-490c-8372-fdf1a4607114",
   "metadata": {},
   "source": [
    "Sometimes we want to skip an iteration and just move on to the next. continue allows us to do this by skipping everything after it.\n",
    "\n",
    "Notice how there is no printout for power = 3.\n",
    "\n",
    "continue too is typically used with if.\n",
    "\n",
    "This will also work with a while loop."
   ]
  },
  {
   "cell_type": "markdown",
   "id": "634e9d97-fe21-4053-85ef-da6d60a63a85",
   "metadata": {},
   "source": [
    "## Example 3"
   ]
  },
  {
   "cell_type": "code",
   "execution_count": 9,
   "id": "ab926076-6a77-4eb5-8ce2-e4f32ab92892",
   "metadata": {},
   "outputs": [
    {
     "name": "stdout",
     "output_type": "stream",
     "text": [
      "1\n",
      "3\n",
      "5\n",
      "7\n",
      "9\n"
     ]
    }
   ],
   "source": [
    "for number in range(10):\n",
    "    # Don't proceed if the remainder is zero\n",
    "    # I.e. if the number is even\n",
    "    if number % 2 == 0:\n",
    "        continue\n",
    "    print(number)"
   ]
  },
  {
   "cell_type": "markdown",
   "id": "dfd2f204-86d6-4241-8c6e-967cd50366f4",
   "metadata": {},
   "source": [
    "## Example 4"
   ]
  },
  {
   "cell_type": "code",
   "execution_count": 12,
   "id": "f61026f3-f51c-4db5-8246-a778ffa35a0c",
   "metadata": {},
   "outputs": [
    {
     "name": "stdout",
     "output_type": "stream",
     "text": [
      "hahhhaha\n",
      "hahhhaha\n",
      "hahhhaha\n",
      "hahhhaha\n",
      "hahhhaha\n"
     ]
    }
   ],
   "source": [
    "number=0\n",
    "\n",
    "while True:\n",
    "    print('hahhhaha')    # This will run forever if we do not use break below\n",
    "    number += 1\n",
    "    if number > 4: break"
   ]
  },
  {
   "cell_type": "code",
   "execution_count": 14,
   "id": "baf2b811-55dd-41a2-9498-3a689130cc57",
   "metadata": {},
   "outputs": [
    {
     "name": "stdout",
     "output_type": "stream",
     "text": [
      "ha\n",
      "haha\n",
      "hahaha\n",
      "hahahaha\n",
      "hahahahaha\n",
      "hahahahahaha\n",
      "hahahahahahaha\n",
      "hahahahahahahaha\n",
      "hahahahahahahahaha\n",
      "hahahahahahahahahaha\n",
      "hahahahahahahahahahaha\n",
      "hahahahahahahahahahahaha\n",
      "hahahahahahahahahahahahaha\n",
      "hahahahahahahahahahahahahaha\n",
      "hahahahahahahahahahahahahahaha\n",
      "hahahahahahahahahahahahahahahaha\n",
      "hahahahahahahahahahahahahahahahaha\n",
      "hahahahahahahahahahahahahahahahahaha\n",
      "hahahahahahahahahahahahahahahahahahaha\n",
      "hahahahahahahahahahahahahahahahahahahaha\n",
      "hahahahahahahahahahahahahahahahahahahahaha\n",
      "hahahahahahahahahahahahahahahahahahahahahaha\n",
      "hahahahahahahahahahahahahahahahahahahahahahaha\n",
      "hahahahahahahahahahahahahahahahahahahahahahahaha\n",
      "hahahahahahahahahahahahahahahahahahahahahahahahaha\n",
      "hahahahahahahahahahahahahahahahahahahahahahahahahaha\n"
     ]
    }
   ],
   "source": [
    "my_hahaha = ''\n",
    "\n",
    "while True:\n",
    "    my_hahaha += 'ha'\n",
    "    print(my_hahaha)    # This will run forever if we do not use break below\n",
    "    number += 1\n",
    "    if len(my_hahaha) > 50: break"
   ]
  },
  {
   "cell_type": "code",
   "execution_count": 16,
   "id": "e8c3256a-c7ef-44a6-a64e-8af179822c73",
   "metadata": {},
   "outputs": [
    {
     "name": "stdout",
     "output_type": "stream",
     "text": [
      "ha\n",
      "haha\n",
      "hahaha\n",
      "hahahaha\n",
      "hahahahaha\n",
      "hahahahahaha\n",
      "hahahahahahaha\n",
      "hahahahahahahaha\n",
      "hahahahahahahahaha\n",
      "hahahahahahahahahaha\n",
      "hahahahahahahahahahaha\n",
      "hahahahahahahahahahahaha\n",
      "hahahahahahahahahahahahaha\n",
      "hahahahahahahahahahahahahaha\n",
      "hahahahahahahahahahahahahahaha\n",
      "hahahahahahahahahahahahahahahaha\n",
      "hahahahahahahahahahahahahahahahaha\n",
      "hahahahahahahahahahahahahahahahahaha\n",
      "hahahahahahahahahahahahahahahahahahaha\n",
      "hahahahahahahahahahahahahahahahahahahaha\n",
      "hahahahahahahahahahahahahahahahahahahahaha\n",
      "hahahahahahahahahahahahahahahahahahahahahaha\n",
      "hahahahahahahahahahahahahahahahahahahahahahaha\n",
      "hahahahahahahahahahahahahahahahahahahahahahahaha\n",
      "hahahahahahahahahahahahahahahahahahahahahahahahaha\n"
     ]
    }
   ],
   "source": [
    "my_hahaha = ''\n",
    "\n",
    "while len(my_hahaha) < 50: \n",
    "    my_hahaha += 'ha'\n",
    "    print(my_hahaha)    # This will give the same thing as above, just code cleaner"
   ]
  },
  {
   "attachments": {},
   "cell_type": "markdown",
   "id": "5c544ee7",
   "metadata": {},
   "source": [
    "# 2 List comprehension! (VERY POWERFUL TO USE)"
   ]
  },
  {
   "attachments": {},
   "cell_type": "markdown",
   "id": "3a5cc267",
   "metadata": {},
   "source": [
    "## 2.1 Basic syntax"
   ]
  },
  {
   "cell_type": "code",
   "execution_count": 18,
   "id": "1a86cb07-1c33-4d07-a8fc-c47e41d148df",
   "metadata": {},
   "outputs": [
    {
     "name": "stdout",
     "output_type": "stream",
     "text": [
      "0 1\n",
      "1 10\n",
      "2 100\n",
      "3 1000\n",
      "4 10000\n"
     ]
    },
    {
     "data": {
      "text/plain": [
       "[1, 10, 100, 1000, 10000]"
      ]
     },
     "execution_count": 18,
     "metadata": {},
     "output_type": "execute_result"
    }
   ],
   "source": [
    "my_numbers = []\n",
    "for power in range(5):\n",
    "    number = 10**power\n",
    "    my_numbers.append(number)\n",
    "    \n",
    "    print(power, number)        # This printing part isnt necessary but it is encouraged!\n",
    "\n",
    "my_numbers"
   ]
  },
  {
   "cell_type": "markdown",
   "id": "e5898b7e-528b-413f-9451-1023459cdcf9",
   "metadata": {},
   "source": [
    "Creating lists with numbers (can do power and all):"
   ]
  },
  {
   "cell_type": "code",
   "execution_count": 22,
   "id": "2d096440-aab2-4603-893a-e5a508e01130",
   "metadata": {},
   "outputs": [
    {
     "data": {
      "text/plain": [
       "[1, 10, 100, 1000, 10000]"
      ]
     },
     "execution_count": 22,
     "metadata": {},
     "output_type": "execute_result"
    }
   ],
   "source": [
    "[10**power for power in range(5)]   # note that we defined 'power' above alr so it will run"
   ]
  },
  {
   "cell_type": "code",
   "execution_count": 21,
   "id": "88ca0da7-4b5f-44c4-b82c-a56998b58ee2",
   "metadata": {},
   "outputs": [
    {
     "data": {
      "text/plain": [
       "[0, 1, 4, 9, 16]"
      ]
     },
     "execution_count": 21,
     "metadata": {},
     "output_type": "execute_result"
    }
   ],
   "source": [
    "[number**2 for number in range(5)]"
   ]
  },
  {
   "attachments": {},
   "cell_type": "markdown",
   "id": "66029bc4",
   "metadata": {},
   "source": [
    "## 2.2 List comprehension with conditions"
   ]
  },
  {
   "cell_type": "code",
   "execution_count": 24,
   "id": "1f44d35e-d553-462c-b117-a4ace9071ff6",
   "metadata": {},
   "outputs": [
    {
     "data": {
      "text/plain": [
       "[0, 2, 4, 6, 8]"
      ]
     },
     "execution_count": 24,
     "metadata": {},
     "output_type": "execute_result"
    }
   ],
   "source": [
    "[number for number in range(10) if number % 2 == 0]"
   ]
  },
  {
   "cell_type": "markdown",
   "id": "e62a80b0-9d5c-4c62-89d2-4cab6b42501f",
   "metadata": {},
   "source": [
    "Here is how we can combine two lists:"
   ]
  },
  {
   "cell_type": "code",
   "execution_count": 26,
   "id": "a9dc06d8-52d5-472e-b61b-b843facf6c44",
   "metadata": {},
   "outputs": [
    {
     "data": {
      "text/plain": [
       "['Black Widow', 'Iron Man', 'Doctor Strange']"
      ]
     },
     "execution_count": 26,
     "metadata": {},
     "output_type": "execute_result"
    }
   ],
   "source": [
    "super_names = [\"Black Widow\", \"Iron Man\", \"Doctor Strange\"]\n",
    "real_names = [\"Natasha Romanoff\", \"Tony Stark\", \"Stephen Strange\"]\n",
    "\n",
    "[super_names[index] for index in range(3)]"
   ]
  },
  {
   "cell_type": "code",
   "execution_count": 28,
   "id": "2321d040-cd86-472a-8ab8-24e7ba07c747",
   "metadata": {},
   "outputs": [
    {
     "data": {
      "text/plain": [
       "[['Black Widow', 'Natasha Romanoff'],\n",
       " ['Iron Man', 'Tony Stark'],\n",
       " ['Doctor Strange', 'Stephen Strange']]"
      ]
     },
     "execution_count": 28,
     "metadata": {},
     "output_type": "execute_result"
    }
   ],
   "source": [
    "super_names = [\"Black Widow\", \"Iron Man\", \"Doctor Strange\"]\n",
    "real_names = [\"Natasha Romanoff\", \"Tony Stark\", \"Stephen Strange\"]\n",
    "\n",
    "[ [super_names[index], real_names[index]] for index in range(3)]     # read them into 2 lists\n",
    "                                                                     # and combine them"
   ]
  },
  {
   "cell_type": "code",
   "execution_count": null,
   "id": "f6c2814b-e8b7-4d5f-8e33-5b019052bfde",
   "metadata": {},
   "outputs": [],
   "source": []
  },
  {
   "attachments": {},
   "cell_type": "markdown",
   "id": "65ae38a3",
   "metadata": {},
   "source": [
    "# 3 Other useful stuff"
   ]
  },
  {
   "attachments": {},
   "cell_type": "markdown",
   "id": "182fae29",
   "metadata": {},
   "source": [
    "## 3.1 for with unpacking"
   ]
  },
  {
   "cell_type": "code",
   "execution_count": 30,
   "id": "0985901a-cfac-4a5b-9014-c7e65be0c44a",
   "metadata": {},
   "outputs": [],
   "source": [
    "x, y, z = [1,2,[3,0,4,5]]"
   ]
  },
  {
   "cell_type": "code",
   "execution_count": 32,
   "id": "73c7ea51-f6cb-4618-9a52-ee25b1b10f9c",
   "metadata": {},
   "outputs": [
    {
     "data": {
      "text/plain": [
       "1"
      ]
     },
     "execution_count": 32,
     "metadata": {},
     "output_type": "execute_result"
    }
   ],
   "source": [
    "x"
   ]
  },
  {
   "cell_type": "code",
   "execution_count": 33,
   "id": "f0bb0634-a96c-4de0-b98a-4a6f425e8909",
   "metadata": {},
   "outputs": [
    {
     "data": {
      "text/plain": [
       "2"
      ]
     },
     "execution_count": 33,
     "metadata": {},
     "output_type": "execute_result"
    }
   ],
   "source": [
    "y"
   ]
  },
  {
   "cell_type": "code",
   "execution_count": 31,
   "id": "ca7ac993-a8b9-4529-b13a-054f0394e6bd",
   "metadata": {},
   "outputs": [
    {
     "data": {
      "text/plain": [
       "[3, 0, 4, 5]"
      ]
     },
     "execution_count": 31,
     "metadata": {},
     "output_type": "execute_result"
    }
   ],
   "source": [
    "z"
   ]
  },
  {
   "cell_type": "code",
   "execution_count": 34,
   "id": "fac26a2b-8e09-47db-9e90-7f54827d087b",
   "metadata": {},
   "outputs": [],
   "source": [
    "# Superhero example"
   ]
  },
  {
   "cell_type": "code",
   "execution_count": 36,
   "id": "a8e01f49-c593-4121-a74b-051757355791",
   "metadata": {},
   "outputs": [],
   "source": [
    "py_superhero_info = [\n",
    "    ['Natasha Romanoff', 'Black Widow'],\n",
    "    ['Tony Stark', 'Iron Man'],\n",
    "     ['Stephen Strange', 'Doctor Strange']\n",
    "]"
   ]
  },
  {
   "cell_type": "code",
   "execution_count": 37,
   "id": "65a14893-c112-4747-b393-907b49c03c87",
   "metadata": {},
   "outputs": [
    {
     "name": "stdout",
     "output_type": "stream",
     "text": [
      "Natasha Romanoff is Marvel's Black Widow!\n",
      "Tony Stark is Marvel's Iron Man!\n",
      "Stephen Strange is Marvel's Doctor Strange!\n"
     ]
    }
   ],
   "source": [
    "for real_name, super_name in py_superhero_info:\n",
    "    print(f\"{real_name} is Marvel's {super_name}!\")"
   ]
  },
  {
   "cell_type": "code",
   "execution_count": null,
   "id": "d2efa446-d884-45ea-8850-e10de7222c0c",
   "metadata": {},
   "outputs": [],
   "source": []
  },
  {
   "attachments": {},
   "cell_type": "markdown",
   "id": "0e3c15a2",
   "metadata": {},
   "source": [
    "## 3.2 for with zip()"
   ]
  },
  {
   "cell_type": "code",
   "execution_count": 38,
   "id": "b1e11e84-6aaa-4bee-8fb6-7ed1a49439cc",
   "metadata": {},
   "outputs": [
    {
     "data": {
      "text/plain": [
       "<zip at 0x1ff353c54c0>"
      ]
     },
     "execution_count": 38,
     "metadata": {},
     "output_type": "execute_result"
    }
   ],
   "source": [
    "super_names = [\"Black Widow\", \"Iron Man\", \"Doctor Strange\"]\n",
    "real_names = [\"Natasha Romanoff\", \"Tony Stark\", \"Stephen Strange\"]\n",
    "\n",
    "zip ([super_names, real_names])"
   ]
  },
  {
   "cell_type": "markdown",
   "id": "bbe3f6ad-5917-4d95-8a5e-242f52009d67",
   "metadata": {},
   "source": [
    "Shows us here that the zip() function cannot be used directly.\n",
    "\n",
    "Needs to be used in a for loop or convert the things into a list. "
   ]
  },
  {
   "cell_type": "code",
   "execution_count": 39,
   "id": "13960396-f0d9-447f-bcfa-7d3447040fa6",
   "metadata": {},
   "outputs": [
    {
     "data": {
      "text/plain": [
       "[(['Black Widow', 'Iron Man', 'Doctor Strange'],),\n",
       " (['Natasha Romanoff', 'Tony Stark', 'Stephen Strange'],)]"
      ]
     },
     "execution_count": 39,
     "metadata": {},
     "output_type": "execute_result"
    }
   ],
   "source": [
    "super_names = [\"Black Widow\", \"Iron Man\", \"Doctor Strange\"]\n",
    "real_names = [\"Natasha Romanoff\", \"Tony Stark\", \"Stephen Strange\"]\n",
    "\n",
    "list (zip ([super_names, real_names])) "
   ]
  },
  {
   "cell_type": "code",
   "execution_count": 42,
   "id": "91177ac0-d4c4-489c-9b2b-3dd44ca67098",
   "metadata": {},
   "outputs": [
    {
     "name": "stdout",
     "output_type": "stream",
     "text": [
      "Natasha Romanoff is Marvel's Black Widow!\n",
      "Tony Stark is Marvel's Iron Man!\n",
      "Stephen Strange is Marvel's Doctor Strange!\n"
     ]
    }
   ],
   "source": [
    "super_names = [\"Black Widow\", \"Iron Man\", \"Doctor Strange\"]\n",
    "real_names = [\"Natasha Romanoff\", \"Tony Stark\", \"Stephen Strange\"]\n",
    "\n",
    "for super_name, real_name in (zip (super_names, real_names)):\n",
    "    print(f\"{real_name} is Marvel's {super_name}!\")"
   ]
  },
  {
   "cell_type": "code",
   "execution_count": null,
   "id": "60a86266-e02a-4cd0-b41f-a4929fc19790",
   "metadata": {},
   "outputs": [],
   "source": []
  },
  {
   "attachments": {},
   "cell_type": "markdown",
   "id": "32dcf0e6",
   "metadata": {},
   "source": [
    "## 3.3 for with dictionaries"
   ]
  },
  {
   "attachments": {},
   "cell_type": "markdown",
   "id": "2ca6f559",
   "metadata": {},
   "source": [
    "## Footnotes"
   ]
  }
 ],
 "metadata": {
  "kernelspec": {
   "display_name": "Python 3 (ipykernel)",
   "language": "python",
   "name": "python3"
  },
  "language_info": {
   "codemirror_mode": {
    "name": "ipython",
    "version": 3
   },
   "file_extension": ".py",
   "mimetype": "text/x-python",
   "name": "python",
   "nbconvert_exporter": "python",
   "pygments_lexer": "ipython3",
   "version": "3.12.3"
  },
  "toc": {
   "base_numbering": 1,
   "nav_menu": {},
   "number_sections": true,
   "sideBar": true,
   "skip_h1_title": false,
   "title_cell": "Table of Contents",
   "title_sidebar": "Contents",
   "toc_cell": false,
   "toc_position": {},
   "toc_section_display": true,
   "toc_window_display": false
  },
  "vscode": {
   "interpreter": {
    "hash": "31f2aee4e71d21fbe5cf8b01ff0e069b9275f58929596ceb00d14d90e3e16cd6"
   }
  }
 },
 "nbformat": 4,
 "nbformat_minor": 5
}
