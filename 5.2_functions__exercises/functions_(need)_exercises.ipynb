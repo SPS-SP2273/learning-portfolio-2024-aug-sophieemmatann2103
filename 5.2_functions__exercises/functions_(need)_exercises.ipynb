{
 "cells": [
  {
   "attachments": {},
   "cell_type": "markdown",
   "id": "123456",
   "metadata": {},
   "source": [
    "<div style=\"text-align:left;font-size:2em\"><span style=\"font-weight:bolder;font-size:1.25em\">SP2273 | Learning Portfolio</span><br><br><span style=\"font-weight:bold;color:darkred\">Functions (Need) Exercises</span></div>"
   ]
  },
  {
   "cell_type": "markdown",
   "id": "f5f2fe9c-b803-4ad4-8164-9e139a59e06a",
   "metadata": {},
   "source": [
    "## Exercise 1 (Do you know why?)"
   ]
  },
  {
   "cell_type": "code",
   "execution_count": 4,
   "id": "99ffb3b2-7ad9-4383-bee9-917dc3082963",
   "metadata": {},
   "outputs": [
    {
     "data": {
      "text/plain": [
       "'Hello Batman! So, nice to meet you!'"
      ]
     },
     "execution_count": 4,
     "metadata": {},
     "output_type": "execute_result"
    }
   ],
   "source": [
    "def greeting(name):\n",
    "    if name == 'Batman':\n",
    "        return 'Hello Batman! So, nice to meet you!'\n",
    "    return f'Hello {name}!'\n",
    "\n",
    "greeting ('Batman')"
   ]
  },
  {
   "cell_type": "code",
   "execution_count": 5,
   "id": "909ff67a-7935-43d6-adf9-5abc28d20c56",
   "metadata": {},
   "outputs": [
    {
     "data": {
      "text/plain": [
       "'Hello Superman!'"
      ]
     },
     "execution_count": 5,
     "metadata": {},
     "output_type": "execute_result"
    }
   ],
   "source": [
    "def greeting(name):\n",
    "    if name == 'Batman':\n",
    "        return 'Hello Batman! So, nice to meet you!'\n",
    "    return f'Hello {name}!'\n",
    "\n",
    "greeting ('Superman')"
   ]
  },
  {
   "cell_type": "markdown",
   "id": "4a127e07-e9ca-4961-b49b-e120c8ae34ab",
   "metadata": {},
   "source": [
    "This code works because the **return** function encompasses anything asides from 'Batman' as the input. The function greeting(name) has been defined to generate/print a statement handling any other name as the input. \n",
    "\n",
    "Therefore, there is no need for the **else** statement. "
   ]
  },
  {
   "cell_type": "markdown",
   "id": "89b0fb1d-694f-40c8-8b07-2a4dd08d9dcd",
   "metadata": {},
   "source": [
    "## Exercise 2 (Chubby or not)"
   ]
  },
  {
   "cell_type": "code",
   "execution_count": 21,
   "id": "93b9346d-f152-4732-b889-76e4f28999c4",
   "metadata": {},
   "outputs": [
    {
     "name": "stdout",
     "output_type": "stream",
     "text": [
      "Underweight\n",
      "Normal weight\n",
      "Overweight\n",
      "Obese\n"
     ]
    }
   ],
   "source": [
    "def calculate_bmi(weight, height):\n",
    "    BMI = weight/(height**2)       # Calculating BMI formula\n",
    "    \n",
    "    if BMI < 18.5:                 # Categories of BMIs\n",
    "        return 'Underweight'\n",
    "    elif 18.5 <= BMI <= 24.9:\n",
    "        return 'Normal weight'\n",
    "    elif 25 <= BMI <= 29.9:\n",
    "        return 'Overweight'\n",
    "    else:\n",
    "        return 'Obese'\n",
    "\n",
    "print(calculate_bmi(40, 1.75))      # Examples for each category\n",
    "print(calculate_bmi(50, 1.6))   \n",
    "print(calculate_bmi(90, 1.8))   \n",
    "print(calculate_bmi(110, 1.7))  "
   ]
  },
  {
   "cell_type": "markdown",
   "id": "53b6b0bb-5094-41fa-af80-dd2f4e54c48f",
   "metadata": {},
   "source": [
    "## Exercise 3 (Factorials)"
   ]
  },
  {
   "cell_type": "code",
   "execution_count": 25,
   "id": "b295bfdc-5a5a-4c31-94b4-54532ad7144e",
   "metadata": {},
   "outputs": [
    {
     "name": "stdout",
     "output_type": "stream",
     "text": [
      "3628800\n",
      "1\n",
      "Factorial is not defined for negative numbers.\n"
     ]
    }
   ],
   "source": [
    "def factorial(n):                     # Handling negative numbers\n",
    "    if n < 0:\n",
    "        return \"Factorial is not defined for negative numbers.\"\n",
    "   \n",
    "    elif n == 0:            # Handle the base case where n is 0 or 1\n",
    "        return 1\n",
    "    \n",
    "    else:                             # Calculate factorial using a loop                           \n",
    "        result = 1\n",
    "        for number in range(2, n + 1):\n",
    "            result *= number\n",
    "        return result\n",
    "\n",
    "\n",
    "print(factorial(10))  # Just some examples to show how both pos and neg numbers are handled\n",
    "print(factorial(0)) \n",
    "print(factorial(-3))"
   ]
  }
 ],
 "metadata": {
  "kernelspec": {
   "display_name": "Python 3 (ipykernel)",
   "language": "python",
   "name": "python3"
  },
  "language_info": {
   "codemirror_mode": {
    "name": "ipython",
    "version": 3
   },
   "file_extension": ".py",
   "mimetype": "text/x-python",
   "name": "python",
   "nbconvert_exporter": "python",
   "pygments_lexer": "ipython3",
   "version": "3.12.3"
  },
  "toc": {
   "base_numbering": 1,
   "nav_menu": {},
   "number_sections": true,
   "sideBar": true,
   "skip_h1_title": false,
   "title_cell": "Table of Contents",
   "title_sidebar": "Contents",
   "toc_cell": false,
   "toc_position": {},
   "toc_section_display": true,
   "toc_window_display": false
  },
  "vscode": {
   "interpreter": {
    "hash": "31f2aee4e71d21fbe5cf8b01ff0e069b9275f58929596ceb00d14d90e3e16cd6"
   }
  }
 },
 "nbformat": 4,
 "nbformat_minor": 5
}
