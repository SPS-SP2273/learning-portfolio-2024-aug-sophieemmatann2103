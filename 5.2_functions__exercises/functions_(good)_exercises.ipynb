{
 "cells": [
  {
   "attachments": {},
   "cell_type": "markdown",
   "id": "123456",
   "metadata": {},
   "source": [
    "<div style=\"text-align:left;font-size:2em\"><span style=\"font-weight:bolder;font-size:1.25em\">SP2273 | Learning Portfolio</span><br><br><span style=\"font-weight:bold;color:darkred\">Functions (Good) Exercises</span></div>"
   ]
  },
  {
   "cell_type": "markdown",
   "id": "7dfb17e4-8d1e-432b-a1a8-b1109b415c92",
   "metadata": {},
   "source": [
    "## Exercise 1 (Celsius to Fahrenheit or Kelvin)"
   ]
  },
  {
   "cell_type": "code",
   "execution_count": 3,
   "id": "f0e6202c-a6cb-45e8-8a6c-750d29b3a148",
   "metadata": {},
   "outputs": [],
   "source": [
    "def convert_celsius(temparature_celsius, target_scale = 'Fahrenheit'): \n",
    "    \n",
    "    if target_scale == 'Kelvin':           # conversion to Kelvin\n",
    "        return temperature_celsius + 273.15\n",
    "    \n",
    "    else:                                  # conversion to Farenheit\n",
    "        return (temperature_celsius * 9/5) + 32 "
   ]
  },
  {
   "cell_type": "markdown",
   "id": "c8f7b6d1-bab0-488e-a2a4-3ee2526a0521",
   "metadata": {},
   "source": [
    "## Exercise 2 (Farenheit to Celsius or Kelvin)"
   ]
  },
  {
   "cell_type": "code",
   "execution_count": 5,
   "id": "4a8ee93b-c29f-4efb-a105-cf5cd63a179a",
   "metadata": {},
   "outputs": [],
   "source": [
    "def convert_fahrenheit (temperature_fahrenheit, target_scale = 'Celsius'):\n",
    "\n",
    "    if target_scale == 'Kelvin':           # conversion to Kelvin\n",
    "        return (temperature_fahrenheit - 32) * 5/9 + 273.15\n",
    "        \n",
    "    else:                                  # conversion to Celsius\n",
    "        return (temperature_fahrenheit - 32) * 5/9"
   ]
  },
  {
   "cell_type": "markdown",
   "id": "80442f84-6c2d-4ef3-aabf-6f6497f56ddf",
   "metadata": {},
   "source": [
    "## Exercise 3 (General Temperature Conversion)"
   ]
  },
  {
   "cell_type": "code",
   "execution_count": 6,
   "id": "a7fdcc02-fdb4-4dd6-b4c9-396f5d5ae406",
   "metadata": {},
   "outputs": [],
   "source": [
    "def convert_celsius(temperature_celsius, target_scale = 'Fahrenheit'):\n",
    "   \n",
    "    if target_scale == 'Kelvin':\n",
    "        return temperature_celsius + 273.15\n",
    "    elif target_scale == 'Fahrenheit':\n",
    "        return (temperature_celsius * 9/5) + 32\n",
    "    else:\n",
    "        assert ValueError(\"Invalid target scale. Choose either 'Fahrenheit' or 'Kelvin'.\")\n",
    "\n",
    "\n",
    "def convert_fahrenheit(temperature_fahrenheit, target_scale='Celsius'):\n",
    "\n",
    "    if target_scale == 'Celsius':\n",
    "        return (temperature_fahrenheit - 32) * 5/9\n",
    "    elif target_scale == 'Kelvin':\n",
    "        return (temperature_fahrenheit - 32) * 5/9 + 273.15\n",
    "    else:\n",
    "        assert ValueError(\"Invalid target scale. Choose either 'Celsius' or 'Kelvin'.\")\n",
    "\n",
    "def convert_temperature(temperature, source_scale, target_scale):\n",
    "\n",
    "    if source_scale == target_scale:\n",
    "        return temperature\n",
    "    \n",
    "    if source_scale == 'Celsius':\n",
    "        return convert_celsius(temperature, target_scale)\n",
    "    elif source_scale == 'Fahrenheit':\n",
    "        return convert_fahrenheit(temperature, target_scale)\n",
    "    elif source_scale == 'Kelvin':\n",
    "        if target_scale == 'Celsius':\n",
    "            return temperature - 273.15\n",
    "        elif target_scale == 'Fahrenheit':\n",
    "            return (temperature - 273.15) * 9/5 + 32\n",
    "        else:\n",
    "            assert ValueError(\"Invalid target scale. Choose either 'Celsius', 'Fahrenheit', or 'Kelvin'.\")\n",
    "    else:\n",
    "        assert ValueError(\"Invalid source scale. Choose either 'Celsius', 'Fahrenheit', or 'Kelvin'.\")"
   ]
  }
 ],
 "metadata": {
  "kernelspec": {
   "display_name": "Python 3 (ipykernel)",
   "language": "python",
   "name": "python3"
  },
  "language_info": {
   "codemirror_mode": {
    "name": "ipython",
    "version": 3
   },
   "file_extension": ".py",
   "mimetype": "text/x-python",
   "name": "python",
   "nbconvert_exporter": "python",
   "pygments_lexer": "ipython3",
   "version": "3.12.3"
  },
  "toc": {
   "base_numbering": 1,
   "nav_menu": {},
   "number_sections": true,
   "sideBar": true,
   "skip_h1_title": false,
   "title_cell": "Table of Contents",
   "title_sidebar": "Contents",
   "toc_cell": false,
   "toc_position": {},
   "toc_section_display": true,
   "toc_window_display": false
  },
  "vscode": {
   "interpreter": {
    "hash": "31f2aee4e71d21fbe5cf8b01ff0e069b9275f58929596ceb00d14d90e3e16cd6"
   }
  }
 },
 "nbformat": 4,
 "nbformat_minor": 5
}
