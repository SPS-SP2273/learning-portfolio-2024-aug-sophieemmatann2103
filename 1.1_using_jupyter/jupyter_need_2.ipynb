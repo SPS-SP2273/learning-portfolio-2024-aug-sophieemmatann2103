{
 "cells": [
  {
   "cell_type": "code",
   "execution_count": 19,
   "id": "e5939c69-b424-40fb-bf76-51e3b94c48aa",
   "metadata": {},
   "outputs": [
    {
     "name": "stdout",
     "output_type": "stream",
     "text": [
      "Hello World\n"
     ]
    }
   ],
   "source": [
    "print(\"Hello World\")"
   ]
  },
  {
   "cell_type": "markdown",
   "id": "e39ce2ac-8b09-44ec-9c92-a213312e7663",
   "metadata": {},
   "source": [
    "# This is a Start\n",
    "\n",
    "## Subsection 1\n",
    "\n",
    "### Lol 1\n",
    "\n",
    "The **ships** hung in *the sky* in much the same way that bricks don’t.\n",
    "\n",
    "# Displaying code\n",
    "\n",
    "```python\n",
    "print(\"Hello World\")\n",
    "```\n",
    "\n",
    "# Links \n",
    "[This is my favorite website. Click to find out more :D](https://jellycat.com/)\n",
    "\n",
    "# Images. This is how Kai'Sa looks like\n",
    "\n",
    "![](data:image/jpeg;base64,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)\n",
    "\n",
    "# Tables\n",
    "\n",
    "| A    |  B   |    C |\n",
    "| :--- | :--: | ---: |\n",
    "| a1   |  b1  |   c1 |\n",
    "| a2   |  b2  |   c2 |\n",
    "| a3   |  b3  |   c3 |\n",
    "\n",
    "# Lists \n",
    "\n",
    "1. Master Yoda\n",
    "   1. Was a Jedi\n",
    "   1. Was a bit green\n",
    "1. Luke Skywalker\n",
    "   1. Was a Jedi\n",
    "   1. Is Anakin's son.\n",
    "1. Anakin Skywalker\n",
    "   1. Was a Jedi then became a baddie\n",
    "   1. Is famous for saying 'Luke, I am your father'\n",
    "\n",
    "# Equation\n",
    "\n",
    "$$x = \\dfrac{-b \\pm \\sqrt{b^2-4ac}}{2a}$$\n",
    "\n",
    "This is inline $x = \\dfrac{-b \\pm \\sqrt{b^2-4ac}}{2a}$ in a sentence."
   ]
  },
  {
   "cell_type": "code",
   "execution_count": null,
   "id": "8d10d57c-a4e2-475f-8d3b-2007313f3dba",
   "metadata": {},
   "outputs": [],
   "source": []
  }
 ],
 "metadata": {
  "kernelspec": {
   "display_name": "Python 3 (ipykernel)",
   "language": "python",
   "name": "python3"
  },
  "language_info": {
   "codemirror_mode": {
    "name": "ipython",
    "version": 3
   },
   "file_extension": ".py",
   "mimetype": "text/x-python",
   "name": "python",
   "nbconvert_exporter": "python",
   "pygments_lexer": "ipython3",
   "version": "3.12.3"
  }
 },
 "nbformat": 4,
 "nbformat_minor": 5
}
