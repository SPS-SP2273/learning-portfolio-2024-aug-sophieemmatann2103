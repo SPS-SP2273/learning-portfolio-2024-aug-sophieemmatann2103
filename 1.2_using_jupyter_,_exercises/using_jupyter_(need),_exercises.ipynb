{
 "cells": [
  {
   "attachments": {},
   "cell_type": "markdown",
   "id": "123456",
   "metadata": {},
   "source": [
    "<div style=\"text-align:left;font-size:2em\"><span style=\"font-weight:bolder;font-size:1.25em\">SP2273 | Learning Portfolio</span><br><br><span style=\"font-weight:bold;color:darkred\">Using Jupyter (Need), Exercises 1-3</span></div> "
   ]
  },
  {
   "attachments": {},
   "cell_type": "markdown",
   "id": "7f1e891e",
   "metadata": {},
   "source": [
    "## Exercise 1 Quadratic Equations"
   ]
  },
  {
   "attachments": {},
   "cell_type": "markdown",
   "id": "f53164de",
   "metadata": {},
   "source": [
    "### Introduction"
   ]
  },
  {
   "cell_type": "markdown",
   "id": "255c124f-f700-42d6-b691-cc78f281ba27",
   "metadata": {},
   "source": [
    "![](https://upload.wikimedia.org/wikipedia/commons/thumb/f/f8/Polynomialdeg2.svg/450px-Polynomialdeg2.svg.png)\n",
    "\n",
    "*(Image from the [Wikipedia page on Quadratic equations](https://en.wikipedia.org/wiki/Quadratic_equation))*\n",
    "\n",
    "The general form of a quadratic equation is: \n",
    "\n",
    "$$ax^{2} + bx + c = 0$$"
   ]
  },
  {
   "attachments": {},
   "cell_type": "markdown",
   "id": "63366449",
   "metadata": {},
   "source": [
    "### Solutions"
   ]
  },
  {
   "cell_type": "markdown",
   "id": "d77f0a2e-494e-4703-9286-f1c2812eb9a4",
   "metadata": {},
   "source": [
    "Provided $a \\ne 0$, we can use an elementary algebraic method called [completing the square](https://en.wikipedia.org/wiki/Completing_the_square) to show that a quadratic equation has the following solution: \n",
    "\n",
    "$$x = \\dfrac{-b \\pm \\sqrt{b^2-4ac}}{2a}$$\n"
   ]
  },
  {
   "attachments": {},
   "cell_type": "markdown",
   "id": "480bc611",
   "metadata": {},
   "source": [
    "### Discriminant"
   ]
  },
  {
   "cell_type": "markdown",
   "id": "c354cc0f-247b-46ab-b1b9-0354b801566d",
   "metadata": {},
   "source": [
    "The quantity $\\Delta = b^2 - 4ac$ is called the **discriminant** of the equation and decides the nature of its solutions. The table below shows the various possibilities. \n",
    "\n",
    "|**Discriminant**         |**Roots**                           |\n",
    "|:---                     |:---                                |\n",
    "|$\\Delta = b^2 - 4ac = 0$ |A single solution of $-b/(2a)$      |\n",
    "|$\\Delta = b^2 - 4ac > 0$ |Two distinct solutions              |\n",
    "|$\\Delta = b^2 - 4ac < 0$ |No real solutions; both are complex.|\n"
   ]
  },
  {
   "cell_type": "markdown",
   "id": "5940a501-b3dc-449d-b193-84a6ad346e24",
   "metadata": {},
   "source": [
    "## Exercise 2 (In Your Own Words)\n",
    "\n",
    "1. What is a Git **repository**?\n",
    "- Ans: A Git repository is like a cloud/central storage location for managing and tracking changes in files which our teachers can access to mark/review our work when we join a class group set up by the teacher.\n",
    "2. Git keeps tracks of __BLANK__ in the files in our repository.\n",
    "- Ans: changes\n",
    "3. What is a **commit**?\n",
    "- Ans: A commit is a core building block unit of a Git project timeline.\n",
    "4. What is a **push**?\n",
    "- Ans: A push is uploading whatever file change we make from the Jupyter Notebook website via Github desktop to the GitHub repository.\n",
    "5. What is a **pull**?\n",
    "- Ans: A pull is retrieving the latest file changes made from the repository cloud storage. \n",
    "6. What is the difference between **GitHub** and **GitHub Desktop**?\n",
    "- Ans: GitHub is the repository on the online website where it should contain the latest file changes we have made. GitHub Desktop is an application that is installed in the hardware of our device and is used to make commits and pushes so that the latest files are in the cloud storage on GitHub."
   ]
  },
  {
   "cell_type": "markdown",
   "id": "f1a96405-b4b9-4f96-90f9-0117639b3dce",
   "metadata": {},
   "source": [
    "## Exercise 3 (A Matter of Statistics)"
   ]
  },
  {
   "cell_type": "markdown",
   "id": "c0976684-ffd8-4cc4-a2d3-5ee4efb86368",
   "metadata": {},
   "source": [
    " \n",
    "$$\\mu = \n",
    "\\frac{1}{n}\\sum_{i=1}^{n} x_i\n",
    "$$ \n",
    "\n",
    "$$\\sigma =\n",
    "\\sqrt{\\frac{1}{n}\\sum_{i=1}^{n}(x_i - \\mu)^2}                   \n",
    "$$\n",
    "\n",
    "$$r = \n",
    "\\frac{\\sum_{i=1}^{n}(x_i - \\mu_X)(y_i - \\mu_Y)}\n",
    "{\\sqrt{\\sum_{{i=1}^{n}(x_i - \\mu_X)^2}{\\sum_{i=1}^{n}(y_i - \\mu_Y)^2}}\n",
    "$$"
   ]
  },
  {
   "cell_type": "code",
   "execution_count": null,
   "id": "2ed0b214-fb7c-433d-8f1f-f30a5b76886d",
   "metadata": {},
   "outputs": [],
   "source": []
  }
 ],
 "metadata": {
  "kernelspec": {
   "display_name": "Python 3 (ipykernel)",
   "language": "python",
   "name": "python3"
  },
  "language_info": {
   "codemirror_mode": {
    "name": "ipython",
    "version": 3
   },
   "file_extension": ".py",
   "mimetype": "text/x-python",
   "name": "python",
   "nbconvert_exporter": "python",
   "pygments_lexer": "ipython3",
   "version": "3.12.3"
  },
  "toc": {
   "base_numbering": 1,
   "nav_menu": {},
   "number_sections": true,
   "sideBar": true,
   "skip_h1_title": false,
   "title_cell": "Table of Contents",
   "title_sidebar": "Contents",
   "toc_cell": false,
   "toc_position": {},
   "toc_section_display": true,
   "toc_window_display": false
  },
  "vscode": {
   "interpreter": {
    "hash": "31f2aee4e71d21fbe5cf8b01ff0e069b9275f58929596ceb00d14d90e3e16cd6"
   }
  }
 },
 "nbformat": 4,
 "nbformat_minor": 5
}
