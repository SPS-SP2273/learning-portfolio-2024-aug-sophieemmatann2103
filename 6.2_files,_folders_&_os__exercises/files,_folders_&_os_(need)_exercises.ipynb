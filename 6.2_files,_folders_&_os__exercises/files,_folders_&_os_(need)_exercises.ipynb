{
 "cells": [
  {
   "attachments": {},
   "cell_type": "markdown",
   "id": "123456",
   "metadata": {},
   "source": [
    "<div style=\"text-align:left;font-size:2em\"><span style=\"font-weight:bolder;font-size:1.25em\">SP2273 | Learning Portfolio</span><br><br><span style=\"font-weight:bold;color:darkred\">Files, Folders & OS (Need) Exercises</span></div>"
   ]
  },
  {
   "cell_type": "code",
   "execution_count": 1,
   "id": "276aeabc-8904-4c4d-b69b-4170283dbdbb",
   "metadata": {},
   "outputs": [],
   "source": [
    "import os, glob, shutil"
   ]
  },
  {
   "cell_type": "markdown",
   "id": "74475451-dfbb-4f23-99b6-1115f7526e95",
   "metadata": {},
   "source": [
    "## Task 1"
   ]
  },
  {
   "cell_type": "code",
   "execution_count": 8,
   "id": "4adbb7b2-0eda-4244-97cf-8c2a68be764a",
   "metadata": {},
   "outputs": [
    {
     "name": "stdout",
     "output_type": "stream",
     "text": [
      "10-08-singapore.txt\n"
     ]
    }
   ],
   "source": [
    "dictionary = {\n",
    "'jan': '01', 'feb': '02', 'mar': '03',\n",
    "'apr': '04', 'may': '05', 'jun': '06',\n",
    "'jul': '07', 'aug': '08', 'sep': '09',\n",
    "'oct': '10', 'nov': '11', 'dec': '12'\n",
    "}\n",
    "\n",
    "og_filename = 'oct-08_singapore.txt'   # name the original filename given in the data set\n",
    "\n",
    "month_name, date_city = og_filename.split('-', 1)  # splitting the month, date and city\n",
    "\n",
    "month_in_numbers = dictionary[month_name]    # conversion using the given dictionary\n",
    "\n",
    "new_filename = f'{month_in_numbers}-{date_city.replace('_', '-')}'\n",
    "\n",
    "print(new_filename)"
   ]
  },
  {
   "cell_type": "markdown",
   "id": "d6bf404c-b821-4401-aa82-d92eb6ecb130",
   "metadata": {},
   "source": [
    "## Task 2"
   ]
  },
  {
   "cell_type": "code",
   "execution_count": 10,
   "id": "5933ee52-6513-4510-97d3-d911ef080836",
   "metadata": {},
   "outputs": [],
   "source": [
    "def rename_my_file(old_file_name): \n",
    "    dictionary = {\n",
    "'jan': '01', 'feb': '02', 'mar': '03',\n",
    "'apr': '04', 'may': '05', 'jun': '06',\n",
    "'jul': '07', 'aug': '08', 'sep': '09',\n",
    "'oct': '10', 'nov': '11', 'dec': '12'\n",
    "}\n",
    "\n",
    "    month_name, date_city = old_file_name.split('-', 1)\n",
    "\n",
    "    month_in_numbers = dictionary[month_name]\n",
    "\n",
    "    new_file_name = f'{month_in_numbers}-{date_city.replace('_', '-')}'\n",
    "\n",
    "    return new_file_name"
   ]
  },
  {
   "cell_type": "markdown",
   "id": "2a544e10-5611-4533-8d57-7195f6b6e9f6",
   "metadata": {},
   "source": [
    "## Task 3"
   ]
  },
  {
   "cell_type": "code",
   "execution_count": 13,
   "id": "557ca5e7-55aa-4e0e-bd41-27ebe90b24b1",
   "metadata": {},
   "outputs": [
    {
     "name": "stdout",
     "output_type": "stream",
     "text": [
      "oct-08_singapore.txt ----> 10-08-singapore.txt\n",
      "jul-10_cairo.txt ----> 07-10-cairo.txt\n",
      "may-15_dhaka.txt ----> 05-15-dhaka.txt\n",
      "may-13_cairo.txt ----> 05-13-cairo.txt\n",
      "oct-21_cairo.txt ----> 10-21-cairo.txt\n",
      "jan-10_singapore.txt ----> 01-10-singapore.txt\n",
      "jun-20_tokyo.txt ----> 06-20-tokyo.txt\n",
      "aug-06_jakarta.txt ----> 08-06-jakarta.txt\n",
      "dec-21_karachi.txt ----> 12-21-karachi.txt\n",
      "jan-01_tokyo.txt ----> 01-01-tokyo.txt\n"
     ]
    }
   ],
   "source": [
    "def rename_my_file(old_file_name): \n",
    "    dictionary = {\n",
    "'jan': '01', 'feb': '02', 'mar': '03',\n",
    "'apr': '04', 'may': '05', 'jun': '06',\n",
    "'jul': '07', 'aug': '08', 'sep': '09',\n",
    "'oct': '10', 'nov': '11', 'dec': '12'\n",
    "}\n",
    "\n",
    "    month_name, date_city = old_file_name.split('-', 1)\n",
    "\n",
    "    month_in_numbers = dictionary[month_name]\n",
    "\n",
    "    new_file_name = f'{month_in_numbers}-{date_city.replace('_', '-')}'\n",
    "\n",
    "    return new_file_name\n",
    "\n",
    "# the given list in the question\n",
    "list = ['oct-08_singapore.txt', 'jul-10_cairo.txt', 'may-15_dhaka.txt',\n",
    " 'may-13_cairo.txt', 'oct-21_cairo.txt', 'jan-10_singapore.txt',\n",
    " 'jun-20_tokyo.txt', 'aug-06_jakarta.txt', 'dec-21_karachi.txt',\n",
    " 'jan-01_tokyo.txt']\n",
    "\n",
    "for old_file_name in list: \n",
    "    new_file_name = rename_my_file(old_file_name)\n",
    "    print(f'{old_file_name} ----> {new_file_name}')"
   ]
  },
  {
   "cell_type": "markdown",
   "id": "b9763e3a-63d9-4511-bdb5-875aae573ead",
   "metadata": {},
   "source": [
    "## Task 4"
   ]
  },
  {
   "cell_type": "code",
   "execution_count": 14,
   "id": "0ca35c7f-54d9-4af6-b2b3-727efaaebbb1",
   "metadata": {},
   "outputs": [],
   "source": [
    "def rename_my_file(old_file_name): \n",
    "    dictionary = {\n",
    "'jan': '01', 'feb': '02', 'mar': '03',\n",
    "'apr': '04', 'may': '05', 'jun': '06',\n",
    "'jul': '07', 'aug': '08', 'sep': '09',\n",
    "'oct': '10', 'nov': '11', 'dec': '12'\n",
    "}\n",
    "\n",
    "    base_name = os.path.basename(old_file_name)  # extracting the base filename\n",
    "\n",
    "    month_name, date_city = old_file_name.split('-', 1)\n",
    "\n",
    "    month_in_numbers = month_in_numbers.get(month_name.lower())\n",
    "\n",
    "    if month_in_numbers: \n",
    "        new_file_name = f'{month_in_numbers}-{day_city.replace('_', '-')}'\n",
    "        return new_file_name \n",
    "\n",
    "    else: \n",
    "        return base_name \n",
    "\n",
    "txt_files = glob.glob('*.txt')       # use glob to find all the .txt files in the folder\n",
    "\n",
    "for old_file_name in txt_files:      # use for loop to search each file in the data and rename\n",
    "    new_file_name = rename_my_file(old_file_name)\n",
    "\n",
    "    if new_file_name != os.path.basename(old_filen_name):    # only rename if new filename is different from old one\n",
    "        os.rename(old_file_name, new_file_name)\n",
    "\n",
    "        print(f'{old_file_name}---->{new_file_name}')\n",
    "\n",
    "    else: \n",
    "        print(f'{old_file_name} already in correct format.')"
   ]
  },
  {
   "cell_type": "markdown",
   "id": "d7803769-df35-41f9-aaa8-5502051023ca",
   "metadata": {},
   "source": [
    "## Task 5"
   ]
  },
  {
   "cell_type": "code",
   "execution_count": 39,
   "id": "2fcb8528-1eaf-4ebd-9a8f-89b98bc19155",
   "metadata": {},
   "outputs": [
    {
     "name": "stdout",
     "output_type": "stream",
     "text": [
      "Cairo already exists; skipping creation.\n",
      "Dhaka already exists; skipping creation.\n",
      "Jakarta already exists; skipping creation.\n",
      "Karachi already exists; skipping creation.\n",
      "Manila already exists; skipping creation.\n",
      "Melbourne already exists; skipping creation.\n",
      "Osaka already exists; skipping creation.\n",
      "Shanghai already exists; skipping creation.\n",
      "Singapore already exists; skipping creation.\n",
      "Tokyo already exists; skipping creation.\n"
     ]
    }
   ],
   "source": [
    "list_cities = ['Cairo', 'Dhaka', 'Jakarta', 'Karachi', 'Manila',\n",
    "               'Melbourne', 'Osaka', 'Shanghai', 'Singapore', 'Tokyo']\n",
    "\n",
    "\n",
    "for city in list_cities:   \n",
    "    if os.path.exists(city):         # check if folder exists or not\n",
    "        print(f'{city} already exists; skipping creation.')\n",
    "    else:                            # create a folder for the city \n",
    "        os.mkdir(city) \n",
    "        print(f'Folder created for city: {city}')\n"
   ]
  },
  {
   "cell_type": "markdown",
   "id": "8fbbe07b-c6d8-455e-9179-06e7fc52cee0",
   "metadata": {},
   "source": [
    "## Task 6"
   ]
  },
  {
   "cell_type": "code",
   "execution_count": 42,
   "id": "e2f8e46f-0e66-4962-8076-6069737a1fda",
   "metadata": {},
   "outputs": [
    {
     "name": "stdout",
     "output_type": "stream",
     "text": [
      "Files related to Cairo: []\n"
     ]
    }
   ],
   "source": [
    "list_cities = ['Cairo', 'Dhaka', 'Jakarta', 'Karachi', 'Manila',\n",
    "               'Melbourne', 'Osaka', 'Shanghai', 'Singapore', 'Tokyo']\n",
    "\n",
    "for city in list_cities:\n",
    "    os.makedirs(city, exist_ok=True)  # create folder if it doesn't exist\n",
    "\n",
    "cairo_files = glob.glob('*cairo*.txt')    # list all files related to cairo\n",
    "\n",
    "print('Files related to Cairo:', cairo_files)\n",
    "\n",
    "for file in cairo_files:                # copy all cairo-related files to the \"cairo\" folder\n",
    "    corresponding_folder = 'Cairo'\n",
    "    shutil.copy(file, corresponding_folder)\n",
    "    print(f'Copied {file} to {corresponding_folder}/')"
   ]
  },
  {
   "cell_type": "markdown",
   "id": "df12a38c-9978-43b0-b790-a78662c6f765",
   "metadata": {},
   "source": [
    "## Task 7"
   ]
  },
  {
   "cell_type": "code",
   "execution_count": 43,
   "id": "f2c40a55-e1c0-4b29-8dd6-bcafcac56750",
   "metadata": {},
   "outputs": [
    {
     "name": "stdout",
     "output_type": "stream",
     "text": [
      "Cairo related files: []\n",
      "Dhaka related files: []\n",
      "Jakarta related files: []\n",
      "Karachi related files: []\n",
      "Manila related files: []\n",
      "Melbourne related files: []\n",
      "Osaka related files: []\n",
      "Shanghai related files: []\n",
      "Singapore related files: []\n",
      "Tokyo related files: []\n"
     ]
    }
   ],
   "source": [
    "list_cities = ['Cairo', 'Dhaka', 'Jakarta', 'Karachi', 'Manila',\n",
    "               'Melbourne', 'Osaka', 'Shanghai', 'Singapore', 'Tokyo']\n",
    "\n",
    "for city in list_cities:\n",
    "    os.makedirs(city, exist_ok=True)  # create folder if it doesn't exist\n",
    "\n",
    "# iterate over each city and move related files to the corresponding folder\n",
    "for city in list_cities:\n",
    "    # list all files related to the current city using glob\n",
    "    city_files = glob.glob(f'*{city.lower()}*.txt')  \n",
    "    \n",
    "    print(f'{city} related files:', city_files)\n",
    "    \n",
    "    # move all related files to the corresponding city folder\n",
    "    for file in city_files:\n",
    "        destination_folder = city\n",
    "        shutil.move(file, destination_folder)\n",
    "        print(f'Moved {file} to {destination_folder}/')"
   ]
  }
 ],
 "metadata": {
  "kernelspec": {
   "display_name": "Python 3 (ipykernel)",
   "language": "python",
   "name": "python3"
  },
  "language_info": {
   "codemirror_mode": {
    "name": "ipython",
    "version": 3
   },
   "file_extension": ".py",
   "mimetype": "text/x-python",
   "name": "python",
   "nbconvert_exporter": "python",
   "pygments_lexer": "ipython3",
   "version": "3.12.3"
  },
  "toc": {
   "base_numbering": 1,
   "nav_menu": {},
   "number_sections": true,
   "sideBar": true,
   "skip_h1_title": false,
   "title_cell": "Table of Contents",
   "title_sidebar": "Contents",
   "toc_cell": false,
   "toc_position": {},
   "toc_section_display": true,
   "toc_window_display": false
  },
  "vscode": {
   "interpreter": {
    "hash": "31f2aee4e71d21fbe5cf8b01ff0e069b9275f58929596ceb00d14d90e3e16cd6"
   }
  }
 },
 "nbformat": 4,
 "nbformat_minor": 5
}
