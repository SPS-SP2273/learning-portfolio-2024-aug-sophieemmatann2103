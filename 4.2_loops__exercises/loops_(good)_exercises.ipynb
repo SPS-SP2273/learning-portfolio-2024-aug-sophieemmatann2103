{
 "cells": [
  {
   "attachments": {},
   "cell_type": "markdown",
   "id": "123456",
   "metadata": {},
   "source": [
    "<div style=\"text-align:left;font-size:2em\"><span style=\"font-weight:bolder;font-size:1.25em\">SP2273 | Learning Portfolio</span><br><br><span style=\"font-weight:bold;color:darkred\">Loops (Good) Exercises</span></div>"
   ]
  },
  {
   "cell_type": "markdown",
   "id": "bbe3ed93-eaba-4215-9946-be65c98e4a8e",
   "metadata": {},
   "source": [
    "## Exercise 1 (Make me an odd list)"
   ]
  },
  {
   "cell_type": "code",
   "execution_count": 40,
   "id": "c473b22b-717f-4f4d-8a37-064f24cb03f9",
   "metadata": {},
   "outputs": [
    {
     "name": "stdout",
     "output_type": "stream",
     "text": [
      "[1, 9, 25, 49, 81]\n"
     ]
    }
   ],
   "source": [
    "# Creating empty list to store the squares of the odd integers\n",
    "odd_squares = []\n",
    "\n",
    "for number in range(10): \n",
    "    if number % 2 ==0:       # Check to see number after squared is even or odd\n",
    "        continue \n",
    "    odd_squares.append(number**2)\n",
    "\n",
    "print(odd_squares)"
   ]
  },
  {
   "cell_type": "markdown",
   "id": "1cd61214-3637-4b59-b223-525cf13d1117",
   "metadata": {},
   "source": [
    "## Exercise 2 (Make me another odd list)"
   ]
  },
  {
   "cell_type": "code",
   "execution_count": 44,
   "id": "ff7e723a-d6a4-42d4-8a46-838c430309bc",
   "metadata": {},
   "outputs": [
    {
     "data": {
      "text/plain": [
       "[1, 9, 25, 49, 81]"
      ]
     },
     "execution_count": 44,
     "metadata": {},
     "output_type": "execute_result"
    }
   ],
   "source": [
    "[number**2 for number in range(10) if number % 2 != 0]  # Printing only if number is odd"
   ]
  },
  {
   "cell_type": "markdown",
   "id": "684ea606-52d1-4b48-b7ee-d1f184be7a99",
   "metadata": {},
   "source": [
    "## Exercise 3 (Time me!)"
   ]
  },
  {
   "cell_type": "code",
   "execution_count": 42,
   "id": "1ada042e-113c-46a6-9b25-41b173cb1e70",
   "metadata": {},
   "outputs": [
    {
     "name": "stdout",
     "output_type": "stream",
     "text": [
      "1.76 μs ± 26 ns per loop (mean ± std. dev. of 7 runs, 1,000,000 loops each)\n"
     ]
    }
   ],
   "source": [
    "%%timeit\n",
    "\n",
    "# Creating empty list to store the squares of the odd integers\n",
    "odd_squares = []\n",
    "\n",
    "for number in range(10): \n",
    "    if number % 2 ==0:       # Check to see number after squared is even or odd\n",
    "        continue \n",
    "    odd_squares.append(number**2)"
   ]
  },
  {
   "cell_type": "code",
   "execution_count": 43,
   "id": "083a8bd3-1ad1-4ecc-b456-0f0737bed8f7",
   "metadata": {},
   "outputs": [
    {
     "name": "stdout",
     "output_type": "stream",
     "text": [
      "1.62 μs ± 11.3 ns per loop (mean ± std. dev. of 7 runs, 1,000,000 loops each)\n"
     ]
    }
   ],
   "source": [
    "%%timeit\n",
    "\n",
    "[number**2 for number in range(10) if number % 2 != 0]    "
   ]
  },
  {
   "cell_type": "markdown",
   "id": "63e56c70-6374-4551-9107-92c6d188ab11",
   "metadata": {},
   "source": [
    "This shows that the secon option using list comprehension is faster."
   ]
  },
  {
   "cell_type": "markdown",
   "id": "fe59f237-4eff-4b60-844e-a0d11d8b884c",
   "metadata": {},
   "source": [
    "## Exercise 4 (A problem of decay)"
   ]
  },
  {
   "cell_type": "code",
   "execution_count": 45,
   "id": "87719163-0c61-4294-865c-c2115faa0c68",
   "metadata": {},
   "outputs": [
    {
     "name": "stdout",
     "output_type": "stream",
     "text": [
      "It takes 14 years for the substance to decay to half its original amount.\n"
     ]
    }
   ],
   "source": [
    "# Come up with variables\n",
    "initial_quantity = 100\n",
    "decay_rate = 0.05\n",
    "current_quantity = initial_quantity\n",
    "target_quantity = initial_quantity / 2\n",
    "years = 0\n",
    "\n",
    "# Using the while loop until current quantity is less than or equal to the target\n",
    "while current_quantity > target_quantity:\n",
    "    \n",
    "    # Apply the decay\n",
    "    current_quantity -= current_quantity * decay_rate\n",
    "    \n",
    "    # Increment the year count\n",
    "    years += 1\n",
    "\n",
    "print(f\"It takes {years} years for the substance to decay to half its original amount.\")"
   ]
  },
  {
   "cell_type": "markdown",
   "id": "8a9419e1-7496-4774-a40f-7d33980fef58",
   "metadata": {},
   "source": [
    "## Exercise 5 (Changes in Carbon Dioxide)"
   ]
  },
  {
   "cell_type": "code",
   "execution_count": 46,
   "id": "35775e67-4d3c-4a94-bd7e-49e8ac6bf2a2",
   "metadata": {},
   "outputs": [],
   "source": [
    "co2_data = [\n",
    "    (2000, 369.55), (2001, 371.14), (2002, 373.28), \n",
    "    (2003, 375.80), (2004, 377.52), (2005, 379.80), \n",
    "    (2006, 381.90), (2007, 383.79), (2008, 385.60), \n",
    "    (2009, 387.43), (2010, 389.90), (2011, 391.65), \n",
    "    (2012, 393.85), (2013, 396.52), (2014, 398.65),\n",
    "    (2015, 400.83), (2016, 404.24), (2017, 406.55), \n",
    "    (2018, 408.52), (2019, 411.44), (2020, 414.24)\n",
    "]"
   ]
  },
  {
   "cell_type": "code",
   "execution_count": 47,
   "id": "f2b942de-0c3f-4789-af98-ab0850b0d3d4",
   "metadata": {},
   "outputs": [],
   "source": [
    "import numpy as np"
   ]
  },
  {
   "cell_type": "code",
   "execution_count": 52,
   "id": "dcaaa70c-fc08-4c98-ad49-ee84b4abba11",
   "metadata": {},
   "outputs": [
    {
     "name": "stdout",
     "output_type": "stream",
     "text": [
      "Year: 2016, Increase in CO2 level: 3.41 ppm\n"
     ]
    }
   ],
   "source": [
    "# Creat empty list to store results\n",
    "increased_years = []\n",
    "\n",
    "# Loop through the data starting from the second year\n",
    "for i in range(1, len(co2_data)):\n",
    "    current_year, current_level = co2_data[i]\n",
    "    previous_year, previous_level = co2_data[i - 1]\n",
    "    \n",
    "    # Calculate the change in CO2 levels\n",
    "    change = current_level - previous_level\n",
    "    \n",
    "    # Check if the change is 3 ppm or more\n",
    "    if change >= 3:\n",
    "        increased_years.append((current_year, change))\n",
    "\n",
    "# Print the results\n",
    "for year, change in increased_years:\n",
    "    print(f\"Year: {year}, Increase in CO2 level: {change:.2f} ppm\")"
   ]
  }
 ],
 "metadata": {
  "kernelspec": {
   "display_name": "Python 3 (ipykernel)",
   "language": "python",
   "name": "python3"
  },
  "language_info": {
   "codemirror_mode": {
    "name": "ipython",
    "version": 3
   },
   "file_extension": ".py",
   "mimetype": "text/x-python",
   "name": "python",
   "nbconvert_exporter": "python",
   "pygments_lexer": "ipython3",
   "version": "3.12.3"
  },
  "toc": {
   "base_numbering": 1,
   "nav_menu": {},
   "number_sections": true,
   "sideBar": true,
   "skip_h1_title": false,
   "title_cell": "Table of Contents",
   "title_sidebar": "Contents",
   "toc_cell": false,
   "toc_position": {},
   "toc_section_display": true,
   "toc_window_display": false
  },
  "vscode": {
   "interpreter": {
    "hash": "31f2aee4e71d21fbe5cf8b01ff0e069b9275f58929596ceb00d14d90e3e16cd6"
   }
  }
 },
 "nbformat": 4,
 "nbformat_minor": 5
}
