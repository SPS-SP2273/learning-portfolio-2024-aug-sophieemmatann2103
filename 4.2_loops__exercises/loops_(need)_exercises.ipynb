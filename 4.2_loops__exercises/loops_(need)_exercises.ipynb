{
 "cells": [
  {
   "attachments": {},
   "cell_type": "markdown",
   "id": "123456",
   "metadata": {},
   "source": [
    "<div style=\"text-align:left;font-size:2em\"><span style=\"font-weight:bolder;font-size:1.25em\">SP2273 | Learning Portfolio</span><br><br><span style=\"font-weight:bold;color:darkred\">Loops (Need) Exercises</span></div>"
   ]
  },
  {
   "cell_type": "markdown",
   "id": "cecd698b-837e-4cfb-a110-2689a19c9b2e",
   "metadata": {},
   "source": [
    "## Exercise 1 (Celsius to Fahrenheit)"
   ]
  },
  {
   "cell_type": "code",
   "execution_count": 20,
   "id": "85af4e3f-adfd-4df1-a082-e5cfbc09f501",
   "metadata": {},
   "outputs": [
    {
     "name": "stdout",
     "output_type": "stream",
     "text": [
      "0 degree Celsius ---> 32.0 in Farenheit\n",
      "5 degree Celsius ---> 41.0 in Farenheit\n",
      "10 degree Celsius ---> 50.0 in Farenheit\n",
      "15 degree Celsius ---> 59.0 in Farenheit\n",
      "20 degree Celsius ---> 68.0 in Farenheit\n",
      "25 degree Celsius ---> 77.0 in Farenheit\n",
      "30 degree Celsius ---> 86.0 in Farenheit\n",
      "35 degree Celsius ---> 95.0 in Farenheit\n",
      "40 degree Celsius ---> 104.0 in Farenheit\n",
      "45 degree Celsius ---> 113.0 in Farenheit\n",
      "50 degree Celsius ---> 122.0 in Farenheit\n"
     ]
    }
   ],
   "source": [
    "def celsius_to_farenheit(celsius):\n",
    "    return (celsius * 9/5) + 32\n",
    "\n",
    "temperatures_celsius = [\n",
    "    0, 5, 10, 15, 20, 25,\n",
    "    30, 35, 40, 45, 50\n",
    "]\n",
    "\n",
    "# conversion and printing temps\n",
    "for temp_c in temperatures_celsius: \n",
    "    temp_f = celsius_to_farenheit(temp_c)\n",
    "    print (f\"{temp_c} degree Celsius ---> {temp_f:.1f} in Farenheit\")"
   ]
  },
  {
   "cell_type": "markdown",
   "id": "d0cee9bf-919e-4c8e-9b02-3344242140a7",
   "metadata": {},
   "source": [
    "## Exercise 2"
   ]
  },
  {
   "cell_type": "code",
   "execution_count": 23,
   "id": "8b8ed3e6-994d-4e2b-ae2f-d1edc371e9bb",
   "metadata": {},
   "outputs": [
    {
     "name": "stdout",
     "output_type": "stream",
     "text": [
      "11\n",
      "12\n",
      "13\n",
      "14\n",
      "15\n",
      "\n",
      "\n",
      "21\n",
      "22\n",
      "23\n",
      "24\n",
      "25\n",
      "\n",
      "\n",
      "31\n",
      "32\n",
      "33\n",
      "34\n",
      "35\n",
      "\n",
      "\n",
      "41\n",
      "42\n",
      "43\n",
      "44\n",
      "45\n",
      "\n",
      "\n",
      "51\n",
      "52\n",
      "53\n",
      "54\n",
      "55\n",
      "\n",
      "\n"
     ]
    }
   ],
   "source": [
    "for row in ['1', '2', '3', '4', '5']:\n",
    "    for column in [1, 2, 3, 4, 5]: \n",
    "        print (f'{row}{column}')\n",
    "    print ('\\n')"
   ]
  },
  {
   "cell_type": "code",
   "execution_count": null,
   "id": "daf7ab28-e55b-4e33-a044-5cd7c69304bd",
   "metadata": {},
   "outputs": [],
   "source": []
  },
  {
   "cell_type": "code",
   "execution_count": null,
   "id": "1f2b50c8-3981-4efa-aa8b-5fe8816f8e7e",
   "metadata": {},
   "outputs": [],
   "source": []
  },
  {
   "cell_type": "code",
   "execution_count": null,
   "id": "0cdb392e-55a1-4103-8690-f4568ff03a60",
   "metadata": {},
   "outputs": [],
   "source": []
  }
 ],
 "metadata": {
  "kernelspec": {
   "display_name": "Python 3 (ipykernel)",
   "language": "python",
   "name": "python3"
  },
  "language_info": {
   "codemirror_mode": {
    "name": "ipython",
    "version": 3
   },
   "file_extension": ".py",
   "mimetype": "text/x-python",
   "name": "python",
   "nbconvert_exporter": "python",
   "pygments_lexer": "ipython3",
   "version": "3.12.3"
  },
  "toc": {
   "base_numbering": 1,
   "nav_menu": {},
   "number_sections": true,
   "sideBar": true,
   "skip_h1_title": false,
   "title_cell": "Table of Contents",
   "title_sidebar": "Contents",
   "toc_cell": false,
   "toc_position": {},
   "toc_section_display": true,
   "toc_window_display": false
  },
  "vscode": {
   "interpreter": {
    "hash": "31f2aee4e71d21fbe5cf8b01ff0e069b9275f58929596ceb00d14d90e3e16cd6"
   }
  }
 },
 "nbformat": 4,
 "nbformat_minor": 5
}
