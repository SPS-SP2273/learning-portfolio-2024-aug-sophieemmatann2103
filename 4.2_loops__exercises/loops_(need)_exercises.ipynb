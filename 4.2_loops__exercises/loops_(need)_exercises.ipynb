{
 "cells": [
  {
   "attachments": {},
   "cell_type": "markdown",
   "id": "123456",
   "metadata": {},
   "source": [
    "<div style=\"text-align:left;font-size:2em\"><span style=\"font-weight:bolder;font-size:1.25em\">SP2273 | Learning Portfolio</span><br><br><span style=\"font-weight:bold;color:darkred\">Loops (Need) Exercises</span></div>"
   ]
  },
  {
   "cell_type": "markdown",
   "id": "cecd698b-837e-4cfb-a110-2689a19c9b2e",
   "metadata": {},
   "source": [
    "## Exercise 1 (Celsius to Fahrenheit)"
   ]
  },
  {
   "cell_type": "code",
   "execution_count": 20,
   "id": "85af4e3f-adfd-4df1-a082-e5cfbc09f501",
   "metadata": {},
   "outputs": [
    {
     "name": "stdout",
     "output_type": "stream",
     "text": [
      "0 degree Celsius ---> 32.0 in Farenheit\n",
      "5 degree Celsius ---> 41.0 in Farenheit\n",
      "10 degree Celsius ---> 50.0 in Farenheit\n",
      "15 degree Celsius ---> 59.0 in Farenheit\n",
      "20 degree Celsius ---> 68.0 in Farenheit\n",
      "25 degree Celsius ---> 77.0 in Farenheit\n",
      "30 degree Celsius ---> 86.0 in Farenheit\n",
      "35 degree Celsius ---> 95.0 in Farenheit\n",
      "40 degree Celsius ---> 104.0 in Farenheit\n",
      "45 degree Celsius ---> 113.0 in Farenheit\n",
      "50 degree Celsius ---> 122.0 in Farenheit\n"
     ]
    }
   ],
   "source": [
    "def celsius_to_farenheit(celsius):\n",
    "    return (celsius * 9/5) + 32\n",
    "\n",
    "temperatures_celsius = [\n",
    "    0, 5, 10, 15, 20, 25,\n",
    "    30, 35, 40, 45, 50\n",
    "]\n",
    "\n",
    "# conversion and printing temps\n",
    "for temp_c in temperatures_celsius: \n",
    "    temp_f = celsius_to_farenheit(temp_c)\n",
    "    print (f\"{temp_c} degree Celsius ---> {temp_f:.1f} in Farenheit\")"
   ]
  },
  {
   "cell_type": "markdown",
   "id": "d0cee9bf-919e-4c8e-9b02-3344242140a7",
   "metadata": {},
   "source": [
    "## Exercise 2 (Multiplication Table)"
   ]
  },
  {
   "cell_type": "code",
   "execution_count": 8,
   "id": "8b8ed3e6-994d-4e2b-ae2f-d1edc371e9bb",
   "metadata": {},
   "outputs": [
    {
     "name": "stdout",
     "output_type": "stream",
     "text": [
      "1: 1   2   3   4   5   \n",
      "2: 2   4   6   8   10  \n",
      "3: 3   6   9   12  15  \n",
      "4: 4   8   12  16  20  \n",
      "5: 5   10  15  20  25  \n"
     ]
    }
   ],
   "source": [
    "# Create the outer loop for the rows (1-5)\n",
    "\n",
    "for row in range (1,6):\n",
    "    print(f'{row}:', end =' ')\n",
    "\n",
    "# Create the inner loop for the columns (1-5)\n",
    "    for column in range (1,6):\n",
    "        print (f'{row * column:<4}', end='')      # < 3 to align numbers with width of 4 spaces\n",
    "\n",
    "# This is for a new line after each row\n",
    "    print()"
   ]
  },
  {
   "cell_type": "markdown",
   "id": "adc299ce-fb0f-46c9-a452-fadbe007e851",
   "metadata": {},
   "source": [
    "## Exercise 3 (Stimulating a Coin Flip Experiment)"
   ]
  },
  {
   "cell_type": "code",
   "execution_count": 13,
   "id": "da62a5af-3d27-43d0-bd54-429519e826b5",
   "metadata": {},
   "outputs": [],
   "source": [
    "import numpy as np"
   ]
  },
  {
   "cell_type": "code",
   "execution_count": 20,
   "id": "1c4625d9-a201-435e-8590-74fbe31d8556",
   "metadata": {},
   "outputs": [
    {
     "data": {
      "text/plain": [
       "array([0.05065117, 0.54336192, 0.95387716, 0.91150524, 0.25293958,\n",
       "       0.64238403, 0.58412996, 0.60323508, 0.09223927, 0.12776452])"
      ]
     },
     "execution_count": 20,
     "metadata": {},
     "output_type": "execute_result"
    }
   ],
   "source": [
    "np.random.rand(10)"
   ]
  },
  {
   "cell_type": "code",
   "execution_count": 25,
   "id": "1f2b50c8-3981-4efa-aa8b-5fe8816f8e7e",
   "metadata": {},
   "outputs": [
    {
     "name": "stdout",
     "output_type": "stream",
     "text": [
      "Experiment 1: No. of Heads = 3\n",
      "Experiment 2: No. of Heads = 5\n",
      "Experiment 3: No. of Heads = 7\n",
      "Experiment 4: No. of Heads = 5\n",
      "Experiment 5: No. of Heads = 4\n",
      "Experiment 6: No. of Heads = 3\n",
      "Experiment 7: No. of Heads = 5\n",
      "Experiment 8: No. of Heads = 7\n",
      "Experiment 9: No. of Heads = 5\n",
      "Experiment 10: No. of Heads = 3\n"
     ]
    }
   ],
   "source": [
    "import random\n",
    "\n",
    "# Defining the number of experiments and flips per experiment\n",
    "number_of_experiments = 10\n",
    "flips_per_experiment = 10\n",
    "\n",
    "# Creating the for loop (main outer loop)\n",
    "for experiment in range(1, number_of_experiments + 1):\n",
    "    \n",
    "    # Simulating 10 coin flips and count the number of heads (inner loop)\n",
    "    heads_count = sum(random.choice([0, 1]) for _ in range(flips_per_experiment))\n",
    "    \n",
    "    # Print the result for each experiment\n",
    "    print(f\"Experiment {experiment}: No. of Heads = {heads_count}\")\n"
   ]
  },
  {
   "cell_type": "code",
   "execution_count": null,
   "id": "57828e68-3a3e-42e9-9e59-5caeb6055ee6",
   "metadata": {},
   "outputs": [],
   "source": []
  }
 ],
 "metadata": {
  "kernelspec": {
   "display_name": "Python 3 (ipykernel)",
   "language": "python",
   "name": "python3"
  },
  "language_info": {
   "codemirror_mode": {
    "name": "ipython",
    "version": 3
   },
   "file_extension": ".py",
   "mimetype": "text/x-python",
   "name": "python",
   "nbconvert_exporter": "python",
   "pygments_lexer": "ipython3",
   "version": "3.12.3"
  },
  "toc": {
   "base_numbering": 1,
   "nav_menu": {},
   "number_sections": true,
   "sideBar": true,
   "skip_h1_title": false,
   "title_cell": "Table of Contents",
   "title_sidebar": "Contents",
   "toc_cell": false,
   "toc_position": {},
   "toc_section_display": true,
   "toc_window_display": false
  },
  "vscode": {
   "interpreter": {
    "hash": "31f2aee4e71d21fbe5cf8b01ff0e069b9275f58929596ceb00d14d90e3e16cd6"
   }
  }
 },
 "nbformat": 4,
 "nbformat_minor": 5
}
